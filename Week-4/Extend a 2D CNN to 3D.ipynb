{
 "cells": [
  {
   "cell_type": "markdown",
   "id": "01dcd9fc-1e92-47ff-b4e4-5b2a896520c1",
   "metadata": {},
   "source": [
    "# Part 1: Extend a 2D CNN to 3D"
   ]
  },
  {
   "cell_type": "markdown",
   "id": "53c19c0f-7384-4bff-83d1-1e485a7590d0",
   "metadata": {},
   "source": [
    "Last week, we trained a 2D convolutional neural network (CNN) on slices of a subset of the ACDC dataset.\n",
    "\n",
    "This week, we will train a **3D** CNN on the **entire** (3D) images of the **whole** ACDC dataset.\n",
    "\n",
    "\n",
    "You can reuse and modify the code from last week to solve this week's task. Specifically, you'll need to:\n",
    "1. [**Data**]. Make a train-validation-test split that uses all the training set.\n",
    "2. [**Model**]. Extend the model to 3D (*hint: read MONAI's documentation if needed*).\n",
    "3. [**Training**]. Since we'll train on the whole 3D images, you don't need to extract slices from the images.\n",
    "4. [**Inference**]. *Hint: Remember that now, the model produces 3D images directly*\n",
    "5. [**Metrics**]. In addition to Dice coefficient, use other metrics that you think might be relevant now. You can use the metrics from MONAI or from medpy.metrics (the latter is probably easier)."
   ]
  },
  {
   "cell_type": "code",
   "execution_count": 57,
   "id": "22572944-ca84-4fb0-85e1-022414c63548",
   "metadata": {},
   "outputs": [],
   "source": [
    "import matplotlib.pyplot as plt\n",
    "import monai\n",
    "import numpy as np\n",
    "import torch\n",
    "from monai.data import DataLoader, Dataset\n",
    "from pathlib import Path\n",
    "from monai.transforms.utils import allow_missing_keys_mode\n",
    "from monai.transforms import BatchInverseTransform\n",
    "from monai.networks.nets import DynUNet\n",
    "import nibabel as nib\n",
    "from tqdm import tqdm\n",
    "import medpy.metric as metric"
   ]
  },
  {
   "cell_type": "markdown",
   "id": "93559408-d4a7-4904-9826-48663c9078a6",
   "metadata": {},
   "source": [
    "## 1.1 Data: Train-validation-test splits\n",
    "\n",
    "> ---\n",
    "> **Task:** Make a train-validation-test split (70-10-20) that uses **all** the training set (100 patients).\n",
    ">\n",
    "> **Important remark**: the parameters `first_id` and `last_id` of `getPatientData` function look at the patients id, which, as you can see in the `DATA_PATH` folder, starts with \"patient001\". In other words, if you want to create a dataset with the images from the 100 patients, you need to call the function in the following way: `getPatientData(dataset_path=..., first_id=1, last_id=100)`.\n",
    "> \n",
    "> ---\n",
    "> \n"
   ]
  },
  {
   "cell_type": "code",
   "id": "735b6f95-a93e-4bc0-bcce-2e7b0e9c5a12",
   "metadata": {
    "jupyter": {
     "is_executing": true
    }
   },
   "source": [
    "def get_patient_data(dataset_path: Path, first_id: int, last_id: int):\n",
    "    dataset = []\n",
    "    for i in range(first_id, last_id+1):\n",
    "        patient_id = f'patient{str(i).zfill(3)}'\n",
    "        tmp_path = dataset_path / patient_id\n",
    "        for path_frame in tmp_path.glob(\"*frame[0-9][0-9].nii.gz\"):\n",
    "            dataset.append({'image': str(path_frame),\n",
    "                            'label': str(path_frame).replace(\".nii.gz\", \"_gt.nii.gz\"),\n",
    "                            'id': path_frame.name.split(\".\")[0]})\n",
    "    return dataset\n",
    "\n",
    "DATA_PATH = \"data/ACDC17\"\n",
    "\n",
    "# 1. Data. Make a 70-10-20% train-validation-test split here\n",
    "train_files = get_patient_data(dataset_path=Path(DATA_PATH),\n",
    "                            first_id=1, last_id=70)\n",
    "val_files = get_patient_data(dataset_path=Path(DATA_PATH),\n",
    "                            first_id=71, last_id=80)  \n",
    "test_files = get_patient_data(dataset_path=Path(DATA_PATH),\n",
    "                            first_id=81, last_id=100)\n",
    "train_files[0]"
   ],
   "outputs": [],
   "execution_count": null
  },
  {
   "cell_type": "code",
   "id": "564e1036-c622-440e-aaed-efcf7ce613ef",
   "metadata": {
    "jupyter": {
     "is_executing": true
    }
   },
   "source": [
    "# Verifying that your train-validation-test split is using the whole dataset\n",
    "messages = []\n",
    "if len(train_files) == 70*2:\n",
    "    messages.append(\"✅ Training set size\")\n",
    "else:\n",
    "    messages.append(\"❌ The training set must consist of the images of 70 patients (140 images in total)\")\n",
    "    \n",
    "if len(val_files) == 10*2:\n",
    "    messages.append(\"✅ Validation set size\")\n",
    "else:\n",
    "    messages.append(\"❌ The validation set must consist of the images of 10 patients (20 images in total)\")\n",
    "    \n",
    "if len(test_files) == 20*2:\n",
    "    messages.append(\"✅ Test set size\")\n",
    "else:\n",
    "    messages.append(\"❌ The test set must consist of the images of 20 patients (40 images in total)\")\n",
    "\n",
    "allimages = set()\n",
    "for im in train_files + val_files + test_files:\n",
    "    allimages.add(im['image'])\n",
    "if len(allimages) != 100*2:\n",
    "    messages.append(\"❌ There should be 200 *unique* images in the train, validation and test sets\")\n",
    "\n",
    "for m in messages:\n",
    "    print(m)"
   ],
   "outputs": [],
   "execution_count": null
  },
  {
   "cell_type": "markdown",
   "id": "58688d8a-90c4-4d0c-9724-ac4c047a3966",
   "metadata": {},
   "source": [
    "## 1.2 Model\n",
    "\n",
    "> ---\n",
    "> **Task:** Extend last week's model to 3D. Check MONAI's documentation for this: https://docs.monai.io/en/stable/networks.html#nets\n",
    "> \n",
    "> ---\n",
    "> "
   ]
  },
  {
   "cell_type": "code",
   "execution_count": 60,
   "id": "fd24fedd-f4dd-4ffd-a876-136f333a0b8a",
   "metadata": {},
   "outputs": [],
   "source": [
    "# 2. Model. Extend the model to 3D \n",
    "model = DynUNet(\n",
    "    spatial_dims = 3,\n",
    "    in_channels = 1, \n",
    "    out_channels = 4,\n",
    "    kernel_size = [3, 3, 3, 3, 3, 3],\n",
    "    strides = [1, 2, 2, 2, 2, 2], \n",
    "    upsample_kernel_size = [2, 2, 2, 2, 2]\n",
    ").cuda()"
   ]
  },
  {
   "cell_type": "code",
   "execution_count": 61,
   "id": "0322fcb8-bec5-4c0d-ab60-48d621302827",
   "metadata": {},
   "outputs": [
    {
     "name": "stdout",
     "output_type": "stream",
     "text": [
      "✅ Your model seem to be 3D\n"
     ]
    }
   ],
   "source": [
    "# Verifying that your model is 3D\n",
    "err = False\n",
    "for name, W in model.named_parameters():\n",
    "    if 'conv.weight' in name:\n",
    "        if len(W.shape) != 5:\n",
    "            err = True\n",
    "            break\n",
    "if err:\n",
    "    print(\"❌ Your model doesn't seem to be 3D\")\n",
    "else:\n",
    "    print(\"✅ Your model seem to be 3D\")"
   ]
  },
  {
   "cell_type": "markdown",
   "id": "1654191f-ad16-4f84-926b-e72d947029e5",
   "metadata": {},
   "source": [
    "## 1.3 Training\n",
    "> ---\n",
    "> **Task:** Gather the relevant preprocessing and data-augmentation transforms for training your 3D CNN model on 3D images.\n",
    "> \n",
    "> ---\n",
    "> "
   ]
  },
  {
   "cell_type": "code",
   "execution_count": 62,
   "id": "d87c8be2-1d02-47f8-a495-beeaa5d06861",
   "metadata": {},
   "outputs": [
    {
     "name": "stdout",
     "output_type": "stream",
     "text": [
      "smallestVoxelDims [0.703125 0.703125 5.      ]\n",
      "largestVoxelDims [ 1.91964  1.91964 10.     ]\n",
      "smallestImDims [154 154   6]\n",
      "largestImDims [428 512  18]\n"
     ]
    }
   ],
   "source": [
    "allFiles = train_files + val_files + test_files\n",
    "\n",
    "# 1) Create an empty list that will contain the voxel resolutions of all the images\n",
    "\n",
    "# 2) Iterate over all paths in trainFiles, valFiles and testFiles\n",
    "# 2.1) Open the images, gather their voxel size/resolution, put it in the list\n",
    "voxelDims = [nib.load(file['image']).header.get_zooms() for file in allFiles]\n",
    "voxelDims = np.array(voxelDims)\n",
    "\n",
    "# 3) Find the maximum and minimum voxel resolution across all images in each dimension\n",
    "#    (i.e., maximum and minimum voxel size in the first dimension, second dimension,\n",
    "#     and third dimension, 6 numbers in total)\n",
    "smallestVoxelDims = np.min(voxelDims, axis=0)\n",
    "largestVoxelDims = np.max(voxelDims, axis=0)\n",
    "\n",
    "# Follow the same steps for the image size\n",
    "imageDims = [nib.load(file['image']).header.get_data_shape() for file in allFiles]\n",
    "imageDims = np.array(imageDims)\n",
    "\n",
    "# 3) Find the maximum and minimum voxel resolution across all images in each dimension\n",
    "#    (i.e., maximum and minimum voxel size in the first dimension, second dimension,\n",
    "#     and third dimension, 6 numbers in total)\n",
    "smallestImDims = np.min(imageDims, axis=0)\n",
    "largestImDims = np.max(imageDims, axis=0)\n",
    "\n",
    "print(\"smallestVoxelDims\", smallestVoxelDims)\n",
    "print(\"largestVoxelDims\", largestVoxelDims)\n",
    "print(\"smallestImDims\", smallestImDims)\n",
    "print(\"largestImDims\", largestImDims)"
   ]
  },
  {
   "cell_type": "code",
   "execution_count": 67,
   "id": "88e6fb41-5104-469c-9156-e19698b9bb43",
   "metadata": {},
   "outputs": [
    {
     "ename": "AttributeError",
     "evalue": "'Compose' object has no attribute 'cuda'",
     "output_type": "error",
     "traceback": [
      "\u001B[0;31m---------------------------------------------------------------------------\u001B[0m",
      "\u001B[0;31mAttributeError\u001B[0m                            Traceback (most recent call last)",
      "Cell \u001B[0;32mIn[67], line 26\u001B[0m\n\u001B[1;32m     10\u001B[0m newVoxelDims \u001B[38;5;241m=\u001B[39m np\u001B[38;5;241m.\u001B[39mmedian(voxelDims, axis\u001B[38;5;241m=\u001B[39m\u001B[38;5;241m0\u001B[39m)\n\u001B[1;32m     11\u001B[0m spatialSize \u001B[38;5;241m=\u001B[39m \u001B[38;5;241m320\u001B[39m, \u001B[38;5;241m320\u001B[39m, \u001B[38;5;241m32\u001B[39m\n\u001B[1;32m     13\u001B[0m train_transforms \u001B[38;5;241m=\u001B[39m \u001B[43mmonai\u001B[49m\u001B[38;5;241;43m.\u001B[39;49m\u001B[43mtransforms\u001B[49m\u001B[38;5;241;43m.\u001B[39;49m\u001B[43mCompose\u001B[49m\u001B[43m(\u001B[49m\u001B[43m[\u001B[49m\n\u001B[1;32m     14\u001B[0m \u001B[43m    \u001B[49m\u001B[43mmonai\u001B[49m\u001B[38;5;241;43m.\u001B[39;49m\u001B[43mtransforms\u001B[49m\u001B[38;5;241;43m.\u001B[39;49m\u001B[43mLoadImaged\u001B[49m\u001B[43m(\u001B[49m\u001B[43mkeys\u001B[49m\u001B[38;5;241;43m=\u001B[39;49m\u001B[43m[\u001B[49m\u001B[38;5;124;43m'\u001B[39;49m\u001B[38;5;124;43mimage\u001B[39;49m\u001B[38;5;124;43m'\u001B[39;49m\u001B[43m,\u001B[49m\u001B[43m \u001B[49m\u001B[38;5;124;43m'\u001B[39;49m\u001B[38;5;124;43mlabel\u001B[39;49m\u001B[38;5;124;43m'\u001B[39;49m\u001B[43m]\u001B[49m\u001B[43m)\u001B[49m\u001B[43m,\u001B[49m\n\u001B[1;32m     15\u001B[0m \u001B[43m    \u001B[49m\u001B[43mmonai\u001B[49m\u001B[38;5;241;43m.\u001B[39;49m\u001B[43mtransforms\u001B[49m\u001B[38;5;241;43m.\u001B[39;49m\u001B[43mEnsureChannelFirstd\u001B[49m\u001B[43m(\u001B[49m\u001B[43mkeys\u001B[49m\u001B[38;5;241;43m=\u001B[39;49m\u001B[43m[\u001B[49m\u001B[38;5;124;43m'\u001B[39;49m\u001B[38;5;124;43mimage\u001B[39;49m\u001B[38;5;124;43m'\u001B[39;49m\u001B[43m,\u001B[49m\u001B[43m \u001B[49m\u001B[38;5;124;43m'\u001B[39;49m\u001B[38;5;124;43mlabel\u001B[39;49m\u001B[38;5;124;43m'\u001B[39;49m\u001B[43m]\u001B[49m\u001B[43m)\u001B[49m\u001B[43m,\u001B[49m\n\u001B[1;32m     16\u001B[0m \u001B[43m    \u001B[49m\u001B[43mmonai\u001B[49m\u001B[38;5;241;43m.\u001B[39;49m\u001B[43mtransforms\u001B[49m\u001B[38;5;241;43m.\u001B[39;49m\u001B[43mSpacingd\u001B[49m\u001B[43m(\u001B[49m\u001B[43mkeys\u001B[49m\u001B[38;5;241;43m=\u001B[39;49m\u001B[43m[\u001B[49m\u001B[38;5;124;43m'\u001B[39;49m\u001B[38;5;124;43mimage\u001B[39;49m\u001B[38;5;124;43m'\u001B[39;49m\u001B[43m,\u001B[49m\u001B[43m \u001B[49m\u001B[38;5;124;43m'\u001B[39;49m\u001B[38;5;124;43mlabel\u001B[39;49m\u001B[38;5;124;43m'\u001B[39;49m\u001B[43m]\u001B[49m\u001B[43m,\u001B[49m\u001B[43m \u001B[49m\u001B[43mpixdim\u001B[49m\u001B[38;5;241;43m=\u001B[39;49m\u001B[43mnewVoxelDims\u001B[49m\u001B[43m,\u001B[49m\u001B[43m \u001B[49m\u001B[43mmode\u001B[49m\u001B[38;5;241;43m=\u001B[39;49m\u001B[43m[\u001B[49m\u001B[38;5;124;43m\"\u001B[39;49m\u001B[38;5;124;43mbilinear\u001B[39;49m\u001B[38;5;124;43m\"\u001B[39;49m\u001B[43m,\u001B[49m\u001B[43m \u001B[49m\u001B[38;5;124;43m\"\u001B[39;49m\u001B[38;5;124;43mnearest\u001B[39;49m\u001B[38;5;124;43m\"\u001B[39;49m\u001B[43m]\u001B[49m\u001B[43m)\u001B[49m\u001B[43m,\u001B[49m\n\u001B[1;32m     17\u001B[0m \u001B[43m    \u001B[49m\u001B[43mmonai\u001B[49m\u001B[38;5;241;43m.\u001B[39;49m\u001B[43mtransforms\u001B[49m\u001B[38;5;241;43m.\u001B[39;49m\u001B[43mResizeWithPadOrCropd\u001B[49m\u001B[43m(\u001B[49m\u001B[43mkeys\u001B[49m\u001B[38;5;241;43m=\u001B[39;49m\u001B[43m[\u001B[49m\u001B[38;5;124;43m'\u001B[39;49m\u001B[38;5;124;43mimage\u001B[39;49m\u001B[38;5;124;43m'\u001B[39;49m\u001B[43m,\u001B[49m\u001B[43m \u001B[49m\u001B[38;5;124;43m'\u001B[39;49m\u001B[38;5;124;43mlabel\u001B[39;49m\u001B[38;5;124;43m'\u001B[39;49m\u001B[43m]\u001B[49m\u001B[43m,\u001B[49m\u001B[43m \u001B[49m\u001B[43mspatial_size\u001B[49m\u001B[38;5;241;43m=\u001B[39;49m\u001B[43mspatialSize\u001B[49m\u001B[43m)\u001B[49m\u001B[43m,\u001B[49m\n\u001B[1;32m     18\u001B[0m \u001B[43m    \u001B[49m\u001B[38;5;66;43;03m#monai.transforms.RandSpatialCropd(keys=['image', 'label'], roi_size=[-1, -1, 1]),\u001B[39;49;00m\n\u001B[1;32m     19\u001B[0m \u001B[43m    \u001B[49m\u001B[38;5;66;43;03m#monai.transforms.SqueezeDimd(keys=['image', 'label'], dim=-1),\u001B[39;49;00m\n\u001B[1;32m     20\u001B[0m \u001B[43m    \u001B[49m\u001B[38;5;66;43;03m## TODO: Add more Data Augmentation functions here\u001B[39;49;00m\n\u001B[1;32m     21\u001B[0m \u001B[43m    \u001B[49m\u001B[38;5;66;43;03m#monai.transforms.RandRotated(keys=['image', 'label'], range_z = 180, prob = 0.5, mode='nearest'),\u001B[39;49;00m\n\u001B[1;32m     22\u001B[0m \u001B[43m    \u001B[49m\u001B[38;5;66;43;03m#monai.transforms.RandGaussianSmoothd(keys=['image'], sigma_x=(0.25, 1.5), sigma_y=(0.25, 1.5), sigma_z=(0.25, 1.5), approx='erf', prob=0.5),\u001B[39;49;00m\n\u001B[1;32m     23\u001B[0m \u001B[43m    \u001B[49m\u001B[38;5;66;43;03m#monai.transforms.RandGaussianNoised(keys=['image'], prob=0.5, mean=0.0, std=0.5),\u001B[39;49;00m\n\u001B[1;32m     24\u001B[0m \n\u001B[1;32m     25\u001B[0m \u001B[43m    \u001B[49m\u001B[43mmonai\u001B[49m\u001B[38;5;241;43m.\u001B[39;49m\u001B[43mtransforms\u001B[49m\u001B[38;5;241;43m.\u001B[39;49m\u001B[43mAsDiscreted\u001B[49m\u001B[43m(\u001B[49m\u001B[43mkeys\u001B[49m\u001B[38;5;241;43m=\u001B[39;49m\u001B[43m[\u001B[49m\u001B[38;5;124;43m'\u001B[39;49m\u001B[38;5;124;43mlabel\u001B[39;49m\u001B[38;5;124;43m'\u001B[39;49m\u001B[43m]\u001B[49m\u001B[43m,\u001B[49m\u001B[43m \u001B[49m\u001B[43mto_onehot\u001B[49m\u001B[38;5;241;43m=\u001B[39;49m\u001B[38;5;241;43m4\u001B[39;49m\u001B[43m)\u001B[49m\u001B[43m \u001B[49m\u001B[38;5;66;43;03m# Convert \"label\" to onehot encoded.\u001B[39;49;00m\n\u001B[0;32m---> 26\u001B[0m \u001B[43m]\u001B[49m\u001B[43m)\u001B[49m\u001B[38;5;241;43m.\u001B[39;49m\u001B[43mcuda\u001B[49m()\n\u001B[1;32m     28\u001B[0m val_transforms \u001B[38;5;241m=\u001B[39m monai\u001B[38;5;241m.\u001B[39mtransforms\u001B[38;5;241m.\u001B[39mCompose([\n\u001B[1;32m     29\u001B[0m     monai\u001B[38;5;241m.\u001B[39mtransforms\u001B[38;5;241m.\u001B[39mLoadImaged(keys\u001B[38;5;241m=\u001B[39m[\u001B[38;5;124m'\u001B[39m\u001B[38;5;124mimage\u001B[39m\u001B[38;5;124m'\u001B[39m, \u001B[38;5;124m'\u001B[39m\u001B[38;5;124mlabel\u001B[39m\u001B[38;5;124m'\u001B[39m]),\n\u001B[1;32m     30\u001B[0m     monai\u001B[38;5;241m.\u001B[39mtransforms\u001B[38;5;241m.\u001B[39mEnsureChannelFirstd(keys\u001B[38;5;241m=\u001B[39m[\u001B[38;5;124m'\u001B[39m\u001B[38;5;124mimage\u001B[39m\u001B[38;5;124m'\u001B[39m, \u001B[38;5;124m'\u001B[39m\u001B[38;5;124mlabel\u001B[39m\u001B[38;5;124m'\u001B[39m]),\n\u001B[1;32m     31\u001B[0m     monai\u001B[38;5;241m.\u001B[39mtransforms\u001B[38;5;241m.\u001B[39mSpacingd(keys\u001B[38;5;241m=\u001B[39m[\u001B[38;5;124m'\u001B[39m\u001B[38;5;124mimage\u001B[39m\u001B[38;5;124m'\u001B[39m, \u001B[38;5;124m'\u001B[39m\u001B[38;5;124mlabel\u001B[39m\u001B[38;5;124m'\u001B[39m], pixdim\u001B[38;5;241m=\u001B[39mnewVoxelDims, mode\u001B[38;5;241m=\u001B[39m[\u001B[38;5;124m\"\u001B[39m\u001B[38;5;124mbilinear\u001B[39m\u001B[38;5;124m\"\u001B[39m, \u001B[38;5;124m\"\u001B[39m\u001B[38;5;124mnearest\u001B[39m\u001B[38;5;124m\"\u001B[39m]),\n\u001B[1;32m     32\u001B[0m     monai\u001B[38;5;241m.\u001B[39mtransforms\u001B[38;5;241m.\u001B[39mResizeWithPadOrCropd(keys\u001B[38;5;241m=\u001B[39m[\u001B[38;5;124m'\u001B[39m\u001B[38;5;124mimage\u001B[39m\u001B[38;5;124m'\u001B[39m, \u001B[38;5;124m'\u001B[39m\u001B[38;5;124mlabel\u001B[39m\u001B[38;5;124m'\u001B[39m], spatial_size\u001B[38;5;241m=\u001B[39mspatialSize),\n\u001B[1;32m     33\u001B[0m ])\u001B[38;5;241m.\u001B[39mcuda()\n",
      "\u001B[0;31mAttributeError\u001B[0m: 'Compose' object has no attribute 'cuda'"
     ]
    }
   ],
   "source": [
    "# 3. Data and Training. Put all the data-augmentation transforms here\n",
    "#train_transforms = monai.transforms.Compose([\n",
    "#    FILLTHIS\n",
    "#])\n",
    "\n",
    "#val_transforms = monai.transforms.Compose([\n",
    "#    FILLTHIS\n",
    "#])\n",
    "\n",
    "newVoxelDims = np.median(voxelDims, axis=0)\n",
    "spatialSize = 320, 320, 32\n",
    "\n",
    "train_transforms = monai.transforms.Compose([\n",
    "    monai.transforms.LoadImaged(keys=['image', 'label']),\n",
    "    monai.transforms.EnsureChannelFirstd(keys=['image', 'label']),\n",
    "    monai.transforms.Spacingd(keys=['image', 'label'], pixdim=newVoxelDims, mode=[\"bilinear\", \"nearest\"]),\n",
    "    monai.transforms.ResizeWithPadOrCropd(keys=['image', 'label'], spatial_size=spatialSize),\n",
    "    #monai.transforms.RandSpatialCropd(keys=['image', 'label'], roi_size=[-1, -1, 1]),\n",
    "    #monai.transforms.SqueezeDimd(keys=['image', 'label'], dim=-1),\n",
    "    ## TODO: Add more Data Augmentation functions here\n",
    "    #monai.transforms.RandRotated(keys=['image', 'label'], range_z = 180, prob = 0.5, mode='nearest'),\n",
    "    #monai.transforms.RandGaussianSmoothd(keys=['image'], sigma_x=(0.25, 1.5), sigma_y=(0.25, 1.5), sigma_z=(0.25, 1.5), approx='erf', prob=0.5),\n",
    "    #monai.transforms.RandGaussianNoised(keys=['image'], prob=0.5, mean=0.0, std=0.5),\n",
    "\n",
    "    monai.transforms.AsDiscreted(keys=['label'], to_onehot=4) # Convert \"label\" to onehot encoded.\n",
    "])\n",
    "\n",
    "val_transforms = monai.transforms.Compose([\n",
    "    monai.transforms.LoadImaged(keys=['image', 'label']),\n",
    "    monai.transforms.EnsureChannelFirstd(keys=['image', 'label']),\n",
    "    monai.transforms.Spacingd(keys=['image', 'label'], pixdim=newVoxelDims, mode=[\"bilinear\", \"nearest\"]),\n",
    "    monai.transforms.ResizeWithPadOrCropd(keys=['image', 'label'], spatial_size=spatialSize),\n",
    "])"
   ]
  },
  {
   "cell_type": "code",
   "execution_count": 64,
   "id": "6e604723-4ae5-42d7-a077-2a75d3abdbb7",
   "metadata": {},
   "outputs": [
    {
     "name": "stdout",
     "output_type": "stream",
     "text": [
      "✅ Your dataloader gives you 3D images\n",
      "✅ Your images have the same number of slices.\n"
     ]
    }
   ],
   "source": [
    "# Verifying that you're training on 3D images\n",
    "dummy_dataset = Dataset(data=train_files, transform=train_transforms)\n",
    "dummy_loader = DataLoader(dummy_dataset, batch_size=1, shuffle=False)\n",
    "\n",
    "err1, err2 = False, False\n",
    "num_slices = set()\n",
    "for dummy_data in dummy_loader:\n",
    "    if len(dummy_data['image'].shape) != 5:\n",
    "        err1 = True\n",
    "        \n",
    "    num_slices.add(dummy_data['image'].shape[-1])\n",
    "    if len(num_slices) != 1:\n",
    "        err2 = True\n",
    "\n",
    "if err1:\n",
    "    print(\"❌ Your dataloader doesn't give you 3D images.\")\n",
    "else:\n",
    "    print(\"✅ Your dataloader gives you 3D images\")\n",
    "\n",
    "if err2:\n",
    "    print(\"❌ Your images have different number of slices, so, they won't fit into a single mini-batch. Maybe you need to use ResizeWithPadOrCropd?\")\n",
    "else:\n",
    "    print(\"✅ Your images have the same number of slices.\")"
   ]
  },
  {
   "cell_type": "markdown",
   "id": "85e7f195-06b2-4792-b742-f40d6b7cd95a",
   "metadata": {},
   "source": [
    "## 1.4 Verifying your model\n",
    "\n",
    "At this point, you should have:\n",
    "* [**Data**] The dataset split into train-validation-set.\n",
    "* [**Data,Training**] The data-augmentation transforms, including the \"preprocessing\" transforms.\n",
    "* [**Training**] The data loaders.\n",
    "* [**Model**] A 3D model to train.\n",
    "\n",
    "Let's try to do inference in a few images. Does it work?"
   ]
  },
  {
   "cell_type": "code",
   "execution_count": 66,
   "id": "a42213c7-2a94-4534-9472-c88881f269cd",
   "metadata": {},
   "outputs": [
    {
     "name": "stdout",
     "output_type": "stream",
     "text": [
      "torch.Size([1, 1, 320, 320, 32])\n"
     ]
    },
    {
     "ename": "RuntimeError",
     "evalue": "Input type (torch.FloatTensor) and weight type (torch.cuda.FloatTensor) should be the same or input should be a MKLDNN tensor and weight is a dense tensor",
     "output_type": "error",
     "traceback": [
      "\u001B[0;31m---------------------------------------------------------------------------\u001B[0m",
      "\u001B[0;31mRuntimeError\u001B[0m                              Traceback (most recent call last)",
      "Cell \u001B[0;32mIn[66], line 5\u001B[0m\n\u001B[1;32m      3\u001B[0m inputs \u001B[38;5;241m=\u001B[39m dummy_data[\u001B[38;5;124m'\u001B[39m\u001B[38;5;124mimage\u001B[39m\u001B[38;5;124m'\u001B[39m]\n\u001B[1;32m      4\u001B[0m \u001B[38;5;28mprint\u001B[39m(inputs\u001B[38;5;241m.\u001B[39mshape)\n\u001B[0;32m----> 5\u001B[0m pred \u001B[38;5;241m=\u001B[39m \u001B[43mmodel\u001B[49m\u001B[43m(\u001B[49m\u001B[43minputs\u001B[49m\u001B[43m)\u001B[49m\u001B[38;5;241m.\u001B[39mcuda()\n\u001B[1;32m      6\u001B[0m \u001B[38;5;28;01mif\u001B[39;00m i \u001B[38;5;241m>\u001B[39m \u001B[38;5;241m5\u001B[39m:\n\u001B[1;32m      7\u001B[0m     \u001B[38;5;28;01mbreak\u001B[39;00m\n",
      "File \u001B[0;32m~/Works/Dtu/deep-learning-experimental-3D-image/venv/lib/python3.10/site-packages/torch/nn/modules/module.py:1511\u001B[0m, in \u001B[0;36mModule._wrapped_call_impl\u001B[0;34m(self, *args, **kwargs)\u001B[0m\n\u001B[1;32m   1509\u001B[0m     \u001B[38;5;28;01mreturn\u001B[39;00m \u001B[38;5;28mself\u001B[39m\u001B[38;5;241m.\u001B[39m_compiled_call_impl(\u001B[38;5;241m*\u001B[39margs, \u001B[38;5;241m*\u001B[39m\u001B[38;5;241m*\u001B[39mkwargs)  \u001B[38;5;66;03m# type: ignore[misc]\u001B[39;00m\n\u001B[1;32m   1510\u001B[0m \u001B[38;5;28;01melse\u001B[39;00m:\n\u001B[0;32m-> 1511\u001B[0m     \u001B[38;5;28;01mreturn\u001B[39;00m \u001B[38;5;28;43mself\u001B[39;49m\u001B[38;5;241;43m.\u001B[39;49m\u001B[43m_call_impl\u001B[49m\u001B[43m(\u001B[49m\u001B[38;5;241;43m*\u001B[39;49m\u001B[43margs\u001B[49m\u001B[43m,\u001B[49m\u001B[43m \u001B[49m\u001B[38;5;241;43m*\u001B[39;49m\u001B[38;5;241;43m*\u001B[39;49m\u001B[43mkwargs\u001B[49m\u001B[43m)\u001B[49m\n",
      "File \u001B[0;32m~/Works/Dtu/deep-learning-experimental-3D-image/venv/lib/python3.10/site-packages/torch/nn/modules/module.py:1520\u001B[0m, in \u001B[0;36mModule._call_impl\u001B[0;34m(self, *args, **kwargs)\u001B[0m\n\u001B[1;32m   1515\u001B[0m \u001B[38;5;66;03m# If we don't have any hooks, we want to skip the rest of the logic in\u001B[39;00m\n\u001B[1;32m   1516\u001B[0m \u001B[38;5;66;03m# this function, and just call forward.\u001B[39;00m\n\u001B[1;32m   1517\u001B[0m \u001B[38;5;28;01mif\u001B[39;00m \u001B[38;5;129;01mnot\u001B[39;00m (\u001B[38;5;28mself\u001B[39m\u001B[38;5;241m.\u001B[39m_backward_hooks \u001B[38;5;129;01mor\u001B[39;00m \u001B[38;5;28mself\u001B[39m\u001B[38;5;241m.\u001B[39m_backward_pre_hooks \u001B[38;5;129;01mor\u001B[39;00m \u001B[38;5;28mself\u001B[39m\u001B[38;5;241m.\u001B[39m_forward_hooks \u001B[38;5;129;01mor\u001B[39;00m \u001B[38;5;28mself\u001B[39m\u001B[38;5;241m.\u001B[39m_forward_pre_hooks\n\u001B[1;32m   1518\u001B[0m         \u001B[38;5;129;01mor\u001B[39;00m _global_backward_pre_hooks \u001B[38;5;129;01mor\u001B[39;00m _global_backward_hooks\n\u001B[1;32m   1519\u001B[0m         \u001B[38;5;129;01mor\u001B[39;00m _global_forward_hooks \u001B[38;5;129;01mor\u001B[39;00m _global_forward_pre_hooks):\n\u001B[0;32m-> 1520\u001B[0m     \u001B[38;5;28;01mreturn\u001B[39;00m \u001B[43mforward_call\u001B[49m\u001B[43m(\u001B[49m\u001B[38;5;241;43m*\u001B[39;49m\u001B[43margs\u001B[49m\u001B[43m,\u001B[49m\u001B[43m \u001B[49m\u001B[38;5;241;43m*\u001B[39;49m\u001B[38;5;241;43m*\u001B[39;49m\u001B[43mkwargs\u001B[49m\u001B[43m)\u001B[49m\n\u001B[1;32m   1522\u001B[0m \u001B[38;5;28;01mtry\u001B[39;00m:\n\u001B[1;32m   1523\u001B[0m     result \u001B[38;5;241m=\u001B[39m \u001B[38;5;28;01mNone\u001B[39;00m\n",
      "File \u001B[0;32m~/Works/Dtu/deep-learning-experimental-3D-image/venv/lib/python3.10/site-packages/monai/networks/nets/dynunet.py:269\u001B[0m, in \u001B[0;36mDynUNet.forward\u001B[0;34m(self, x)\u001B[0m\n\u001B[1;32m    268\u001B[0m \u001B[38;5;28;01mdef\u001B[39;00m \u001B[38;5;21mforward\u001B[39m(\u001B[38;5;28mself\u001B[39m, x):\n\u001B[0;32m--> 269\u001B[0m     out \u001B[38;5;241m=\u001B[39m \u001B[38;5;28;43mself\u001B[39;49m\u001B[38;5;241;43m.\u001B[39;49m\u001B[43mskip_layers\u001B[49m\u001B[43m(\u001B[49m\u001B[43mx\u001B[49m\u001B[43m)\u001B[49m\n\u001B[1;32m    270\u001B[0m     out \u001B[38;5;241m=\u001B[39m \u001B[38;5;28mself\u001B[39m\u001B[38;5;241m.\u001B[39moutput_block(out)\n\u001B[1;32m    271\u001B[0m     \u001B[38;5;28;01mif\u001B[39;00m \u001B[38;5;28mself\u001B[39m\u001B[38;5;241m.\u001B[39mtraining \u001B[38;5;129;01mand\u001B[39;00m \u001B[38;5;28mself\u001B[39m\u001B[38;5;241m.\u001B[39mdeep_supervision:\n",
      "File \u001B[0;32m~/Works/Dtu/deep-learning-experimental-3D-image/venv/lib/python3.10/site-packages/torch/nn/modules/module.py:1511\u001B[0m, in \u001B[0;36mModule._wrapped_call_impl\u001B[0;34m(self, *args, **kwargs)\u001B[0m\n\u001B[1;32m   1509\u001B[0m     \u001B[38;5;28;01mreturn\u001B[39;00m \u001B[38;5;28mself\u001B[39m\u001B[38;5;241m.\u001B[39m_compiled_call_impl(\u001B[38;5;241m*\u001B[39margs, \u001B[38;5;241m*\u001B[39m\u001B[38;5;241m*\u001B[39mkwargs)  \u001B[38;5;66;03m# type: ignore[misc]\u001B[39;00m\n\u001B[1;32m   1510\u001B[0m \u001B[38;5;28;01melse\u001B[39;00m:\n\u001B[0;32m-> 1511\u001B[0m     \u001B[38;5;28;01mreturn\u001B[39;00m \u001B[38;5;28;43mself\u001B[39;49m\u001B[38;5;241;43m.\u001B[39;49m\u001B[43m_call_impl\u001B[49m\u001B[43m(\u001B[49m\u001B[38;5;241;43m*\u001B[39;49m\u001B[43margs\u001B[49m\u001B[43m,\u001B[49m\u001B[43m \u001B[49m\u001B[38;5;241;43m*\u001B[39;49m\u001B[38;5;241;43m*\u001B[39;49m\u001B[43mkwargs\u001B[49m\u001B[43m)\u001B[49m\n",
      "File \u001B[0;32m~/Works/Dtu/deep-learning-experimental-3D-image/venv/lib/python3.10/site-packages/torch/nn/modules/module.py:1520\u001B[0m, in \u001B[0;36mModule._call_impl\u001B[0;34m(self, *args, **kwargs)\u001B[0m\n\u001B[1;32m   1515\u001B[0m \u001B[38;5;66;03m# If we don't have any hooks, we want to skip the rest of the logic in\u001B[39;00m\n\u001B[1;32m   1516\u001B[0m \u001B[38;5;66;03m# this function, and just call forward.\u001B[39;00m\n\u001B[1;32m   1517\u001B[0m \u001B[38;5;28;01mif\u001B[39;00m \u001B[38;5;129;01mnot\u001B[39;00m (\u001B[38;5;28mself\u001B[39m\u001B[38;5;241m.\u001B[39m_backward_hooks \u001B[38;5;129;01mor\u001B[39;00m \u001B[38;5;28mself\u001B[39m\u001B[38;5;241m.\u001B[39m_backward_pre_hooks \u001B[38;5;129;01mor\u001B[39;00m \u001B[38;5;28mself\u001B[39m\u001B[38;5;241m.\u001B[39m_forward_hooks \u001B[38;5;129;01mor\u001B[39;00m \u001B[38;5;28mself\u001B[39m\u001B[38;5;241m.\u001B[39m_forward_pre_hooks\n\u001B[1;32m   1518\u001B[0m         \u001B[38;5;129;01mor\u001B[39;00m _global_backward_pre_hooks \u001B[38;5;129;01mor\u001B[39;00m _global_backward_hooks\n\u001B[1;32m   1519\u001B[0m         \u001B[38;5;129;01mor\u001B[39;00m _global_forward_hooks \u001B[38;5;129;01mor\u001B[39;00m _global_forward_pre_hooks):\n\u001B[0;32m-> 1520\u001B[0m     \u001B[38;5;28;01mreturn\u001B[39;00m \u001B[43mforward_call\u001B[49m\u001B[43m(\u001B[49m\u001B[38;5;241;43m*\u001B[39;49m\u001B[43margs\u001B[49m\u001B[43m,\u001B[49m\u001B[43m \u001B[49m\u001B[38;5;241;43m*\u001B[39;49m\u001B[38;5;241;43m*\u001B[39;49m\u001B[43mkwargs\u001B[49m\u001B[43m)\u001B[49m\n\u001B[1;32m   1522\u001B[0m \u001B[38;5;28;01mtry\u001B[39;00m:\n\u001B[1;32m   1523\u001B[0m     result \u001B[38;5;241m=\u001B[39m \u001B[38;5;28;01mNone\u001B[39;00m\n",
      "File \u001B[0;32m~/Works/Dtu/deep-learning-experimental-3D-image/venv/lib/python3.10/site-packages/monai/networks/nets/dynunet.py:47\u001B[0m, in \u001B[0;36mDynUNetSkipLayer.forward\u001B[0;34m(self, x)\u001B[0m\n\u001B[1;32m     46\u001B[0m \u001B[38;5;28;01mdef\u001B[39;00m \u001B[38;5;21mforward\u001B[39m(\u001B[38;5;28mself\u001B[39m, x):\n\u001B[0;32m---> 47\u001B[0m     downout \u001B[38;5;241m=\u001B[39m \u001B[38;5;28;43mself\u001B[39;49m\u001B[38;5;241;43m.\u001B[39;49m\u001B[43mdownsample\u001B[49m\u001B[43m(\u001B[49m\u001B[43mx\u001B[49m\u001B[43m)\u001B[49m\n\u001B[1;32m     48\u001B[0m     nextout \u001B[38;5;241m=\u001B[39m \u001B[38;5;28mself\u001B[39m\u001B[38;5;241m.\u001B[39mnext_layer(downout)\n\u001B[1;32m     49\u001B[0m     upout \u001B[38;5;241m=\u001B[39m \u001B[38;5;28mself\u001B[39m\u001B[38;5;241m.\u001B[39mupsample(nextout, downout)\n",
      "File \u001B[0;32m~/Works/Dtu/deep-learning-experimental-3D-image/venv/lib/python3.10/site-packages/torch/nn/modules/module.py:1511\u001B[0m, in \u001B[0;36mModule._wrapped_call_impl\u001B[0;34m(self, *args, **kwargs)\u001B[0m\n\u001B[1;32m   1509\u001B[0m     \u001B[38;5;28;01mreturn\u001B[39;00m \u001B[38;5;28mself\u001B[39m\u001B[38;5;241m.\u001B[39m_compiled_call_impl(\u001B[38;5;241m*\u001B[39margs, \u001B[38;5;241m*\u001B[39m\u001B[38;5;241m*\u001B[39mkwargs)  \u001B[38;5;66;03m# type: ignore[misc]\u001B[39;00m\n\u001B[1;32m   1510\u001B[0m \u001B[38;5;28;01melse\u001B[39;00m:\n\u001B[0;32m-> 1511\u001B[0m     \u001B[38;5;28;01mreturn\u001B[39;00m \u001B[38;5;28;43mself\u001B[39;49m\u001B[38;5;241;43m.\u001B[39;49m\u001B[43m_call_impl\u001B[49m\u001B[43m(\u001B[49m\u001B[38;5;241;43m*\u001B[39;49m\u001B[43margs\u001B[49m\u001B[43m,\u001B[49m\u001B[43m \u001B[49m\u001B[38;5;241;43m*\u001B[39;49m\u001B[38;5;241;43m*\u001B[39;49m\u001B[43mkwargs\u001B[49m\u001B[43m)\u001B[49m\n",
      "File \u001B[0;32m~/Works/Dtu/deep-learning-experimental-3D-image/venv/lib/python3.10/site-packages/torch/nn/modules/module.py:1520\u001B[0m, in \u001B[0;36mModule._call_impl\u001B[0;34m(self, *args, **kwargs)\u001B[0m\n\u001B[1;32m   1515\u001B[0m \u001B[38;5;66;03m# If we don't have any hooks, we want to skip the rest of the logic in\u001B[39;00m\n\u001B[1;32m   1516\u001B[0m \u001B[38;5;66;03m# this function, and just call forward.\u001B[39;00m\n\u001B[1;32m   1517\u001B[0m \u001B[38;5;28;01mif\u001B[39;00m \u001B[38;5;129;01mnot\u001B[39;00m (\u001B[38;5;28mself\u001B[39m\u001B[38;5;241m.\u001B[39m_backward_hooks \u001B[38;5;129;01mor\u001B[39;00m \u001B[38;5;28mself\u001B[39m\u001B[38;5;241m.\u001B[39m_backward_pre_hooks \u001B[38;5;129;01mor\u001B[39;00m \u001B[38;5;28mself\u001B[39m\u001B[38;5;241m.\u001B[39m_forward_hooks \u001B[38;5;129;01mor\u001B[39;00m \u001B[38;5;28mself\u001B[39m\u001B[38;5;241m.\u001B[39m_forward_pre_hooks\n\u001B[1;32m   1518\u001B[0m         \u001B[38;5;129;01mor\u001B[39;00m _global_backward_pre_hooks \u001B[38;5;129;01mor\u001B[39;00m _global_backward_hooks\n\u001B[1;32m   1519\u001B[0m         \u001B[38;5;129;01mor\u001B[39;00m _global_forward_hooks \u001B[38;5;129;01mor\u001B[39;00m _global_forward_pre_hooks):\n\u001B[0;32m-> 1520\u001B[0m     \u001B[38;5;28;01mreturn\u001B[39;00m \u001B[43mforward_call\u001B[49m\u001B[43m(\u001B[49m\u001B[38;5;241;43m*\u001B[39;49m\u001B[43margs\u001B[49m\u001B[43m,\u001B[49m\u001B[43m \u001B[49m\u001B[38;5;241;43m*\u001B[39;49m\u001B[38;5;241;43m*\u001B[39;49m\u001B[43mkwargs\u001B[49m\u001B[43m)\u001B[49m\n\u001B[1;32m   1522\u001B[0m \u001B[38;5;28;01mtry\u001B[39;00m:\n\u001B[1;32m   1523\u001B[0m     result \u001B[38;5;241m=\u001B[39m \u001B[38;5;28;01mNone\u001B[39;00m\n",
      "File \u001B[0;32m~/Works/Dtu/deep-learning-experimental-3D-image/venv/lib/python3.10/site-packages/monai/networks/blocks/dynunet_block.py:171\u001B[0m, in \u001B[0;36mUnetBasicBlock.forward\u001B[0;34m(self, inp)\u001B[0m\n\u001B[1;32m    170\u001B[0m \u001B[38;5;28;01mdef\u001B[39;00m \u001B[38;5;21mforward\u001B[39m(\u001B[38;5;28mself\u001B[39m, inp):\n\u001B[0;32m--> 171\u001B[0m     out \u001B[38;5;241m=\u001B[39m \u001B[38;5;28;43mself\u001B[39;49m\u001B[38;5;241;43m.\u001B[39;49m\u001B[43mconv1\u001B[49m\u001B[43m(\u001B[49m\u001B[43minp\u001B[49m\u001B[43m)\u001B[49m\n\u001B[1;32m    172\u001B[0m     out \u001B[38;5;241m=\u001B[39m \u001B[38;5;28mself\u001B[39m\u001B[38;5;241m.\u001B[39mnorm1(out)\n\u001B[1;32m    173\u001B[0m     out \u001B[38;5;241m=\u001B[39m \u001B[38;5;28mself\u001B[39m\u001B[38;5;241m.\u001B[39mlrelu(out)\n",
      "File \u001B[0;32m~/Works/Dtu/deep-learning-experimental-3D-image/venv/lib/python3.10/site-packages/torch/nn/modules/module.py:1511\u001B[0m, in \u001B[0;36mModule._wrapped_call_impl\u001B[0;34m(self, *args, **kwargs)\u001B[0m\n\u001B[1;32m   1509\u001B[0m     \u001B[38;5;28;01mreturn\u001B[39;00m \u001B[38;5;28mself\u001B[39m\u001B[38;5;241m.\u001B[39m_compiled_call_impl(\u001B[38;5;241m*\u001B[39margs, \u001B[38;5;241m*\u001B[39m\u001B[38;5;241m*\u001B[39mkwargs)  \u001B[38;5;66;03m# type: ignore[misc]\u001B[39;00m\n\u001B[1;32m   1510\u001B[0m \u001B[38;5;28;01melse\u001B[39;00m:\n\u001B[0;32m-> 1511\u001B[0m     \u001B[38;5;28;01mreturn\u001B[39;00m \u001B[38;5;28;43mself\u001B[39;49m\u001B[38;5;241;43m.\u001B[39;49m\u001B[43m_call_impl\u001B[49m\u001B[43m(\u001B[49m\u001B[38;5;241;43m*\u001B[39;49m\u001B[43margs\u001B[49m\u001B[43m,\u001B[49m\u001B[43m \u001B[49m\u001B[38;5;241;43m*\u001B[39;49m\u001B[38;5;241;43m*\u001B[39;49m\u001B[43mkwargs\u001B[49m\u001B[43m)\u001B[49m\n",
      "File \u001B[0;32m~/Works/Dtu/deep-learning-experimental-3D-image/venv/lib/python3.10/site-packages/torch/nn/modules/module.py:1520\u001B[0m, in \u001B[0;36mModule._call_impl\u001B[0;34m(self, *args, **kwargs)\u001B[0m\n\u001B[1;32m   1515\u001B[0m \u001B[38;5;66;03m# If we don't have any hooks, we want to skip the rest of the logic in\u001B[39;00m\n\u001B[1;32m   1516\u001B[0m \u001B[38;5;66;03m# this function, and just call forward.\u001B[39;00m\n\u001B[1;32m   1517\u001B[0m \u001B[38;5;28;01mif\u001B[39;00m \u001B[38;5;129;01mnot\u001B[39;00m (\u001B[38;5;28mself\u001B[39m\u001B[38;5;241m.\u001B[39m_backward_hooks \u001B[38;5;129;01mor\u001B[39;00m \u001B[38;5;28mself\u001B[39m\u001B[38;5;241m.\u001B[39m_backward_pre_hooks \u001B[38;5;129;01mor\u001B[39;00m \u001B[38;5;28mself\u001B[39m\u001B[38;5;241m.\u001B[39m_forward_hooks \u001B[38;5;129;01mor\u001B[39;00m \u001B[38;5;28mself\u001B[39m\u001B[38;5;241m.\u001B[39m_forward_pre_hooks\n\u001B[1;32m   1518\u001B[0m         \u001B[38;5;129;01mor\u001B[39;00m _global_backward_pre_hooks \u001B[38;5;129;01mor\u001B[39;00m _global_backward_hooks\n\u001B[1;32m   1519\u001B[0m         \u001B[38;5;129;01mor\u001B[39;00m _global_forward_hooks \u001B[38;5;129;01mor\u001B[39;00m _global_forward_pre_hooks):\n\u001B[0;32m-> 1520\u001B[0m     \u001B[38;5;28;01mreturn\u001B[39;00m \u001B[43mforward_call\u001B[49m\u001B[43m(\u001B[49m\u001B[38;5;241;43m*\u001B[39;49m\u001B[43margs\u001B[49m\u001B[43m,\u001B[49m\u001B[43m \u001B[49m\u001B[38;5;241;43m*\u001B[39;49m\u001B[38;5;241;43m*\u001B[39;49m\u001B[43mkwargs\u001B[49m\u001B[43m)\u001B[49m\n\u001B[1;32m   1522\u001B[0m \u001B[38;5;28;01mtry\u001B[39;00m:\n\u001B[1;32m   1523\u001B[0m     result \u001B[38;5;241m=\u001B[39m \u001B[38;5;28;01mNone\u001B[39;00m\n",
      "File \u001B[0;32m~/Works/Dtu/deep-learning-experimental-3D-image/venv/lib/python3.10/site-packages/torch/nn/modules/container.py:217\u001B[0m, in \u001B[0;36mSequential.forward\u001B[0;34m(self, input)\u001B[0m\n\u001B[1;32m    215\u001B[0m \u001B[38;5;28;01mdef\u001B[39;00m \u001B[38;5;21mforward\u001B[39m(\u001B[38;5;28mself\u001B[39m, \u001B[38;5;28minput\u001B[39m):\n\u001B[1;32m    216\u001B[0m     \u001B[38;5;28;01mfor\u001B[39;00m module \u001B[38;5;129;01min\u001B[39;00m \u001B[38;5;28mself\u001B[39m:\n\u001B[0;32m--> 217\u001B[0m         \u001B[38;5;28minput\u001B[39m \u001B[38;5;241m=\u001B[39m \u001B[43mmodule\u001B[49m\u001B[43m(\u001B[49m\u001B[38;5;28;43minput\u001B[39;49m\u001B[43m)\u001B[49m\n\u001B[1;32m    218\u001B[0m     \u001B[38;5;28;01mreturn\u001B[39;00m \u001B[38;5;28minput\u001B[39m\n",
      "File \u001B[0;32m~/Works/Dtu/deep-learning-experimental-3D-image/venv/lib/python3.10/site-packages/torch/nn/modules/module.py:1511\u001B[0m, in \u001B[0;36mModule._wrapped_call_impl\u001B[0;34m(self, *args, **kwargs)\u001B[0m\n\u001B[1;32m   1509\u001B[0m     \u001B[38;5;28;01mreturn\u001B[39;00m \u001B[38;5;28mself\u001B[39m\u001B[38;5;241m.\u001B[39m_compiled_call_impl(\u001B[38;5;241m*\u001B[39margs, \u001B[38;5;241m*\u001B[39m\u001B[38;5;241m*\u001B[39mkwargs)  \u001B[38;5;66;03m# type: ignore[misc]\u001B[39;00m\n\u001B[1;32m   1510\u001B[0m \u001B[38;5;28;01melse\u001B[39;00m:\n\u001B[0;32m-> 1511\u001B[0m     \u001B[38;5;28;01mreturn\u001B[39;00m \u001B[38;5;28;43mself\u001B[39;49m\u001B[38;5;241;43m.\u001B[39;49m\u001B[43m_call_impl\u001B[49m\u001B[43m(\u001B[49m\u001B[38;5;241;43m*\u001B[39;49m\u001B[43margs\u001B[49m\u001B[43m,\u001B[49m\u001B[43m \u001B[49m\u001B[38;5;241;43m*\u001B[39;49m\u001B[38;5;241;43m*\u001B[39;49m\u001B[43mkwargs\u001B[49m\u001B[43m)\u001B[49m\n",
      "File \u001B[0;32m~/Works/Dtu/deep-learning-experimental-3D-image/venv/lib/python3.10/site-packages/torch/nn/modules/module.py:1520\u001B[0m, in \u001B[0;36mModule._call_impl\u001B[0;34m(self, *args, **kwargs)\u001B[0m\n\u001B[1;32m   1515\u001B[0m \u001B[38;5;66;03m# If we don't have any hooks, we want to skip the rest of the logic in\u001B[39;00m\n\u001B[1;32m   1516\u001B[0m \u001B[38;5;66;03m# this function, and just call forward.\u001B[39;00m\n\u001B[1;32m   1517\u001B[0m \u001B[38;5;28;01mif\u001B[39;00m \u001B[38;5;129;01mnot\u001B[39;00m (\u001B[38;5;28mself\u001B[39m\u001B[38;5;241m.\u001B[39m_backward_hooks \u001B[38;5;129;01mor\u001B[39;00m \u001B[38;5;28mself\u001B[39m\u001B[38;5;241m.\u001B[39m_backward_pre_hooks \u001B[38;5;129;01mor\u001B[39;00m \u001B[38;5;28mself\u001B[39m\u001B[38;5;241m.\u001B[39m_forward_hooks \u001B[38;5;129;01mor\u001B[39;00m \u001B[38;5;28mself\u001B[39m\u001B[38;5;241m.\u001B[39m_forward_pre_hooks\n\u001B[1;32m   1518\u001B[0m         \u001B[38;5;129;01mor\u001B[39;00m _global_backward_pre_hooks \u001B[38;5;129;01mor\u001B[39;00m _global_backward_hooks\n\u001B[1;32m   1519\u001B[0m         \u001B[38;5;129;01mor\u001B[39;00m _global_forward_hooks \u001B[38;5;129;01mor\u001B[39;00m _global_forward_pre_hooks):\n\u001B[0;32m-> 1520\u001B[0m     \u001B[38;5;28;01mreturn\u001B[39;00m \u001B[43mforward_call\u001B[49m\u001B[43m(\u001B[49m\u001B[38;5;241;43m*\u001B[39;49m\u001B[43margs\u001B[49m\u001B[43m,\u001B[49m\u001B[43m \u001B[49m\u001B[38;5;241;43m*\u001B[39;49m\u001B[38;5;241;43m*\u001B[39;49m\u001B[43mkwargs\u001B[49m\u001B[43m)\u001B[49m\n\u001B[1;32m   1522\u001B[0m \u001B[38;5;28;01mtry\u001B[39;00m:\n\u001B[1;32m   1523\u001B[0m     result \u001B[38;5;241m=\u001B[39m \u001B[38;5;28;01mNone\u001B[39;00m\n",
      "File \u001B[0;32m~/Works/Dtu/deep-learning-experimental-3D-image/venv/lib/python3.10/site-packages/torch/nn/modules/conv.py:610\u001B[0m, in \u001B[0;36mConv3d.forward\u001B[0;34m(self, input)\u001B[0m\n\u001B[1;32m    609\u001B[0m \u001B[38;5;28;01mdef\u001B[39;00m \u001B[38;5;21mforward\u001B[39m(\u001B[38;5;28mself\u001B[39m, \u001B[38;5;28minput\u001B[39m: Tensor) \u001B[38;5;241m-\u001B[39m\u001B[38;5;241m>\u001B[39m Tensor:\n\u001B[0;32m--> 610\u001B[0m     \u001B[38;5;28;01mreturn\u001B[39;00m \u001B[38;5;28;43mself\u001B[39;49m\u001B[38;5;241;43m.\u001B[39;49m\u001B[43m_conv_forward\u001B[49m\u001B[43m(\u001B[49m\u001B[38;5;28;43minput\u001B[39;49m\u001B[43m,\u001B[49m\u001B[43m \u001B[49m\u001B[38;5;28;43mself\u001B[39;49m\u001B[38;5;241;43m.\u001B[39;49m\u001B[43mweight\u001B[49m\u001B[43m,\u001B[49m\u001B[43m \u001B[49m\u001B[38;5;28;43mself\u001B[39;49m\u001B[38;5;241;43m.\u001B[39;49m\u001B[43mbias\u001B[49m\u001B[43m)\u001B[49m\n",
      "File \u001B[0;32m~/Works/Dtu/deep-learning-experimental-3D-image/venv/lib/python3.10/site-packages/torch/nn/modules/conv.py:605\u001B[0m, in \u001B[0;36mConv3d._conv_forward\u001B[0;34m(self, input, weight, bias)\u001B[0m\n\u001B[1;32m    593\u001B[0m \u001B[38;5;28;01mif\u001B[39;00m \u001B[38;5;28mself\u001B[39m\u001B[38;5;241m.\u001B[39mpadding_mode \u001B[38;5;241m!=\u001B[39m \u001B[38;5;124m\"\u001B[39m\u001B[38;5;124mzeros\u001B[39m\u001B[38;5;124m\"\u001B[39m:\n\u001B[1;32m    594\u001B[0m     \u001B[38;5;28;01mreturn\u001B[39;00m F\u001B[38;5;241m.\u001B[39mconv3d(\n\u001B[1;32m    595\u001B[0m         F\u001B[38;5;241m.\u001B[39mpad(\n\u001B[1;32m    596\u001B[0m             \u001B[38;5;28minput\u001B[39m, \u001B[38;5;28mself\u001B[39m\u001B[38;5;241m.\u001B[39m_reversed_padding_repeated_twice, mode\u001B[38;5;241m=\u001B[39m\u001B[38;5;28mself\u001B[39m\u001B[38;5;241m.\u001B[39mpadding_mode\n\u001B[0;32m   (...)\u001B[0m\n\u001B[1;32m    603\u001B[0m         \u001B[38;5;28mself\u001B[39m\u001B[38;5;241m.\u001B[39mgroups,\n\u001B[1;32m    604\u001B[0m     )\n\u001B[0;32m--> 605\u001B[0m \u001B[38;5;28;01mreturn\u001B[39;00m \u001B[43mF\u001B[49m\u001B[38;5;241;43m.\u001B[39;49m\u001B[43mconv3d\u001B[49m\u001B[43m(\u001B[49m\n\u001B[1;32m    606\u001B[0m \u001B[43m    \u001B[49m\u001B[38;5;28;43minput\u001B[39;49m\u001B[43m,\u001B[49m\u001B[43m \u001B[49m\u001B[43mweight\u001B[49m\u001B[43m,\u001B[49m\u001B[43m \u001B[49m\u001B[43mbias\u001B[49m\u001B[43m,\u001B[49m\u001B[43m \u001B[49m\u001B[38;5;28;43mself\u001B[39;49m\u001B[38;5;241;43m.\u001B[39;49m\u001B[43mstride\u001B[49m\u001B[43m,\u001B[49m\u001B[43m \u001B[49m\u001B[38;5;28;43mself\u001B[39;49m\u001B[38;5;241;43m.\u001B[39;49m\u001B[43mpadding\u001B[49m\u001B[43m,\u001B[49m\u001B[43m \u001B[49m\u001B[38;5;28;43mself\u001B[39;49m\u001B[38;5;241;43m.\u001B[39;49m\u001B[43mdilation\u001B[49m\u001B[43m,\u001B[49m\u001B[43m \u001B[49m\u001B[38;5;28;43mself\u001B[39;49m\u001B[38;5;241;43m.\u001B[39;49m\u001B[43mgroups\u001B[49m\n\u001B[1;32m    607\u001B[0m \u001B[43m\u001B[49m\u001B[43m)\u001B[49m\n",
      "File \u001B[0;32m~/Works/Dtu/deep-learning-experimental-3D-image/venv/lib/python3.10/site-packages/monai/data/meta_tensor.py:282\u001B[0m, in \u001B[0;36mMetaTensor.__torch_function__\u001B[0;34m(cls, func, types, args, kwargs)\u001B[0m\n\u001B[1;32m    280\u001B[0m \u001B[38;5;28;01mif\u001B[39;00m kwargs \u001B[38;5;129;01mis\u001B[39;00m \u001B[38;5;28;01mNone\u001B[39;00m:\n\u001B[1;32m    281\u001B[0m     kwargs \u001B[38;5;241m=\u001B[39m {}\n\u001B[0;32m--> 282\u001B[0m ret \u001B[38;5;241m=\u001B[39m \u001B[38;5;28;43msuper\u001B[39;49m\u001B[43m(\u001B[49m\u001B[43m)\u001B[49m\u001B[38;5;241;43m.\u001B[39;49m\u001B[43m__torch_function__\u001B[49m\u001B[43m(\u001B[49m\u001B[43mfunc\u001B[49m\u001B[43m,\u001B[49m\u001B[43m \u001B[49m\u001B[43mtypes\u001B[49m\u001B[43m,\u001B[49m\u001B[43m \u001B[49m\u001B[43margs\u001B[49m\u001B[43m,\u001B[49m\u001B[43m \u001B[49m\u001B[43mkwargs\u001B[49m\u001B[43m)\u001B[49m\n\u001B[1;32m    283\u001B[0m \u001B[38;5;66;03m# if `out` has been used as argument, metadata is not copied, nothing to do.\u001B[39;00m\n\u001B[1;32m    284\u001B[0m \u001B[38;5;66;03m# if \"out\" in kwargs:\u001B[39;00m\n\u001B[1;32m    285\u001B[0m \u001B[38;5;66;03m#     return ret\u001B[39;00m\n\u001B[1;32m    286\u001B[0m \u001B[38;5;28;01mif\u001B[39;00m _not_requiring_metadata(ret):\n",
      "File \u001B[0;32m~/Works/Dtu/deep-learning-experimental-3D-image/venv/lib/python3.10/site-packages/torch/_tensor.py:1418\u001B[0m, in \u001B[0;36mTensor.__torch_function__\u001B[0;34m(cls, func, types, args, kwargs)\u001B[0m\n\u001B[1;32m   1415\u001B[0m     \u001B[38;5;28;01mreturn\u001B[39;00m \u001B[38;5;28mNotImplemented\u001B[39m\n\u001B[1;32m   1417\u001B[0m \u001B[38;5;28;01mwith\u001B[39;00m _C\u001B[38;5;241m.\u001B[39mDisableTorchFunctionSubclass():\n\u001B[0;32m-> 1418\u001B[0m     ret \u001B[38;5;241m=\u001B[39m \u001B[43mfunc\u001B[49m\u001B[43m(\u001B[49m\u001B[38;5;241;43m*\u001B[39;49m\u001B[43margs\u001B[49m\u001B[43m,\u001B[49m\u001B[43m \u001B[49m\u001B[38;5;241;43m*\u001B[39;49m\u001B[38;5;241;43m*\u001B[39;49m\u001B[43mkwargs\u001B[49m\u001B[43m)\u001B[49m\n\u001B[1;32m   1419\u001B[0m     \u001B[38;5;28;01mif\u001B[39;00m func \u001B[38;5;129;01min\u001B[39;00m get_default_nowrap_functions():\n\u001B[1;32m   1420\u001B[0m         \u001B[38;5;28;01mreturn\u001B[39;00m ret\n",
      "\u001B[0;31mRuntimeError\u001B[0m: Input type (torch.FloatTensor) and weight type (torch.cuda.FloatTensor) should be the same or input should be a MKLDNN tensor and weight is a dense tensor"
     ]
    }
   ],
   "source": [
    "# 2. Model. Now, use your model to do inference in a few images\n",
    "for i, dummy_data in enumerate(dummy_loader):\n",
    "    inputs = dummy_data['image']\n",
    "    print(inputs.shape)\n",
    "    pred = model(inputs)\n",
    "    if i > 5:\n",
    "        break"
   ]
  },
  {
   "cell_type": "markdown",
   "id": "942886be-2a3a-4931-adf3-ac189c892b4d",
   "metadata": {},
   "source": [
    "If you used the same architecture of the model that you trained last week, **you got probably an error** (if everything went fine, congrats!).\n",
    "\n",
    "This error is likely caused due to the small and incompatible number of features in the last dimension. Remember from last week that it is important to find an appropriate image size to train the network:"
   ]
  },
  {
   "cell_type": "code",
   "execution_count": null,
   "id": "b2b73678-cc19-4c5a-8b72-8b361736e5b0",
   "metadata": {},
   "outputs": [],
   "source": [
    "torch.cuda.is_available()"
   ]
  },
  {
   "cell_type": "code",
   "execution_count": null,
   "id": "367fa77b-3e05-4ab1-9068-3571511d29c3",
   "metadata": {},
   "outputs": [],
   "source": [
    "# This will work\n",
    "inputs = torch.rand((1, 1, 128, 128, 32)).cuda()\n",
    "pred = model(inputs).cuda()\n",
    "print(pred.shape)\n",
    "\n",
    "# This will not work\n",
    "# inputs = torch.rand((1, 1, 320, 320, 11))\n",
    "# pred = model(inputs)\n",
    "# print(pred.shape)"
   ]
  },
  {
   "cell_type": "markdown",
   "id": "46431626-c556-4710-ae8c-41c5ff9050a4",
   "metadata": {},
   "source": [
    "Remember that the encoder of UNet-like architectures downsamples the input images multiple times. If, e.g., our feature maps have a size of 320x320x11, after downsampling them (with strides=2) once, the feature maps will be 160x160xF. What would F be: Five or Six? It depends on the configuration of the network. This detail might not be too important in the encoder, but it is an important consideration in the decoder when trying to concatenate the feature maps from the encoder and decoder. Chances are that your code raised a RuntimeError when attempting to torch.cat in the skip layers.\n",
    "\n",
    "[<img src=\"https://lmb.informatik.uni-freiburg.de/people/ronneber/u-net/u-net-architecture.png\" width=\"700px\">](https://lmb.informatik.uni-freiburg.de/people/ronneber/u-net/u-net-architecture.png)\n",
    "\n",
    "> ---\n",
    "> **Task:**\n",
    "> \n",
    "> Find:\n",
    "> 1. A network configuration,\n",
    "> 2. An image size (for the ResizeWithPadOrCropd transform) and\n",
    "> 3. A batch size\n",
    "> \n",
    "> that are **compatible**, and that **fit** in the GPU.\n",
    ">\n",
    "> **Note**: Regarding the image size for ResizeWithPadOrCrop, last week we only cared about finding an appropriate HxW and did not care about the Depth dimension because we were training on slices. Now, you must find HxWxD.\n",
    "> \n",
    "> ---"
   ]
  },
  {
   "cell_type": "code",
   "execution_count": null,
   "id": "fe8e7a87-0871-4a8a-a29b-77f242377719",
   "metadata": {},
   "outputs": [],
   "source": [
    "a = 320\n",
    "inferer = monai.inferers.SlidingWindowInferer(roi_size=(a, a,-1), sw_batch_size=1)\n",
    "inferer(torch.randn(1,1,a,a,32).cuda(), model).shape"
   ]
  },
  {
   "cell_type": "code",
   "execution_count": null,
   "id": "9ca36011-17fd-466c-8f89-d3d44c25ea42",
   "metadata": {},
   "outputs": [],
   "source": [
    "# a = 320\n",
    "for a in [100 + 2*i for i in range(400)]:\n",
    "    try:\n",
    "        inferer = monai.inferers.SliceInferer(roi_size=(a, a), sw_batch_size=1, spatial_dim=2)\n",
    "        inferer(torch.randn(1,1,a,a,28).cuda(), model).shape\n",
    "        print(a)\n",
    "    except:\n",
    "        pass\n",
    "    # print(\"e\")"
   ]
  },
  {
   "cell_type": "code",
   "execution_count": null,
   "id": "1c7987a4-1ec1-4b9e-ab7d-995c4b8b451a",
   "metadata": {},
   "outputs": [],
   "source": [
    "# Hyper-parameters (next three lines) #\n",
    "BATCH_SIZE = 1\n",
    "NUM_EPOCHS = 1\n",
    "EVAL_EVERY = 1\n",
    "\n",
    "train_dataset = Dataset(data=train_files, transform=train_transforms)\n",
    "train_loader = DataLoader(train_dataset, batch_size=BATCH_SIZE, shuffle=True)\n",
    "val_dataset = Dataset(data=val_files, transform=val_transforms)\n",
    "val_loader = DataLoader(val_dataset, batch_size=1, shuffle=False)\n",
    "\n",
    "# More design decisions (model, loss, optimizer) #\n",
    "\n",
    "loss_fn = monai.losses.DiceLoss(softmax=True, to_onehot_y=False) # Apply \"softmax\" to the output of the network and don't convert to onehot because this is done already by the transforms.\n",
    "optimizer = torch.optim.Adam(model.parameters(), lr=1e-3) \n",
    "\n",
    "# inferer = monai.inferers.SliceInferer(roi_size=[320, 320], cval=-1, sw_batch_size=1)\n",
    "# inferer = monai.inferers.SimpleInferer()#monai.inferers.SliceInferer(roi_size=(320, 320), sw_batch_size=1, cval=-1, progress=True)\n",
    "inferer = monai.inferers.SlidingWindowInferer(roi_size=(320, 320, -1), sw_batch_size=1)\n",
    "\n",
    "\n",
    "all_losses = []\n",
    "all_dices = []\n",
    "all_hd95 = []\n",
    "\n",
    "for epoch in range(NUM_EPOCHS):\n",
    "    print(f'Epoch {epoch + 1}')\n",
    "\n",
    "    model.train()\n",
    "    epoch_loss = 0\n",
    "    step = 0\n",
    "    for tr_data in train_loader:\n",
    "        inputs = tr_data['image'].cuda()\n",
    "        targets = tr_data['label'].cuda()\n",
    "\n",
    "        # Forward -> Backward -> Step\n",
    "        optimizer.zero_grad()\n",
    "\n",
    "        outputs = model(inputs)\n",
    "        loss = loss_fn(outputs, targets)\n",
    "\n",
    "        loss.backward()\n",
    "        optimizer.step()\n",
    "\n",
    "        epoch_loss += loss.detach()\n",
    "        step += 1\n",
    "        \n",
    "    # Log and store average epoch loss\n",
    "    epoch_loss = epoch_loss.item() / step\n",
    "    all_losses.append(epoch_loss)\n",
    "    print(f'Mean loss: {epoch_loss}')\n",
    "\n",
    "    if epoch % EVAL_EVERY == 0:\n",
    "        model.eval()\n",
    "        with torch.no_grad():  # Do not need gradients for this part\n",
    "            for val_data in val_loader:\n",
    "                inputs = val_data['image'].cuda()\n",
    "                targets = val_data['label'].cuda()\n",
    "\n",
    "                # Gets the prediction in the entire 3D image. Shape = BCHWD\n",
    "                # inputs = inputs.permute(0, 1, 4, 2, 3) # changed                \n",
    "                prediction = inferer(inputs=inputs, network=model)\n",
    "\n",
    "                # Inverses the transformations, i.e., it:\n",
    "                # - Unpads/Uncrops the image\n",
    "                # - Resamples back to the original voxel resolution\n",
    "                batch_inverter = BatchInverseTransform(val_transforms, val_loader)\n",
    "                with allow_missing_keys_mode(val_transforms):\n",
    "                    inversed_prediction = batch_inverter({\"label\": prediction}) # Shape: inversed_prediction[B]['label'].shape = CHWD\n",
    "                    inversed_targets = batch_inverter({\"label\": targets}) # Shape: inversed_targets[B]['label'].shape = 1HWD\n",
    "\n",
    "                # Applying argmax on that prediction\n",
    "                inversed_prediction = [monai.transforms.AsDiscrete(argmax=True)(pred['label']) for pred in inversed_prediction]\n",
    "\n",
    "                val_dices = []\n",
    "                val_hd95 = []\n",
    "                # Compute the dice coefficients\n",
    "                for b in range(prediction.shape[0]):\n",
    "                    dices_tmp = []\n",
    "                    hd95_tmp = []\n",
    "                    for c in range(1, prediction.shape[1]): # Iterate over each class (except the first one, that corresponds to the background)\n",
    "                        dices_tmp.append( metric.dc( 1*(inversed_prediction[b].cpu().detach().numpy()==c),\n",
    "                                                   1*(inversed_targets[b]['label'].cpu().detach().numpy()==c) ) )\n",
    "                        # hd95_tmp.append(metric.hd95(prediction[b][c], targets[b][c], voxelspacing=newVoxelDims))\n",
    "                    val_dices.append(dices_tmp)\n",
    "                    val_hd95.append(metric.hd95(prediction.argmax(dim=1).squeeze(), targets.squeeze(), voxelspacing=newVoxelDims))\n",
    "\n",
    "        # Log and store the average Dice coefficient across images; one value per class\n",
    "        all_dices.append(np.mean(val_dices, axis=0))\n",
    "        all_hd95.append(np.mean(val_hd95, axis=0))\n",
    "        print(f'Dice coefficients: {all_dices[-1]}')\n",
    "        print(f'HD distances: {all_hd95[-1]}')"
   ]
  },
  {
   "cell_type": "code",
   "execution_count": null,
   "id": "2d4acc00-2c9a-4f01-8d79-1c15a5392c7f",
   "metadata": {},
   "outputs": [],
   "source": []
  },
  {
   "cell_type": "markdown",
   "id": "19a22ac5-0e68-4c13-8a71-90d298a3c62c",
   "metadata": {},
   "source": [
    "> ---\n",
    "> **Task:**\n",
    "> \n",
    "> Similarly to last week, visualize 1) the training loss, 2) the validation dice coefficient, and 3) the validation of the other metric of your choice.\n",
    ">\n",
    "> ---"
   ]
  },
  {
   "cell_type": "code",
   "execution_count": 68,
   "id": "da89b816-234a-48b1-b3f8-448939dc8981",
   "metadata": {},
   "outputs": [
    {
     "ename": "NameError",
     "evalue": "name 'prediction' is not defined",
     "output_type": "error",
     "traceback": [
      "\u001B[0;31m---------------------------------------------------------------------------\u001B[0m",
      "\u001B[0;31mNameError\u001B[0m                                 Traceback (most recent call last)",
      "Cell \u001B[0;32mIn[68], line 1\u001B[0m\n\u001B[0;32m----> 1\u001B[0m \u001B[38;5;28mprint\u001B[39m(\u001B[43mprediction\u001B[49m\u001B[38;5;241m.\u001B[39mshape, prediction\u001B[38;5;241m.\u001B[39margmax(dim\u001B[38;5;241m=\u001B[39m\u001B[38;5;241m1\u001B[39m)\u001B[38;5;241m.\u001B[39msqueeze()\u001B[38;5;241m.\u001B[39mshape, targets\u001B[38;5;241m.\u001B[39mshape, targets\u001B[38;5;241m.\u001B[39msqueeze()\u001B[38;5;241m.\u001B[39mshape)\n",
      "\u001B[0;31mNameError\u001B[0m: name 'prediction' is not defined"
     ]
    }
   ],
   "source": [
    "print(prediction.shape, prediction.argmax(dim=1).squeeze().shape, targets.shape, targets.squeeze().shape)"
   ]
  },
  {
   "cell_type": "code",
   "execution_count": 69,
   "id": "e9a6f17d-0e58-4e77-91d9-cffe3fd81f16",
   "metadata": {},
   "outputs": [
    {
     "ename": "IndexError",
     "evalue": "too many indices for array: array is 1-dimensional, but 2 were indexed",
     "output_type": "error",
     "traceback": [
      "\u001B[0;31m---------------------------------------------------------------------------\u001B[0m",
      "\u001B[0;31mIndexError\u001B[0m                                Traceback (most recent call last)",
      "Cell \u001B[0;32mIn[69], line 13\u001B[0m\n\u001B[1;32m     10\u001B[0m axs[\u001B[38;5;241m0\u001B[39m]\u001B[38;5;241m.\u001B[39mset_ylabel(\u001B[38;5;124m\"\u001B[39m\u001B[38;5;124mloss\u001B[39m\u001B[38;5;124m\"\u001B[39m)\n\u001B[1;32m     12\u001B[0m axs[\u001B[38;5;241m1\u001B[39m]\u001B[38;5;241m.\u001B[39mset_title(\u001B[38;5;124m\"\u001B[39m\u001B[38;5;124mValidation DICE coefficients\u001B[39m\u001B[38;5;124m\"\u001B[39m)\n\u001B[0;32m---> 13\u001B[0m axs[\u001B[38;5;241m1\u001B[39m]\u001B[38;5;241m.\u001B[39mplot(\u001B[43mad\u001B[49m\u001B[43m[\u001B[49m\u001B[43m:\u001B[49m\u001B[43m,\u001B[49m\u001B[38;5;241;43m0\u001B[39;49m\u001B[43m]\u001B[49m, label \u001B[38;5;241m=\u001B[39m \u001B[38;5;124m\"\u001B[39m\u001B[38;5;124mLeft Ventricle\u001B[39m\u001B[38;5;124m\"\u001B[39m)\n\u001B[1;32m     14\u001B[0m axs[\u001B[38;5;241m1\u001B[39m]\u001B[38;5;241m.\u001B[39mplot(ad[:,\u001B[38;5;241m1\u001B[39m], label \u001B[38;5;241m=\u001B[39m \u001B[38;5;124m\"\u001B[39m\u001B[38;5;124mMyocardium\u001B[39m\u001B[38;5;124m\"\u001B[39m)\n\u001B[1;32m     15\u001B[0m axs[\u001B[38;5;241m1\u001B[39m]\u001B[38;5;241m.\u001B[39mplot(ad[:,\u001B[38;5;241m2\u001B[39m], label \u001B[38;5;241m=\u001B[39m \u001B[38;5;124m\"\u001B[39m\u001B[38;5;124mRight Ventricle\u001B[39m\u001B[38;5;124m\"\u001B[39m)\n",
      "\u001B[0;31mIndexError\u001B[0m: too many indices for array: array is 1-dimensional, but 2 were indexed"
     ]
    },
    {
     "data": {
      "image/png": "[encoded data removed]",
      "text/plain": [
       "<Figure size 1200x500 with 3 Axes>"
      ]
     },
     "metadata": {},
     "output_type": "display_data"
    }
   ],
   "source": [
    "# Code for the task here\n",
    "# plt.plot(all_losses)\n",
    "ad = np.array(all_dices)\n",
    "ah = np.array(all_hd95)\n",
    "\n",
    "fig, axs = plt.subplots(1,3, figsize = (12,5))\n",
    "axs[0].set_title(\"Training loss\")\n",
    "axs[0].plot(all_losses)\n",
    "axs[0].set_xlabel(\"Epoch\")\n",
    "axs[0].set_ylabel(\"loss\")\n",
    "\n",
    "axs[1].set_title(\"Validation DICE coefficients\")\n",
    "axs[1].plot(ad[:,0], label = \"Left Ventricle\")\n",
    "axs[1].plot(ad[:,1], label = \"Myocardium\")\n",
    "axs[1].plot(ad[:,2], label = \"Right Ventricle\")\n",
    "axs[1].set_xlabel(\"Epoch\")\n",
    "axs[1].set_ylabel(\"DICE coefficient\")\n",
    "plt.legend()\n",
    "\n",
    "axs[2].set_title(\"Validation 95th percentile of the Hausdorff Distance\")\n",
    "axs[2].plot(ah)#, label = \"Left Ventricle\")\n",
    "# axs[2].plot(ah[:,1], label = \"Myocardium\")\n",
    "# axs[2].plot(ah[:,2], label = \"Right Ventricle\")\n",
    "axs[2].set_xlabel(\"Epoch\")\n",
    "axs[2].set_ylabel(\"Distance\")\n",
    "# plt.legend()\n",
    "plt.show()"
   ]
  },
  {
   "cell_type": "markdown",
   "id": "eb6008ce-07e5-4c2f-9347-53ea443c6058",
   "metadata": {},
   "source": [
    "## 1.6 Inference in the test set\n",
    "\n",
    "> ---\n",
    "> **Task**: Compute the predictions of the test set images.\n",
    ">\n",
    "> **Important remark**: Fill the list \"test_dices\", which is a list of lists. E.g., test_dices = [ [id1, dice1, dice2, dice3], [id2, dice1, dice2, dice3], ...]. Here, idN is the name of the file (e.g., patient019_frame12) that you get from `test_data['id']`, and each dice corresponds to the Dice coefficient in each class except in 'class 0' (background).\n",
    ">\n",
    "> ---"
   ]
  },
  {
   "cell_type": "code",
   "execution_count": 70,
   "id": "14b626d6-1bc1-4d18-b431-ff8f6cc79de7",
   "metadata": {},
   "outputs": [],
   "source": [
    "from tqdm import trange, tqdm"
   ]
  },
  {
   "cell_type": "code",
   "execution_count": 71,
   "id": "6e84778f-1227-4dc3-995a-749802260f4a",
   "metadata": {},
   "outputs": [
    {
     "ename": "NameError",
     "evalue": "name 'testFiles' is not defined",
     "output_type": "error",
     "traceback": [
      "\u001B[0;31m---------------------------------------------------------------------------\u001B[0m",
      "\u001B[0;31mNameError\u001B[0m                                 Traceback (most recent call last)",
      "Cell \u001B[0;32mIn[71], line 12\u001B[0m\n\u001B[1;32m      3\u001B[0m test_transforms \u001B[38;5;241m=\u001B[39m monai\u001B[38;5;241m.\u001B[39mtransforms\u001B[38;5;241m.\u001B[39mCompose([\n\u001B[1;32m      4\u001B[0m     monai\u001B[38;5;241m.\u001B[39mtransforms\u001B[38;5;241m.\u001B[39mLoadImaged(keys\u001B[38;5;241m=\u001B[39m[\u001B[38;5;124m'\u001B[39m\u001B[38;5;124mimage\u001B[39m\u001B[38;5;124m'\u001B[39m, \u001B[38;5;124m'\u001B[39m\u001B[38;5;124mlabel\u001B[39m\u001B[38;5;124m'\u001B[39m]),\n\u001B[1;32m      5\u001B[0m     monai\u001B[38;5;241m.\u001B[39mtransforms\u001B[38;5;241m.\u001B[39mEnsureChannelFirstd(keys\u001B[38;5;241m=\u001B[39m[\u001B[38;5;124m'\u001B[39m\u001B[38;5;124mimage\u001B[39m\u001B[38;5;124m'\u001B[39m, \u001B[38;5;124m'\u001B[39m\u001B[38;5;124mlabel\u001B[39m\u001B[38;5;124m'\u001B[39m]),\n\u001B[1;32m      6\u001B[0m     monai\u001B[38;5;241m.\u001B[39mtransforms\u001B[38;5;241m.\u001B[39mSpacingd(keys\u001B[38;5;241m=\u001B[39m[\u001B[38;5;124m'\u001B[39m\u001B[38;5;124mimage\u001B[39m\u001B[38;5;124m'\u001B[39m, \u001B[38;5;124m'\u001B[39m\u001B[38;5;124mlabel\u001B[39m\u001B[38;5;124m'\u001B[39m], pixdim\u001B[38;5;241m=\u001B[39mnewVoxelDims, mode\u001B[38;5;241m=\u001B[39m[\u001B[38;5;124m\"\u001B[39m\u001B[38;5;124mbilinear\u001B[39m\u001B[38;5;124m\"\u001B[39m, \u001B[38;5;124m\"\u001B[39m\u001B[38;5;124mnearest\u001B[39m\u001B[38;5;124m\"\u001B[39m]),\n\u001B[1;32m      7\u001B[0m     monai\u001B[38;5;241m.\u001B[39mtransforms\u001B[38;5;241m.\u001B[39mResizeWithPadOrCropd(keys\u001B[38;5;241m=\u001B[39m[\u001B[38;5;124m'\u001B[39m\u001B[38;5;124mimage\u001B[39m\u001B[38;5;124m'\u001B[39m, \u001B[38;5;124m'\u001B[39m\u001B[38;5;124mlabel\u001B[39m\u001B[38;5;124m'\u001B[39m], spatial_size\u001B[38;5;241m=\u001B[39mspatialSize),\n\u001B[1;32m      8\u001B[0m ])\n\u001B[1;32m     10\u001B[0m inferer \u001B[38;5;241m=\u001B[39m monai\u001B[38;5;241m.\u001B[39minferers\u001B[38;5;241m.\u001B[39mSlidingWindowInferer(roi_size\u001B[38;5;241m=\u001B[39m(\u001B[38;5;241m320\u001B[39m, \u001B[38;5;241m320\u001B[39m, \u001B[38;5;241m-\u001B[39m\u001B[38;5;241m1\u001B[39m), sw_batch_size\u001B[38;5;241m=\u001B[39m\u001B[38;5;241m1\u001B[39m)\n\u001B[0;32m---> 12\u001B[0m test_dataset \u001B[38;5;241m=\u001B[39m Dataset(data\u001B[38;5;241m=\u001B[39m\u001B[43mtestFiles\u001B[49m, transform\u001B[38;5;241m=\u001B[39mtest_transforms)\n\u001B[1;32m     13\u001B[0m test_loader \u001B[38;5;241m=\u001B[39m DataLoader(test_dataset, batch_size\u001B[38;5;241m=\u001B[39m\u001B[38;5;241m1\u001B[39m, shuffle\u001B[38;5;241m=\u001B[39m\u001B[38;5;28;01mFalse\u001B[39;00m)\n\u001B[1;32m     16\u001B[0m model \u001B[38;5;241m=\u001B[39m model\u001B[38;5;241m.\u001B[39mcpu()\n",
      "\u001B[0;31mNameError\u001B[0m: name 'testFiles' is not defined"
     ]
    }
   ],
   "source": [
    "test_dices = []\n",
    "\n",
    "test_transforms = monai.transforms.Compose([\n",
    "    monai.transforms.LoadImaged(keys=['image', 'label']),\n",
    "    monai.transforms.EnsureChannelFirstd(keys=['image', 'label']),\n",
    "    monai.transforms.Spacingd(keys=['image', 'label'], pixdim=newVoxelDims, mode=[\"bilinear\", \"nearest\"]),\n",
    "    monai.transforms.ResizeWithPadOrCropd(keys=['image', 'label'], spatial_size=spatialSize),\n",
    "])\n",
    "\n",
    "inferer = monai.inferers.SlidingWindowInferer(roi_size=(320, 320, -1), sw_batch_size=1)\n",
    "\n",
    "test_dataset = Dataset(data=test_files, transform=test_transforms)\n",
    "test_loader = DataLoader(test_dataset, batch_size=1, shuffle=False)\n",
    "\n",
    "\n",
    "model = model.cpu()\n",
    "test_dices = []\n",
    "for test_data in tqdm(test_loader):\n",
    "    inputs = test_data['image']#.cuda()\n",
    "    targets = test_data['label']#.cuda()\n",
    "    ids = test_data['id']\n",
    "\n",
    "    prediction = inferer(inputs=inputs, network=model)\n",
    "    \n",
    "    batch_inverter = BatchInverseTransform(test_transforms, test_loader)\n",
    "    with allow_missing_keys_mode(test_transforms):\n",
    "        inversed_prediction = batch_inverter({\"label\": prediction}) # Shape: inversed_prediction[B]['label'].shape = CHWD\n",
    "        inversed_targets = batch_inverter({\"label\": targets}) # Shape: inversed_targets[B]['label'].shape = 1HWD\n",
    "\n",
    "    # Applying argmax on that prediction\n",
    "    inversed_prediction = [monai.transforms.AsDiscrete(argmax=True)(pred['label']) for pred in inversed_prediction]\n",
    "\n",
    "    # Compute the dice coefficients\n",
    "    for b in range(prediction.shape[0]):\n",
    "        print(\" --- \", ids)\n",
    "        dices = [ids[0]]\n",
    "        for c in range(1, prediction.shape[1]): # Iterate over each class (except the first one, that corresponds to the background)\n",
    "            dice = metric.dc( 1*(inversed_prediction[b].cpu().detach().numpy()==c), 1*(inversed_targets[b]['label'].cpu().detach().numpy()==c))\n",
    "            dices.append(dice)\n",
    "        print(dices)\n",
    "        test_dices.append(dices)\n",
    "\n",
    "# Checking that your \"test_dices\" has the right format.\n",
    "assert len(test_dices) == 40\n",
    "for line in test_dices:\n",
    "    assert len(line) == 4\n",
    "\n",
    "for frameid, dice1, dice2, dice3 in test_dices:\n",
    "    print(f\"Frame ID: {frameid}. Dice coeff. (Class 1): {dice1}. Dice coeff. (Class 2): {dice2}. Dice coeff. (Class 3): {dice3}\")\n",
    "\n",
    "avg_dice = np.mean([[d1, d2, d3] for _, d1, d2, d3 in test_dices])\n",
    "print(f\"Final average dice: {avg_dice}\") # This should be one single number. It will be later used to compare which model is better"
   ]
  },
  {
   "cell_type": "markdown",
   "id": "af59f712-0912-4e06-9f9b-b54d1f2d6dd9",
   "metadata": {},
   "source": [
    "## 1.7 Misc: Saving and loading PyTorch models\n",
    "\n",
    "In Pytorch we are typically interested in saving the trained models to, later, use it for inference. Here, we say \"saving models\" in a loose way since, in practice, we don't save the model; we save the **parameters** of the model. Saving these parameters can be done in the following way:"
   ]
  },
  {
   "cell_type": "code",
   "execution_count": 72,
   "id": "39ac284b-1b14-420a-9a90-6ed958c6efbd",
   "metadata": {},
   "outputs": [
    {
     "ename": "FileNotFoundError",
     "evalue": "[Errno 2] No such file or directory: 'my_model'",
     "output_type": "error",
     "traceback": [
      "\u001B[0;31m---------------------------------------------------------------------------\u001B[0m",
      "\u001B[0;31mFileNotFoundError\u001B[0m                         Traceback (most recent call last)",
      "Cell \u001B[0;32mIn[72], line 6\u001B[0m\n\u001B[1;32m      1\u001B[0m \u001B[38;5;66;03m# Note: as explained above, if you try to load your saved weights into this model, you'll get an error.\u001B[39;00m\n\u001B[1;32m      2\u001B[0m \u001B[38;5;66;03m# This is because the models have different architecture.\u001B[39;00m\n\u001B[1;32m      3\u001B[0m model2 \u001B[38;5;241m=\u001B[39m DynUNet(spatial_dims\u001B[38;5;241m=\u001B[39m\u001B[38;5;241m3\u001B[39m, in_channels\u001B[38;5;241m=\u001B[39m\u001B[38;5;241m1\u001B[39m, out_channels\u001B[38;5;241m=\u001B[39m\u001B[38;5;241m4\u001B[39m,\n\u001B[1;32m      4\u001B[0m                 kernel_size\u001B[38;5;241m=\u001B[39m[\u001B[38;5;241m5\u001B[39m, \u001B[38;5;241m5\u001B[39m, \u001B[38;5;241m5\u001B[39m, \u001B[38;5;241m5\u001B[39m, \u001B[38;5;241m5\u001B[39m],\n\u001B[1;32m      5\u001B[0m                 strides\u001B[38;5;241m=\u001B[39m[\u001B[38;5;241m1\u001B[39m, \u001B[38;5;241m2\u001B[39m, \u001B[38;5;241m2\u001B[39m, \u001B[38;5;241m2\u001B[39m, \u001B[38;5;241m2\u001B[39m], upsample_kernel_size\u001B[38;5;241m=\u001B[39m[\u001B[38;5;241m2\u001B[39m, \u001B[38;5;241m2\u001B[39m, \u001B[38;5;241m2\u001B[39m, \u001B[38;5;241m2\u001B[39m])\u001B[38;5;241m.\u001B[39mcuda()\n\u001B[0;32m----> 6\u001B[0m model2\u001B[38;5;241m.\u001B[39mload_state_dict(\u001B[43mtorch\u001B[49m\u001B[38;5;241;43m.\u001B[39;49m\u001B[43mload\u001B[49m\u001B[43m(\u001B[49m\u001B[38;5;124;43m\"\u001B[39;49m\u001B[38;5;124;43mmy_model\u001B[39;49m\u001B[38;5;124;43m\"\u001B[39;49m\u001B[43m)\u001B[49m)\n",
      "File \u001B[0;32m~/Works/Dtu/deep-learning-experimental-3D-image/venv/lib/python3.10/site-packages/torch/serialization.py:998\u001B[0m, in \u001B[0;36mload\u001B[0;34m(f, map_location, pickle_module, weights_only, mmap, **pickle_load_args)\u001B[0m\n\u001B[1;32m    995\u001B[0m \u001B[38;5;28;01mif\u001B[39;00m \u001B[38;5;124m'\u001B[39m\u001B[38;5;124mencoding\u001B[39m\u001B[38;5;124m'\u001B[39m \u001B[38;5;129;01mnot\u001B[39;00m \u001B[38;5;129;01min\u001B[39;00m pickle_load_args\u001B[38;5;241m.\u001B[39mkeys():\n\u001B[1;32m    996\u001B[0m     pickle_load_args[\u001B[38;5;124m'\u001B[39m\u001B[38;5;124mencoding\u001B[39m\u001B[38;5;124m'\u001B[39m] \u001B[38;5;241m=\u001B[39m \u001B[38;5;124m'\u001B[39m\u001B[38;5;124mutf-8\u001B[39m\u001B[38;5;124m'\u001B[39m\n\u001B[0;32m--> 998\u001B[0m \u001B[38;5;28;01mwith\u001B[39;00m \u001B[43m_open_file_like\u001B[49m\u001B[43m(\u001B[49m\u001B[43mf\u001B[49m\u001B[43m,\u001B[49m\u001B[43m \u001B[49m\u001B[38;5;124;43m'\u001B[39;49m\u001B[38;5;124;43mrb\u001B[39;49m\u001B[38;5;124;43m'\u001B[39;49m\u001B[43m)\u001B[49m \u001B[38;5;28;01mas\u001B[39;00m opened_file:\n\u001B[1;32m    999\u001B[0m     \u001B[38;5;28;01mif\u001B[39;00m _is_zipfile(opened_file):\n\u001B[1;32m   1000\u001B[0m         \u001B[38;5;66;03m# The zipfile reader is going to advance the current file position.\u001B[39;00m\n\u001B[1;32m   1001\u001B[0m         \u001B[38;5;66;03m# If we want to actually tail call to torch.jit.load, we need to\u001B[39;00m\n\u001B[1;32m   1002\u001B[0m         \u001B[38;5;66;03m# reset back to the original position.\u001B[39;00m\n\u001B[1;32m   1003\u001B[0m         orig_position \u001B[38;5;241m=\u001B[39m opened_file\u001B[38;5;241m.\u001B[39mtell()\n",
      "File \u001B[0;32m~/Works/Dtu/deep-learning-experimental-3D-image/venv/lib/python3.10/site-packages/torch/serialization.py:445\u001B[0m, in \u001B[0;36m_open_file_like\u001B[0;34m(name_or_buffer, mode)\u001B[0m\n\u001B[1;32m    443\u001B[0m \u001B[38;5;28;01mdef\u001B[39;00m \u001B[38;5;21m_open_file_like\u001B[39m(name_or_buffer, mode):\n\u001B[1;32m    444\u001B[0m     \u001B[38;5;28;01mif\u001B[39;00m _is_path(name_or_buffer):\n\u001B[0;32m--> 445\u001B[0m         \u001B[38;5;28;01mreturn\u001B[39;00m \u001B[43m_open_file\u001B[49m\u001B[43m(\u001B[49m\u001B[43mname_or_buffer\u001B[49m\u001B[43m,\u001B[49m\u001B[43m \u001B[49m\u001B[43mmode\u001B[49m\u001B[43m)\u001B[49m\n\u001B[1;32m    446\u001B[0m     \u001B[38;5;28;01melse\u001B[39;00m:\n\u001B[1;32m    447\u001B[0m         \u001B[38;5;28;01mif\u001B[39;00m \u001B[38;5;124m'\u001B[39m\u001B[38;5;124mw\u001B[39m\u001B[38;5;124m'\u001B[39m \u001B[38;5;129;01min\u001B[39;00m mode:\n",
      "File \u001B[0;32m~/Works/Dtu/deep-learning-experimental-3D-image/venv/lib/python3.10/site-packages/torch/serialization.py:426\u001B[0m, in \u001B[0;36m_open_file.__init__\u001B[0;34m(self, name, mode)\u001B[0m\n\u001B[1;32m    425\u001B[0m \u001B[38;5;28;01mdef\u001B[39;00m \u001B[38;5;21m__init__\u001B[39m(\u001B[38;5;28mself\u001B[39m, name, mode):\n\u001B[0;32m--> 426\u001B[0m     \u001B[38;5;28msuper\u001B[39m()\u001B[38;5;241m.\u001B[39m\u001B[38;5;21m__init__\u001B[39m(\u001B[38;5;28;43mopen\u001B[39;49m\u001B[43m(\u001B[49m\u001B[43mname\u001B[49m\u001B[43m,\u001B[49m\u001B[43m \u001B[49m\u001B[43mmode\u001B[49m\u001B[43m)\u001B[49m)\n",
      "\u001B[0;31mFileNotFoundError\u001B[0m: [Errno 2] No such file or directory: 'my_model'"
     ]
    }
   ],
   "source": [
    "# Note: as explained above, if you try to load your saved weights into this model, you'll get an error.\n",
    "# This is because the models have different architecture.\n",
    "model2 = DynUNet(spatial_dims=3, in_channels=1, out_channels=4,\n",
    "                kernel_size=[5, 5, 5, 5, 5],\n",
    "                strides=[1, 2, 2, 2, 2], upsample_kernel_size=[2, 2, 2, 2]).cuda()\n",
    "model2.load_state_dict(torch.load(\"my_model\"))"
   ]
  },
  {
   "cell_type": "markdown",
   "id": "85e7f219-761c-499c-9000-f280a1195f51",
   "metadata": {},
   "source": [
    "## 1.8 Misc: Saving segmentations (numpy arrays) as Nifti files (.nii/.nii.gz)\n",
    "\n",
    "After generating automatic segmentations, it is usually the case that we want to save them in files to later visualize them or quantify certain regions of interest. Saving segmentations as Nifti files is in practice very easy, however, it is **extremely important** to be mindful about the images' header. These headers contain important information, as you saw last week, about the voxel resolution, but also about the way the images should be displayed when opened in programs such as ITKsnap. A safe way to save segmentation as nifti files is to, first, open the image they correspond to, and, afterwards, using that images' header and affine transform. See example below:"
   ]
  },
  {
   "cell_type": "code",
   "execution_count": 73,
   "id": "a8db5ac7-37e1-423a-95cc-094dc6e552e7",
   "metadata": {},
   "outputs": [
    {
     "ename": "NameError",
     "evalue": "name 'IMAGEPATH' is not defined",
     "output_type": "error",
     "traceback": [
      "\u001B[0;31m---------------------------------------------------------------------------\u001B[0m",
      "\u001B[0;31mNameError\u001B[0m                                 Traceback (most recent call last)",
      "Cell \u001B[0;32mIn[73], line 2\u001B[0m\n\u001B[1;32m      1\u001B[0m \u001B[38;5;66;03m# Open the original image\u001B[39;00m\n\u001B[0;32m----> 2\u001B[0m image_original \u001B[38;5;241m=\u001B[39m nib\u001B[38;5;241m.\u001B[39mload(\u001B[43mIMAGEPATH\u001B[49m)\n\u001B[1;32m      3\u001B[0m \u001B[38;5;66;03m# Suppose that the segmentation provided by your model is a numpy array\u001B[39;00m\n\u001B[1;32m      4\u001B[0m segmentation_arr \u001B[38;5;241m=\u001B[39m np\u001B[38;5;241m.\u001B[39mrandom\u001B[38;5;241m.\u001B[39mrandom((\u001B[38;5;241m255\u001B[39m, \u001B[38;5;241m255\u001B[39m, \u001B[38;5;241m255\u001B[39m))\n",
      "\u001B[0;31mNameError\u001B[0m: name 'IMAGEPATH' is not defined"
     ]
    }
   ],
   "source": [
    "# Open the original image\n",
    "image_original = nib.load(IMAGEPATH)\n",
    "# Suppose that the segmentation provided by your model is a numpy array\n",
    "segmentation_arr = np.random.random((255, 255, 255))\n",
    "# Create a Nifti image with nibabel\n",
    "segmentation_im = nib.Nifti1Image(segmentation_arr, affine=image_original.affine, header=image_original.header)\n",
    "# Save the image\n",
    "nib.save(segmentation_im, OUTPUTPATH)"
   ]
  },
  {
   "cell_type": "markdown",
   "id": "97ef5d31-04a6-4f89-9a0f-4a211ff6978a",
   "metadata": {},
   "source": [
    "# Part 2: Logging, batch jobs, and quantification\n",
    "\n",
    "In this part, you will learn how to monitor the training of deep learning models with Weights and Biases (wandb.ai), and how to submit jobs to a non-interactive non-shared GPU at DTU's main cluster. Afterwards, you will train various models, select the highest-performing model, segment the images in the test set, and quantify the volume of the segmented regions of interest."
   ]
  },
  {
   "cell_type": "markdown",
   "id": "50646228-2a8f-4d00-8059-92d2cb42338d",
   "metadata": {},
   "source": [
    "## 2.1 Logging with Weights and Biases\n",
    "\n",
    "Afyer you create a free account in wandb.ai, you will need to run this code (from the tutorial) and paste the API key as shown in the slides.\n",
    "\n",
    "\n",
    "> ---\n",
    "> **Tasks:**\n",
    "> * Create an account in wandb.ai\n",
    "> * Run this code, paste the API key.\n",
    "> * Visualize the information sent to wandb.ai\n",
    "> \n",
    "> ---\n",
    "> \n"
   ]
  },
  {
   "cell_type": "markdown",
   "id": "0530a4e4-11ae-48d7-ae92-f28c8f56d048",
   "metadata": {},
   "source": []
  },
  {
   "cell_type": "code",
   "execution_count": 76,
   "id": "73458e7d-bf6a-458e-9c3c-1db861993d76",
   "metadata": {},
   "outputs": [
    {
     "name": "stderr",
     "output_type": "stream",
     "text": [
      "\u001B[34m\u001B[1mwandb\u001B[0m: Currently logged in as: \u001B[33mkejaj-777\u001B[0m. Use \u001B[1m`wandb login --relogin`\u001B[0m to force relogin\n"
     ]
    },
    {
     "data": {
      "text/html": [
       "Tracking run with wandb version 0.16.6"
      ],
      "text/plain": [
       "<IPython.core.display.HTML object>"
      ]
     },
     "metadata": {},
     "output_type": "display_data"
    },
    {
     "data": {
      "text/html": [
       "Run data is saved locally in <code>/home/kazi/Works/Dtu/deep-learning-experimental-3D-image/Week-4/wandb/run-20240417_225735-tkjm4wwd</code>"
      ],
      "text/plain": [
       "<IPython.core.display.HTML object>"
      ]
     },
     "metadata": {},
     "output_type": "display_data"
    },
    {
     "data": {
      "text/html": [
       "Syncing run <strong><a href='https://wandb.ai/kejaj-777/my-awesome-project/runs/tkjm4wwd' target=\"_blank\">fallen-voice-1</a></strong> to <a href='https://wandb.ai/kejaj-777/my-awesome-project' target=\"_blank\">Weights & Biases</a> (<a href='https://wandb.me/run' target=\"_blank\">docs</a>)<br/>"
      ],
      "text/plain": [
       "<IPython.core.display.HTML object>"
      ]
     },
     "metadata": {},
     "output_type": "display_data"
    },
    {
     "data": {
      "text/html": [
       " View project at <a href='https://wandb.ai/kejaj-777/my-awesome-project' target=\"_blank\">https://wandb.ai/kejaj-777/my-awesome-project</a>"
      ],
      "text/plain": [
       "<IPython.core.display.HTML object>"
      ]
     },
     "metadata": {},
     "output_type": "display_data"
    },
    {
     "data": {
      "text/html": [
       " View run at <a href='https://wandb.ai/kejaj-777/my-awesome-project/runs/tkjm4wwd' target=\"_blank\">https://wandb.ai/kejaj-777/my-awesome-project/runs/tkjm4wwd</a>"
      ],
      "text/plain": [
       "<IPython.core.display.HTML object>"
      ]
     },
     "metadata": {},
     "output_type": "display_data"
    },
    {
     "data": {
      "application/vnd.jupyter.widget-view+json": {
       "model_id": "",
       "version_major": 2,
       "version_minor": 0
      },
      "text/plain": [
       "VBox(children=(Label(value='0.008 MB of 0.011 MB uploaded\\r'), FloatProgress(value=0.6818603083663325, max=1.0…"
      ]
     },
     "metadata": {},
     "output_type": "display_data"
    },
    {
     "data": {
      "text/html": [
       "<style>\n",
       "    table.wandb td:nth-child(1) { padding: 0 10px; text-align: left ; width: auto;} td:nth-child(2) {text-align: left ; width: 100%}\n",
       "    .wandb-row { display: flex; flex-direction: row; flex-wrap: wrap; justify-content: flex-start; width: 100% }\n",
       "    .wandb-col { display: flex; flex-direction: column; flex-basis: 100%; flex: 1; padding: 10px; }\n",
       "    </style>\n",
       "<div class=\"wandb-row\"><div class=\"wandb-col\"><h3>Run history:</h3><br/><table class=\"wandb\"><tr><td>acc</td><td>▁▁▄▇█▆▆▇</td></tr><tr><td>loss</td><td>█▃▃▂▁▁▁▁</td></tr></table><br/></div><div class=\"wandb-col\"><h3>Run summary:</h3><br/><table class=\"wandb\"><tr><td>acc</td><td>0.75309</td></tr><tr><td>loss</td><td>0.23488</td></tr></table><br/></div></div>"
      ],
      "text/plain": [
       "<IPython.core.display.HTML object>"
      ]
     },
     "metadata": {},
     "output_type": "display_data"
    },
    {
     "data": {
      "text/html": [
       " View run <strong style=\"color:#cdcd00\">fallen-voice-1</strong> at: <a href='https://wandb.ai/kejaj-777/my-awesome-project/runs/tkjm4wwd' target=\"_blank\">https://wandb.ai/kejaj-777/my-awesome-project/runs/tkjm4wwd</a><br/> View project at: <a href='https://wandb.ai/kejaj-777/my-awesome-project' target=\"_blank\">https://wandb.ai/kejaj-777/my-awesome-project</a><br/>Synced 4 W&B file(s), 0 media file(s), 2 artifact file(s) and 0 other file(s)"
      ],
      "text/plain": [
       "<IPython.core.display.HTML object>"
      ]
     },
     "metadata": {},
     "output_type": "display_data"
    },
    {
     "data": {
      "text/html": [
       "Find logs at: <code>./wandb/run-20240417_225735-tkjm4wwd/logs</code>"
      ],
      "text/plain": [
       "<IPython.core.display.HTML object>"
      ]
     },
     "metadata": {},
     "output_type": "display_data"
    }
   ],
   "source": [
    "import wandb\n",
    "import random\n",
    "\n",
    "# start a new wandb run to track this script\n",
    "wandb.init(\n",
    "    # set the wandb project where this run will be logged\n",
    "    project=\"my-awesome-project\",\n",
    "    \n",
    "    # track hyperparameters and run metadata\n",
    "    config={\n",
    "    \"learning_rate\": 0.02,\n",
    "    \"architecture\": \"CNN\",\n",
    "    \"dataset\": \"CIFAR-100\",\n",
    "    \"epochs\": 10,\n",
    "    }\n",
    ")\n",
    "\n",
    "# simulate training\n",
    "epochs = 10\n",
    "offset = random.random() / 5\n",
    "for epoch in range(2, epochs):\n",
    "    acc = 1 - 2 ** -epoch - random.random() / epoch - offset\n",
    "    loss = 2 ** -epoch + random.random() / epoch + offset\n",
    "    \n",
    "    # log metrics to wandb\n",
    "    wandb.log({\"acc\": acc, \"loss\": loss})\n",
    "    \n",
    "# [optional] finish the wandb run, necessary in notebooks\n",
    "wandb.finish()"
   ]
  },
  {
   "cell_type": "code",
   "execution_count": 77,
   "id": "1189a465-73db-4c96-9057-d713b1daba07",
   "metadata": {},
   "outputs": [
    {
     "name": "stdout",
     "output_type": "stream",
     "text": [
      "This won't be logged\n"
     ]
    },
    {
     "data": {
      "text/html": [
       "Tracking run with wandb version 0.16.6"
      ],
      "text/plain": [
       "<IPython.core.display.HTML object>"
      ]
     },
     "metadata": {},
     "output_type": "display_data"
    },
    {
     "data": {
      "text/html": [
       "Run data is saved locally in <code>/home/kazi/Works/Dtu/deep-learning-experimental-3D-image/Week-4/wandb/run-20240417_225743-06fwsr9d</code>"
      ],
      "text/plain": [
       "<IPython.core.display.HTML object>"
      ]
     },
     "metadata": {},
     "output_type": "display_data"
    },
    {
     "data": {
      "text/html": [
       "Syncing run <strong><a href='https://wandb.ai/kejaj-777/my-awesome-project/runs/06fwsr9d' target=\"_blank\">vital-field-2</a></strong> to <a href='https://wandb.ai/kejaj-777/my-awesome-project' target=\"_blank\">Weights & Biases</a> (<a href='https://wandb.me/run' target=\"_blank\">docs</a>)<br/>"
      ],
      "text/plain": [
       "<IPython.core.display.HTML object>"
      ]
     },
     "metadata": {},
     "output_type": "display_data"
    },
    {
     "data": {
      "text/html": [
       " View project at <a href='https://wandb.ai/kejaj-777/my-awesome-project' target=\"_blank\">https://wandb.ai/kejaj-777/my-awesome-project</a>"
      ],
      "text/plain": [
       "<IPython.core.display.HTML object>"
      ]
     },
     "metadata": {},
     "output_type": "display_data"
    },
    {
     "data": {
      "text/html": [
       " View run at <a href='https://wandb.ai/kejaj-777/my-awesome-project/runs/06fwsr9d' target=\"_blank\">https://wandb.ai/kejaj-777/my-awesome-project/runs/06fwsr9d</a>"
      ],
      "text/plain": [
       "<IPython.core.display.HTML object>"
      ]
     },
     "metadata": {},
     "output_type": "display_data"
    },
    {
     "name": "stdout",
     "output_type": "stream",
     "text": [
      "This will be logged\n"
     ]
    },
    {
     "data": {
      "application/vnd.jupyter.widget-view+json": {
       "model_id": "",
       "version_major": 2,
       "version_minor": 0
      },
      "text/plain": [
       "VBox(children=(Label(value='0.003 MB of 0.003 MB uploaded\\r'), FloatProgress(value=1.0, max=1.0)))"
      ]
     },
     "metadata": {},
     "output_type": "display_data"
    },
    {
     "data": {
      "text/html": [
       "W&B sync reduced upload amount by 28.7%             "
      ],
      "text/plain": [
       "<IPython.core.display.HTML object>"
      ]
     },
     "metadata": {},
     "output_type": "display_data"
    },
    {
     "data": {
      "text/html": [
       "<style>\n",
       "    table.wandb td:nth-child(1) { padding: 0 10px; text-align: left ; width: auto;} td:nth-child(2) {text-align: left ; width: 100%}\n",
       "    .wandb-row { display: flex; flex-direction: row; flex-wrap: wrap; justify-content: flex-start; width: 100% }\n",
       "    .wandb-col { display: flex; flex-direction: column; flex-basis: 100%; flex: 1; padding: 10px; }\n",
       "    </style>\n",
       "<div class=\"wandb-row\"><div class=\"wandb-col\"><h3>Run history:</h3><br/><table class=\"wandb\"><tr><td>training_loss</td><td>█▃▂▁▁▁▁▁▁▁▁▁▁▁▁▁▁▁▁▁▁▁▁▁▁▁▁▁▁▁▁▁▁▁▁▁▁▁▁▁</td></tr><tr><td>validation_loss</td><td>█▃▂▂▂▁▁▁▁▁▁▁▁▁▁▁▁▁▁▁</td></tr></table><br/></div><div class=\"wandb-col\"><h3>Run summary:</h3><br/><table class=\"wandb\"><tr><td>training_loss</td><td>0.09702</td></tr><tr><td>validation_loss</td><td>0.09573</td></tr></table><br/></div></div>"
      ],
      "text/plain": [
       "<IPython.core.display.HTML object>"
      ]
     },
     "metadata": {},
     "output_type": "display_data"
    },
    {
     "data": {
      "text/html": [
       " View run <strong style=\"color:#cdcd00\">vital-field-2</strong> at: <a href='https://wandb.ai/kejaj-777/my-awesome-project/runs/06fwsr9d' target=\"_blank\">https://wandb.ai/kejaj-777/my-awesome-project/runs/06fwsr9d</a><br/> View project at: <a href='https://wandb.ai/kejaj-777/my-awesome-project' target=\"_blank\">https://wandb.ai/kejaj-777/my-awesome-project</a><br/>Synced 5 W&B file(s), 0 media file(s), 2 artifact file(s) and 0 other file(s)"
      ],
      "text/plain": [
       "<IPython.core.display.HTML object>"
      ]
     },
     "metadata": {},
     "output_type": "display_data"
    },
    {
     "data": {
      "text/html": [
       "Find logs at: <code>./wandb/run-20240417_225743-06fwsr9d/logs</code>"
      ],
      "text/plain": [
       "<IPython.core.display.HTML object>"
      ]
     },
     "metadata": {},
     "output_type": "display_data"
    }
   ],
   "source": [
    "import wandb\n",
    "import random\n",
    "\n",
    "print(\"This won't be logged\")\n",
    "\n",
    "# start a new wandb run to track this script\n",
    "wandb.init(\n",
    "    # set the wandb project where this run will be logged\n",
    "    project=\"my-awesome-project\",\n",
    "    \n",
    "    # track hyperparameters and run metadata\n",
    "    config={\n",
    "    \"learning_rate\": 0.02,\n",
    "    \"architecture\": \"CNN\",\n",
    "    \"dataset\": \"CIFAR-100\",\n",
    "    \"epochs\": 10,\n",
    "    }\n",
    ")\n",
    "\n",
    "print(\"This will be logged\")\n",
    "\n",
    "# simulate training\n",
    "epochs = 100\n",
    "val_iter = 5\n",
    "offset = random.random() / 5\n",
    "for epoch in range(1, epochs+1):\n",
    "    acc = 1 - 2 ** -epoch - random.random() / epoch - offset\n",
    "    loss = 2 ** -epoch + random.random() / epoch + offset\n",
    "    logthis = {\"training_loss\": loss}\n",
    "\n",
    "    if epoch % val_iter == 0:\n",
    "        val_loss = 2 ** -epoch + random.random() / epoch + offset\n",
    "        logthis[\"validation_loss\"] = val_loss\n",
    "    \n",
    "    # log metrics to wandb\n",
    "    wandb.log(logthis)\n",
    "    \n",
    "# [optional] finish the wandb run, necessary in notebooks\n",
    "wandb.finish()"
   ]
  },
  {
   "cell_type": "markdown",
   "id": "0c740ded-cdff-4704-aa68-d214ff2670fc",
   "metadata": {},
   "source": [
    "#### You can also send \"images\" to WANDB, which can be useful to assess visually, e.g., how well the model is learning to segment images. But be mindful about what you send. Your data might have a license that won't allow to share it."
   ]
  },
  {
   "cell_type": "code",
   "execution_count": 78,
   "id": "4f117b8b-e500-486e-9a66-6d863a17b5d0",
   "metadata": {},
   "outputs": [
    {
     "data": {
      "text/html": [
       "Tracking run with wandb version 0.16.6"
      ],
      "text/plain": [
       "<IPython.core.display.HTML object>"
      ]
     },
     "metadata": {},
     "output_type": "display_data"
    },
    {
     "data": {
      "text/html": [
       "Run data is saved locally in <code>/home/kazi/Works/Dtu/deep-learning-experimental-3D-image/Week-4/wandb/run-20240417_225808-niryiha2</code>"
      ],
      "text/plain": [
       "<IPython.core.display.HTML object>"
      ]
     },
     "metadata": {},
     "output_type": "display_data"
    },
    {
     "data": {
      "text/html": [
       "Syncing run <strong><a href='https://wandb.ai/kejaj-777/my-awesome-project/runs/niryiha2' target=\"_blank\">deft-spaceship-3</a></strong> to <a href='https://wandb.ai/kejaj-777/my-awesome-project' target=\"_blank\">Weights & Biases</a> (<a href='https://wandb.me/run' target=\"_blank\">docs</a>)<br/>"
      ],
      "text/plain": [
       "<IPython.core.display.HTML object>"
      ]
     },
     "metadata": {},
     "output_type": "display_data"
    },
    {
     "data": {
      "text/html": [
       " View project at <a href='https://wandb.ai/kejaj-777/my-awesome-project' target=\"_blank\">https://wandb.ai/kejaj-777/my-awesome-project</a>"
      ],
      "text/plain": [
       "<IPython.core.display.HTML object>"
      ]
     },
     "metadata": {},
     "output_type": "display_data"
    },
    {
     "data": {
      "text/html": [
       " View run at <a href='https://wandb.ai/kejaj-777/my-awesome-project/runs/niryiha2' target=\"_blank\">https://wandb.ai/kejaj-777/my-awesome-project/runs/niryiha2</a>"
      ],
      "text/plain": [
       "<IPython.core.display.HTML object>"
      ]
     },
     "metadata": {},
     "output_type": "display_data"
    }
   ],
   "source": [
    "wandb.init(\n",
    "    # set the wandb project where this run will be logged\n",
    "    project=\"my-awesome-project\",\n",
    "    \n",
    "    # track hyperparameters and run metadata\n",
    "    config={\n",
    "    \"learning_rate\": 0.02,\n",
    "    \"architecture\": \"CNN\",\n",
    "    \"dataset\": \"CIFAR-100\",\n",
    "    \"epochs\": 10,\n",
    "    }\n",
    ")\n",
    "\n",
    "for i in range(10):\n",
    "    im_arr = np.random.random((100, 100))\n",
    "    images = wandb.Image(im_arr, caption=\"Top: Output, Bottom: Input\")\n",
    "    wandb.log({\"examples\": images})"
   ]
  },
  {
   "cell_type": "markdown",
   "id": "612059e2-ac4d-458b-9b0f-d34f49078f08",
   "metadata": {},
   "source": [
    "> ---\n",
    "> **Task:**\n",
    "> \n",
    "> Add logging to the code you used to train your model. Before, we were saving the validation loss and validation dice in a list. Now, in addition to that, send it to W&B. After this, verify on wandb.ai website that you are actually saving what you want to save. Remember to send the other metric that you're measuring. In total, you should send, at least, 7 values: training loss, dice coefficient of classes 1-3, and the other metric's measurements of classes 1-3.\n",
    ">\n",
    "> ---"
   ]
  },
  {
   "cell_type": "code",
   "execution_count": null,
   "id": "6cc9cd75-15d5-46d5-8dee-89fb7f4f495b",
   "metadata": {},
   "outputs": [],
   "source": []
  }
 ],
 "metadata": {
  "kernelspec": {
   "display_name": "Python 3 (ipykernel)",
   "language": "python",
   "name": "python3"
  },
  "language_info": {
   "codemirror_mode": {
    "name": "ipython",
    "version": 3
   },
   "file_extension": ".py",
   "mimetype": "text/x-python",
   "name": "python",
   "nbconvert_exporter": "python",
   "pygments_lexer": "ipython3",
   "version": "3.10.12"
  }
 },
 "nbformat": 4,
 "nbformat_minor": 5
}
