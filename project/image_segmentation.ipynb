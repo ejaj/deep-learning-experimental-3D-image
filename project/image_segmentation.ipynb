{
 "cells": [
  {
   "cell_type": "code",
   "execution_count": 15,
   "id": "536307f7-a7a8-40b8-a1e1-af8e45920ff2",
   "metadata": {},
   "outputs": [],
   "source": [
    "import os\n",
    "import tifffile as tiff\n",
    "import skimage.io as io\n",
    "from skimage.filters import threshold_otsu\n",
    "import numpy as np\n",
    "from os.path import join\n",
    "from glob import glob\n",
    "import sklearn.model_selection as skms\n",
    "from shutil import copy2"
   ]
  },
  {
   "cell_type": "code",
   "execution_count": 16,
   "id": "9ddb4cf0-a70a-4a7e-83f3-ab66abb79542",
   "metadata": {},
   "outputs": [],
   "source": [
    "# Define paths\n",
    "DATA_PATH = '/dtu/3d-imaging-center/courses/02510/groups/group_Kakapo/Project/bug_256/AC'\n",
    "#TRAIN_IMAGE_DIR = os.path.join(DATA_PATH, 'train')"
   ]
  },
  {
   "cell_type": "code",
   "execution_count": 17,
   "id": "45d9ec9d-ff38-42c8-bbb8-49e177892617",
   "metadata": {},
   "outputs": [
    {
     "name": "stdout",
     "output_type": "stream",
     "text": [
      "Segmented image saved to /dtu/3d-imaging-center/courses/02510/groups/group_Kakapo/Project/bug_256/bcrick_6_035_segmented.tif\n",
      "Segmented image saved to /dtu/3d-imaging-center/courses/02510/groups/group_Kakapo/Project/bug_256/bcrick_3_014_segmented.tif\n",
      "Segmented image saved to /dtu/3d-imaging-center/courses/02510/groups/group_Kakapo/Project/bug_256/bcrick_8_029_segmented.tif\n",
      "Segmented image saved to /dtu/3d-imaging-center/courses/02510/groups/group_Kakapo/Project/bug_256/bcrick_8_023_segmented.tif\n",
      "Segmented image saved to /dtu/3d-imaging-center/courses/02510/groups/group_Kakapo/Project/bug_256/bcrick_6_032_segmented.tif\n",
      "Segmented image saved to /dtu/3d-imaging-center/courses/02510/groups/group_Kakapo/Project/bug_256/bcrick_3_035_segmented.tif\n"
     ]
    },
    {
     "name": "stderr",
     "output_type": "stream",
     "text": [
      "/tmp/ipykernel_30121/4256171944.py:7: UserWarning: /dtu/3d-imaging-center/courses/02510/groups/group_Kakapo/Project/bug_256/bcrick_3_035_segmented.tif is a low contrast image\n",
      "  io.imsave(save_path, segmented_img.astype(np.uint8) * 255)\n"
     ]
    },
    {
     "name": "stdout",
     "output_type": "stream",
     "text": [
      "Segmented image saved to /dtu/3d-imaging-center/courses/02510/groups/group_Kakapo/Project/bug_256/bcrick_5_015_segmented.tif\n",
      "Segmented image saved to /dtu/3d-imaging-center/courses/02510/groups/group_Kakapo/Project/bug_256/bcrick_1_012_segmented.tif\n",
      "Segmented image saved to /dtu/3d-imaging-center/courses/02510/groups/group_Kakapo/Project/bug_256/bcrick_6_000_segmented.tif\n",
      "Segmented image saved to /dtu/3d-imaging-center/courses/02510/groups/group_Kakapo/Project/bug_256/bcrick_6_019_segmented.tif\n",
      "Segmented image saved to /dtu/3d-imaging-center/courses/02510/groups/group_Kakapo/Project/bug_256/bcrick_13_041_segmented.tif\n",
      "Segmented image saved to /dtu/3d-imaging-center/courses/02510/groups/group_Kakapo/Project/bug_256/bcrick_4_019_segmented.tif\n",
      "Segmented image saved to /dtu/3d-imaging-center/courses/02510/groups/group_Kakapo/Project/bug_256/bcrick_1_033_segmented.tif\n",
      "Segmented image saved to /dtu/3d-imaging-center/courses/02510/groups/group_Kakapo/Project/bug_256/bcrick_5_025_segmented.tif\n"
     ]
    },
    {
     "name": "stderr",
     "output_type": "stream",
     "text": [
      "/tmp/ipykernel_30121/4256171944.py:7: UserWarning: /dtu/3d-imaging-center/courses/02510/groups/group_Kakapo/Project/bug_256/bcrick_15_017_segmented.tif is a low contrast image\n",
      "  io.imsave(save_path, segmented_img.astype(np.uint8) * 255)\n"
     ]
    },
    {
     "name": "stdout",
     "output_type": "stream",
     "text": [
      "Segmented image saved to /dtu/3d-imaging-center/courses/02510/groups/group_Kakapo/Project/bug_256/bcrick_15_017_segmented.tif\n",
      "Segmented image saved to /dtu/3d-imaging-center/courses/02510/groups/group_Kakapo/Project/bug_256/bcrick_6_022_segmented.tif\n",
      "Segmented image saved to /dtu/3d-imaging-center/courses/02510/groups/group_Kakapo/Project/bug_256/bcrick_3_028_segmented.tif\n",
      "Segmented image saved to /dtu/3d-imaging-center/courses/02510/groups/group_Kakapo/Project/bug_256/bcrick_1_022_segmented.tif\n",
      "Segmented image saved to /dtu/3d-imaging-center/courses/02510/groups/group_Kakapo/Project/bug_256/bcrick_8_005_segmented.tif\n",
      "Segmented image saved to /dtu/3d-imaging-center/courses/02510/groups/group_Kakapo/Project/bug_256/bcrick_13_037_segmented.tif\n",
      "Segmented image saved to /dtu/3d-imaging-center/courses/02510/groups/group_Kakapo/Project/bug_256/bcrick_15_040_segmented.tif\n",
      "Segmented image saved to /dtu/3d-imaging-center/courses/02510/groups/group_Kakapo/Project/bug_256/bcrick_11_009_segmented.tif\n",
      "Segmented image saved to /dtu/3d-imaging-center/courses/02510/groups/group_Kakapo/Project/bug_256/bcrick_17_015_segmented.tif\n",
      "Segmented image saved to /dtu/3d-imaging-center/courses/02510/groups/group_Kakapo/Project/bug_256/bcrick_8_000_segmented.tif\n",
      "Segmented image saved to /dtu/3d-imaging-center/courses/02510/groups/group_Kakapo/Project/bug_256/bcrick_7_030_segmented.tif\n",
      "Segmented image saved to /dtu/3d-imaging-center/courses/02510/groups/group_Kakapo/Project/bug_256/bcrick_9_027_segmented.tif\n",
      "Segmented image saved to /dtu/3d-imaging-center/courses/02510/groups/group_Kakapo/Project/bug_256/bcrick_6_009_segmented.tif\n",
      "Segmented image saved to /dtu/3d-imaging-center/courses/02510/groups/group_Kakapo/Project/bug_256/bcrick_11_015_segmented.tif\n"
     ]
    },
    {
     "name": "stderr",
     "output_type": "stream",
     "text": [
      "/tmp/ipykernel_30121/4256171944.py:7: UserWarning: /dtu/3d-imaging-center/courses/02510/groups/group_Kakapo/Project/bug_256/bcrick_4_022_segmented.tif is a low contrast image\n",
      "  io.imsave(save_path, segmented_img.astype(np.uint8) * 255)\n"
     ]
    },
    {
     "name": "stdout",
     "output_type": "stream",
     "text": [
      "Segmented image saved to /dtu/3d-imaging-center/courses/02510/groups/group_Kakapo/Project/bug_256/bcrick_4_022_segmented.tif\n",
      "Segmented image saved to /dtu/3d-imaging-center/courses/02510/groups/group_Kakapo/Project/bug_256/bcrick_5_042_segmented.tif\n"
     ]
    },
    {
     "name": "stderr",
     "output_type": "stream",
     "text": [
      "/tmp/ipykernel_30121/4256171944.py:7: UserWarning: /dtu/3d-imaging-center/courses/02510/groups/group_Kakapo/Project/bug_256/bcrick_17_014_segmented.tif is a low contrast image\n",
      "  io.imsave(save_path, segmented_img.astype(np.uint8) * 255)\n"
     ]
    },
    {
     "name": "stdout",
     "output_type": "stream",
     "text": [
      "Segmented image saved to /dtu/3d-imaging-center/courses/02510/groups/group_Kakapo/Project/bug_256/bcrick_17_014_segmented.tif\n",
      "Segmented image saved to /dtu/3d-imaging-center/courses/02510/groups/group_Kakapo/Project/bug_256/bcrick_12_036_segmented.tif\n",
      "Segmented image saved to /dtu/3d-imaging-center/courses/02510/groups/group_Kakapo/Project/bug_256/bcrick_3_034_segmented.tif\n",
      "Segmented image saved to /dtu/3d-imaging-center/courses/02510/groups/group_Kakapo/Project/bug_256/bcrick_16_005_segmented.tif\n"
     ]
    },
    {
     "name": "stderr",
     "output_type": "stream",
     "text": [
      "/tmp/ipykernel_30121/4256171944.py:7: UserWarning: /dtu/3d-imaging-center/courses/02510/groups/group_Kakapo/Project/bug_256/bcrick_16_005_segmented.tif is a low contrast image\n",
      "  io.imsave(save_path, segmented_img.astype(np.uint8) * 255)\n"
     ]
    },
    {
     "name": "stdout",
     "output_type": "stream",
     "text": [
      "Segmented image saved to /dtu/3d-imaging-center/courses/02510/groups/group_Kakapo/Project/bug_256/bcrick_10_029_segmented.tif\n",
      "Segmented image saved to /dtu/3d-imaging-center/courses/02510/groups/group_Kakapo/Project/bug_256/bcrick_3_040_segmented.tif\n",
      "Segmented image saved to /dtu/3d-imaging-center/courses/02510/groups/group_Kakapo/Project/bug_256/bcrick_10_002_segmented.tif\n",
      "Segmented image saved to /dtu/3d-imaging-center/courses/02510/groups/group_Kakapo/Project/bug_256/bcrick_6_030_segmented.tif\n"
     ]
    },
    {
     "name": "stderr",
     "output_type": "stream",
     "text": [
      "/tmp/ipykernel_30121/4256171944.py:7: UserWarning: /dtu/3d-imaging-center/courses/02510/groups/group_Kakapo/Project/bug_256/bcrick_6_030_segmented.tif is a low contrast image\n",
      "  io.imsave(save_path, segmented_img.astype(np.uint8) * 255)\n"
     ]
    },
    {
     "name": "stdout",
     "output_type": "stream",
     "text": [
      "Segmented image saved to /dtu/3d-imaging-center/courses/02510/groups/group_Kakapo/Project/bug_256/bcrick_7_038_segmented.tif\n",
      "Segmented image saved to /dtu/3d-imaging-center/courses/02510/groups/group_Kakapo/Project/bug_256/bcrick_12_004_segmented.tif\n"
     ]
    },
    {
     "name": "stderr",
     "output_type": "stream",
     "text": [
      "/tmp/ipykernel_30121/4256171944.py:7: UserWarning: /dtu/3d-imaging-center/courses/02510/groups/group_Kakapo/Project/bug_256/bcrick_14_016_segmented.tif is a low contrast image\n",
      "  io.imsave(save_path, segmented_img.astype(np.uint8) * 255)\n"
     ]
    },
    {
     "name": "stdout",
     "output_type": "stream",
     "text": [
      "Segmented image saved to /dtu/3d-imaging-center/courses/02510/groups/group_Kakapo/Project/bug_256/bcrick_14_016_segmented.tif\n",
      "Segmented image saved to /dtu/3d-imaging-center/courses/02510/groups/group_Kakapo/Project/bug_256/bcrick_16_029_segmented.tif\n",
      "Segmented image saved to /dtu/3d-imaging-center/courses/02510/groups/group_Kakapo/Project/bug_256/bcrick_8_027_segmented.tif\n",
      "Segmented image saved to /dtu/3d-imaging-center/courses/02510/groups/group_Kakapo/Project/bug_256/bcrick_5_031_segmented.tif\n"
     ]
    },
    {
     "name": "stderr",
     "output_type": "stream",
     "text": [
      "/tmp/ipykernel_30121/4256171944.py:7: UserWarning: /dtu/3d-imaging-center/courses/02510/groups/group_Kakapo/Project/bug_256/bcrick_3_019_segmented.tif is a low contrast image\n",
      "  io.imsave(save_path, segmented_img.astype(np.uint8) * 255)\n"
     ]
    },
    {
     "name": "stdout",
     "output_type": "stream",
     "text": [
      "Segmented image saved to /dtu/3d-imaging-center/courses/02510/groups/group_Kakapo/Project/bug_256/bcrick_3_019_segmented.tif\n",
      "Segmented image saved to /dtu/3d-imaging-center/courses/02510/groups/group_Kakapo/Project/bug_256/bcrick_5_024_segmented.tif\n",
      "Segmented image saved to /dtu/3d-imaging-center/courses/02510/groups/group_Kakapo/Project/bug_256/bcrick_5_013_segmented.tif\n",
      "Segmented image saved to /dtu/3d-imaging-center/courses/02510/groups/group_Kakapo/Project/bug_256/bcrick_2_026_segmented.tif\n",
      "Segmented image saved to /dtu/3d-imaging-center/courses/02510/groups/group_Kakapo/Project/bug_256/bcrick_11_014_segmented.tif\n",
      "Segmented image saved to /dtu/3d-imaging-center/courses/02510/groups/group_Kakapo/Project/bug_256/bcrick_11_037_segmented.tif\n"
     ]
    },
    {
     "name": "stderr",
     "output_type": "stream",
     "text": [
      "/tmp/ipykernel_30121/4256171944.py:7: UserWarning: /dtu/3d-imaging-center/courses/02510/groups/group_Kakapo/Project/bug_256/bcrick_11_037_segmented.tif is a low contrast image\n",
      "  io.imsave(save_path, segmented_img.astype(np.uint8) * 255)\n"
     ]
    },
    {
     "name": "stdout",
     "output_type": "stream",
     "text": [
      "Segmented image saved to /dtu/3d-imaging-center/courses/02510/groups/group_Kakapo/Project/bug_256/bcrick_2_034_segmented.tif\n",
      "Segmented image saved to /dtu/3d-imaging-center/courses/02510/groups/group_Kakapo/Project/bug_256/bcrick_10_028_segmented.tif\n",
      "Segmented image saved to /dtu/3d-imaging-center/courses/02510/groups/group_Kakapo/Project/bug_256/bcrick_7_029_segmented.tif\n",
      "Segmented image saved to /dtu/3d-imaging-center/courses/02510/groups/group_Kakapo/Project/bug_256/bcrick_13_025_segmented.tif\n",
      "Segmented image saved to /dtu/3d-imaging-center/courses/02510/groups/group_Kakapo/Project/bug_256/bcrick_16_041_segmented.tif\n",
      "Segmented image saved to /dtu/3d-imaging-center/courses/02510/groups/group_Kakapo/Project/bug_256/bcrick_1_013_segmented.tif\n",
      "Segmented image saved to /dtu/3d-imaging-center/courses/02510/groups/group_Kakapo/Project/bug_256/bcrick_2_019_segmented.tif\n",
      "Segmented image saved to /dtu/3d-imaging-center/courses/02510/groups/group_Kakapo/Project/bug_256/bcrick_7_037_segmented.tif\n",
      "Segmented image saved to /dtu/3d-imaging-center/courses/02510/groups/group_Kakapo/Project/bug_256/bcrick_3_015_segmented.tif\n",
      "Segmented image saved to /dtu/3d-imaging-center/courses/02510/groups/group_Kakapo/Project/bug_256/bcrick_6_034_segmented.tif\n",
      "Segmented image saved to /dtu/3d-imaging-center/courses/02510/groups/group_Kakapo/Project/bug_256/bcrick_5_016_segmented.tif\n",
      "Segmented image saved to /dtu/3d-imaging-center/courses/02510/groups/group_Kakapo/Project/bug_256/bcrick_2_010_segmented.tif\n",
      "Segmented image saved to /dtu/3d-imaging-center/courses/02510/groups/group_Kakapo/Project/bug_256/bcrick_10_003_segmented.tif\n",
      "Segmented image saved to /dtu/3d-imaging-center/courses/02510/groups/group_Kakapo/Project/bug_256/bcrick_5_006_segmented.tif\n"
     ]
    },
    {
     "name": "stderr",
     "output_type": "stream",
     "text": [
      "/tmp/ipykernel_30121/4256171944.py:7: UserWarning: /dtu/3d-imaging-center/courses/02510/groups/group_Kakapo/Project/bug_256/bcrick_15_043_segmented.tif is a low contrast image\n",
      "  io.imsave(save_path, segmented_img.astype(np.uint8) * 255)\n"
     ]
    },
    {
     "name": "stdout",
     "output_type": "stream",
     "text": [
      "Segmented image saved to /dtu/3d-imaging-center/courses/02510/groups/group_Kakapo/Project/bug_256/bcrick_15_043_segmented.tif\n",
      "Segmented image saved to /dtu/3d-imaging-center/courses/02510/groups/group_Kakapo/Project/bug_256/bcrick_15_020_segmented.tif\n",
      "Segmented image saved to /dtu/3d-imaging-center/courses/02510/groups/group_Kakapo/Project/bug_256/bcrick_1_001_segmented.tif\n",
      "Segmented image saved to /dtu/3d-imaging-center/courses/02510/groups/group_Kakapo/Project/bug_256/bcrick_2_022_segmented.tif\n",
      "Segmented image saved to /dtu/3d-imaging-center/courses/02510/groups/group_Kakapo/Project/bug_256/bcrick_7_043_segmented.tif\n",
      "Segmented image saved to /dtu/3d-imaging-center/courses/02510/groups/group_Kakapo/Project/bug_256/bcrick_6_015_segmented.tif\n",
      "Segmented image saved to /dtu/3d-imaging-center/courses/02510/groups/group_Kakapo/Project/bug_256/bcrick_2_031_segmented.tif\n",
      "Segmented image saved to /dtu/3d-imaging-center/courses/02510/groups/group_Kakapo/Project/bug_256/bcrick_9_011_segmented.tif\n",
      "Segmented image saved to /dtu/3d-imaging-center/courses/02510/groups/group_Kakapo/Project/bug_256/bcrick_2_013_segmented.tif\n",
      "Segmented image saved to /dtu/3d-imaging-center/courses/02510/groups/group_Kakapo/Project/bug_256/bcrick_16_033_segmented.tif\n",
      "Segmented image saved to /dtu/3d-imaging-center/courses/02510/groups/group_Kakapo/Project/bug_256/bcrick_1_037_segmented.tif\n",
      "Segmented image saved to /dtu/3d-imaging-center/courses/02510/groups/group_Kakapo/Project/bug_256/bcrick_16_025_segmented.tif\n",
      "Segmented image saved to /dtu/3d-imaging-center/courses/02510/groups/group_Kakapo/Project/bug_256/bcrick_6_023_segmented.tif\n",
      "Segmented image saved to /dtu/3d-imaging-center/courses/02510/groups/group_Kakapo/Project/bug_256/bcrick_9_037_segmented.tif\n",
      "Segmented image saved to /dtu/3d-imaging-center/courses/02510/groups/group_Kakapo/Project/bug_256/bcrick_8_039_segmented.tif\n",
      "Segmented image saved to /dtu/3d-imaging-center/courses/02510/groups/group_Kakapo/Project/bug_256/bcrick_9_040_segmented.tif\n",
      "Segmented image saved to /dtu/3d-imaging-center/courses/02510/groups/group_Kakapo/Project/bug_256/bcrick_8_019_segmented.tif\n",
      "Segmented image saved to /dtu/3d-imaging-center/courses/02510/groups/group_Kakapo/Project/bug_256/bcrick_12_003_segmented.tif\n"
     ]
    },
    {
     "name": "stderr",
     "output_type": "stream",
     "text": [
      "/tmp/ipykernel_30121/4256171944.py:7: UserWarning: /dtu/3d-imaging-center/courses/02510/groups/group_Kakapo/Project/bug_256/bcrick_12_003_segmented.tif is a low contrast image\n",
      "  io.imsave(save_path, segmented_img.astype(np.uint8) * 255)\n"
     ]
    },
    {
     "name": "stdout",
     "output_type": "stream",
     "text": [
      "Segmented image saved to /dtu/3d-imaging-center/courses/02510/groups/group_Kakapo/Project/bug_256/bcrick_15_018_segmented.tif\n",
      "Segmented image saved to /dtu/3d-imaging-center/courses/02510/groups/group_Kakapo/Project/bug_256/bcrick_8_024_segmented.tif\n",
      "Segmented image saved to /dtu/3d-imaging-center/courses/02510/groups/group_Kakapo/Project/bug_256/bcrick_8_036_segmented.tif\n",
      "Segmented image saved to /dtu/3d-imaging-center/courses/02510/groups/group_Kakapo/Project/bug_256/bcrick_10_032_segmented.tif\n",
      "Segmented image saved to /dtu/3d-imaging-center/courses/02510/groups/group_Kakapo/Project/bug_256/bcrick_8_041_segmented.tif\n",
      "Segmented image saved to /dtu/3d-imaging-center/courses/02510/groups/group_Kakapo/Project/bug_256/bcrick_12_025_segmented.tif\n",
      "Segmented image saved to /dtu/3d-imaging-center/courses/02510/groups/group_Kakapo/Project/bug_256/bcrick_11_031_segmented.tif\n",
      "Segmented image saved to /dtu/3d-imaging-center/courses/02510/groups/group_Kakapo/Project/bug_256/bcrick_13_035_segmented.tif\n",
      "Segmented image saved to /dtu/3d-imaging-center/courses/02510/groups/group_Kakapo/Project/bug_256/bcrick_9_033_segmented.tif\n",
      "Segmented image saved to /dtu/3d-imaging-center/courses/02510/groups/group_Kakapo/Project/bug_256/bcrick_4_012_segmented.tif\n"
     ]
    },
    {
     "name": "stderr",
     "output_type": "stream",
     "text": [
      "/tmp/ipykernel_30121/4256171944.py:7: UserWarning: /dtu/3d-imaging-center/courses/02510/groups/group_Kakapo/Project/bug_256/bcrick_4_012_segmented.tif is a low contrast image\n",
      "  io.imsave(save_path, segmented_img.astype(np.uint8) * 255)\n"
     ]
    },
    {
     "name": "stdout",
     "output_type": "stream",
     "text": [
      "Segmented image saved to /dtu/3d-imaging-center/courses/02510/groups/group_Kakapo/Project/bug_256/bcrick_9_019_segmented.tif\n",
      "Segmented image saved to /dtu/3d-imaging-center/courses/02510/groups/group_Kakapo/Project/bug_256/bcrick_16_011_segmented.tif\n",
      "Segmented image saved to /dtu/3d-imaging-center/courses/02510/groups/group_Kakapo/Project/bug_256/bcrick_9_034_segmented.tif\n",
      "Segmented image saved to /dtu/3d-imaging-center/courses/02510/groups/group_Kakapo/Project/bug_256/bcrick_3_018_segmented.tif\n",
      "Segmented image saved to /dtu/3d-imaging-center/courses/02510/groups/group_Kakapo/Project/bug_256/bcrick_2_009_segmented.tif\n",
      "Segmented image saved to /dtu/3d-imaging-center/courses/02510/groups/group_Kakapo/Project/bug_256/bcrick_17_007_segmented.tif\n"
     ]
    },
    {
     "name": "stderr",
     "output_type": "stream",
     "text": [
      "/tmp/ipykernel_30121/4256171944.py:7: UserWarning: /dtu/3d-imaging-center/courses/02510/groups/group_Kakapo/Project/bug_256/bcrick_17_007_segmented.tif is a low contrast image\n",
      "  io.imsave(save_path, segmented_img.astype(np.uint8) * 255)\n",
      "/tmp/ipykernel_30121/4256171944.py:7: UserWarning: /dtu/3d-imaging-center/courses/02510/groups/group_Kakapo/Project/bug_256/bcrick_4_038_segmented.tif is a low contrast image\n",
      "  io.imsave(save_path, segmented_img.astype(np.uint8) * 255)\n"
     ]
    },
    {
     "name": "stdout",
     "output_type": "stream",
     "text": [
      "Segmented image saved to /dtu/3d-imaging-center/courses/02510/groups/group_Kakapo/Project/bug_256/bcrick_4_038_segmented.tif\n",
      "Segmented image saved to /dtu/3d-imaging-center/courses/02510/groups/group_Kakapo/Project/bug_256/bcrick_10_019_segmented.tif\n",
      "Segmented image saved to /dtu/3d-imaging-center/courses/02510/groups/group_Kakapo/Project/bug_256/bcrick_5_012_segmented.tif\n",
      "Segmented image saved to /dtu/3d-imaging-center/courses/02510/groups/group_Kakapo/Project/bug_256/bcrick_4_001_segmented.tif\n"
     ]
    },
    {
     "name": "stderr",
     "output_type": "stream",
     "text": [
      "/tmp/ipykernel_30121/4256171944.py:7: UserWarning: /dtu/3d-imaging-center/courses/02510/groups/group_Kakapo/Project/bug_256/bcrick_8_013_segmented.tif is a low contrast image\n",
      "  io.imsave(save_path, segmented_img.astype(np.uint8) * 255)\n"
     ]
    },
    {
     "name": "stdout",
     "output_type": "stream",
     "text": [
      "Segmented image saved to /dtu/3d-imaging-center/courses/02510/groups/group_Kakapo/Project/bug_256/bcrick_8_013_segmented.tif\n",
      "Segmented image saved to /dtu/3d-imaging-center/courses/02510/groups/group_Kakapo/Project/bug_256/bcrick_13_032_segmented.tif\n",
      "Segmented image saved to /dtu/3d-imaging-center/courses/02510/groups/group_Kakapo/Project/bug_256/bcrick_10_006_segmented.tif\n",
      "Segmented image saved to /dtu/3d-imaging-center/courses/02510/groups/group_Kakapo/Project/bug_256/bcrick_4_028_segmented.tif\n",
      "Segmented image saved to /dtu/3d-imaging-center/courses/02510/groups/group_Kakapo/Project/bug_256/bcrick_13_024_segmented.tif\n",
      "Segmented image saved to /dtu/3d-imaging-center/courses/02510/groups/group_Kakapo/Project/bug_256/bcrick_7_002_segmented.tif\n",
      "Segmented image saved to /dtu/3d-imaging-center/courses/02510/groups/group_Kakapo/Project/bug_256/bcrick_3_017_segmented.tif\n",
      "Segmented image saved to /dtu/3d-imaging-center/courses/02510/groups/group_Kakapo/Project/bug_256/bcrick_12_011_segmented.tif\n"
     ]
    },
    {
     "name": "stderr",
     "output_type": "stream",
     "text": [
      "/tmp/ipykernel_30121/4256171944.py:7: UserWarning: /dtu/3d-imaging-center/courses/02510/groups/group_Kakapo/Project/bug_256/bcrick_17_005_segmented.tif is a low contrast image\n",
      "  io.imsave(save_path, segmented_img.astype(np.uint8) * 255)\n"
     ]
    },
    {
     "name": "stdout",
     "output_type": "stream",
     "text": [
      "Segmented image saved to /dtu/3d-imaging-center/courses/02510/groups/group_Kakapo/Project/bug_256/bcrick_17_005_segmented.tif\n",
      "Segmented image saved to /dtu/3d-imaging-center/courses/02510/groups/group_Kakapo/Project/bug_256/bcrick_13_021_segmented.tif\n",
      "Segmented image saved to /dtu/3d-imaging-center/courses/02510/groups/group_Kakapo/Project/bug_256/bcrick_16_019_segmented.tif\n",
      "Segmented image saved to /dtu/3d-imaging-center/courses/02510/groups/group_Kakapo/Project/bug_256/bcrick_13_003_segmented.tif\n",
      "Segmented image saved to /dtu/3d-imaging-center/courses/02510/groups/group_Kakapo/Project/bug_256/bcrick_8_010_segmented.tif\n",
      "Segmented image saved to /dtu/3d-imaging-center/courses/02510/groups/group_Kakapo/Project/bug_256/bcrick_13_031_segmented.tif\n",
      "Segmented image saved to /dtu/3d-imaging-center/courses/02510/groups/group_Kakapo/Project/bug_256/bcrick_5_039_segmented.tif\n",
      "Segmented image saved to /dtu/3d-imaging-center/courses/02510/groups/group_Kakapo/Project/bug_256/bcrick_7_027_segmented.tif\n"
     ]
    },
    {
     "name": "stderr",
     "output_type": "stream",
     "text": [
      "/tmp/ipykernel_30121/4256171944.py:7: UserWarning: /dtu/3d-imaging-center/courses/02510/groups/group_Kakapo/Project/bug_256/bcrick_7_027_segmented.tif is a low contrast image\n",
      "  io.imsave(save_path, segmented_img.astype(np.uint8) * 255)\n"
     ]
    },
    {
     "name": "stdout",
     "output_type": "stream",
     "text": [
      "Segmented image saved to /dtu/3d-imaging-center/courses/02510/groups/group_Kakapo/Project/bug_256/bcrick_1_017_segmented.tif\n",
      "Segmented image saved to /dtu/3d-imaging-center/courses/02510/groups/group_Kakapo/Project/bug_256/bcrick_7_034_segmented.tif\n",
      "Segmented image saved to /dtu/3d-imaging-center/courses/02510/groups/group_Kakapo/Project/bug_256/bcrick_8_011_segmented.tif\n",
      "Segmented image saved to /dtu/3d-imaging-center/courses/02510/groups/group_Kakapo/Project/bug_256/bcrick_7_017_segmented.tif\n",
      "Segmented image saved to /dtu/3d-imaging-center/courses/02510/groups/group_Kakapo/Project/bug_256/bcrick_17_020_segmented.tif\n",
      "Segmented image saved to /dtu/3d-imaging-center/courses/02510/groups/group_Kakapo/Project/bug_256/bcrick_3_026_segmented.tif\n",
      "Segmented image saved to /dtu/3d-imaging-center/courses/02510/groups/group_Kakapo/Project/bug_256/bcrick_10_023_segmented.tif\n",
      "Segmented image saved to /dtu/3d-imaging-center/courses/02510/groups/group_Kakapo/Project/bug_256/bcrick_14_000_segmented.tif\n",
      "Segmented image saved to /dtu/3d-imaging-center/courses/02510/groups/group_Kakapo/Project/bug_256/bcrick_3_005_segmented.tif\n",
      "Segmented image saved to /dtu/3d-imaging-center/courses/02510/groups/group_Kakapo/Project/bug_256/bcrick_14_026_segmented.tif\n",
      "Segmented image saved to /dtu/3d-imaging-center/courses/02510/groups/group_Kakapo/Project/bug_256/bcrick_11_041_segmented.tif\n",
      "Segmented image saved to /dtu/3d-imaging-center/courses/02510/groups/group_Kakapo/Project/bug_256/bcrick_4_002_segmented.tif\n",
      "Segmented image saved to /dtu/3d-imaging-center/courses/02510/groups/group_Kakapo/Project/bug_256/bcrick_14_024_segmented.tif\n",
      "Segmented image saved to /dtu/3d-imaging-center/courses/02510/groups/group_Kakapo/Project/bug_256/bcrick_14_030_segmented.tif\n"
     ]
    },
    {
     "name": "stderr",
     "output_type": "stream",
     "text": [
      "/tmp/ipykernel_30121/4256171944.py:7: UserWarning: /dtu/3d-imaging-center/courses/02510/groups/group_Kakapo/Project/bug_256/bcrick_14_030_segmented.tif is a low contrast image\n",
      "  io.imsave(save_path, segmented_img.astype(np.uint8) * 255)\n"
     ]
    },
    {
     "name": "stdout",
     "output_type": "stream",
     "text": [
      "Segmented image saved to /dtu/3d-imaging-center/courses/02510/groups/group_Kakapo/Project/bug_256/bcrick_9_029_segmented.tif\n",
      "Segmented image saved to /dtu/3d-imaging-center/courses/02510/groups/group_Kakapo/Project/bug_256/bcrick_10_033_segmented.tif\n",
      "Segmented image saved to /dtu/3d-imaging-center/courses/02510/groups/group_Kakapo/Project/bug_256/bcrick_7_003_segmented.tif\n",
      "Segmented image saved to /dtu/3d-imaging-center/courses/02510/groups/group_Kakapo/Project/bug_256/bcrick_13_006_segmented.tif\n",
      "Segmented image saved to /dtu/3d-imaging-center/courses/02510/groups/group_Kakapo/Project/bug_256/bcrick_11_024_segmented.tif\n"
     ]
    },
    {
     "name": "stderr",
     "output_type": "stream",
     "text": [
      "/tmp/ipykernel_30121/4256171944.py:7: UserWarning: /dtu/3d-imaging-center/courses/02510/groups/group_Kakapo/Project/bug_256/bcrick_17_019_segmented.tif is a low contrast image\n",
      "  io.imsave(save_path, segmented_img.astype(np.uint8) * 255)\n"
     ]
    },
    {
     "name": "stdout",
     "output_type": "stream",
     "text": [
      "Segmented image saved to /dtu/3d-imaging-center/courses/02510/groups/group_Kakapo/Project/bug_256/bcrick_17_019_segmented.tif\n",
      "Segmented image saved to /dtu/3d-imaging-center/courses/02510/groups/group_Kakapo/Project/bug_256/bcrick_3_022_segmented.tif\n",
      "Segmented image saved to /dtu/3d-imaging-center/courses/02510/groups/group_Kakapo/Project/bug_256/bcrick_8_040_segmented.tif\n",
      "Segmented image saved to /dtu/3d-imaging-center/courses/02510/groups/group_Kakapo/Project/bug_256/bcrick_15_027_segmented.tif\n"
     ]
    },
    {
     "name": "stderr",
     "output_type": "stream",
     "text": [
      "/tmp/ipykernel_30121/4256171944.py:7: UserWarning: /dtu/3d-imaging-center/courses/02510/groups/group_Kakapo/Project/bug_256/bcrick_4_004_segmented.tif is a low contrast image\n",
      "  io.imsave(save_path, segmented_img.astype(np.uint8) * 255)\n"
     ]
    },
    {
     "name": "stdout",
     "output_type": "stream",
     "text": [
      "Segmented image saved to /dtu/3d-imaging-center/courses/02510/groups/group_Kakapo/Project/bug_256/bcrick_4_004_segmented.tif\n",
      "Segmented image saved to /dtu/3d-imaging-center/courses/02510/groups/group_Kakapo/Project/bug_256/bcrick_6_002_segmented.tif\n",
      "Segmented image saved to /dtu/3d-imaging-center/courses/02510/groups/group_Kakapo/Project/bug_256/bcrick_5_009_segmented.tif\n",
      "Segmented image saved to /dtu/3d-imaging-center/courses/02510/groups/group_Kakapo/Project/bug_256/bcrick_4_040_segmented.tif\n",
      "Segmented image saved to /dtu/3d-imaging-center/courses/02510/groups/group_Kakapo/Project/bug_256/bcrick_10_015_segmented.tif\n",
      "Segmented image saved to /dtu/3d-imaging-center/courses/02510/groups/group_Kakapo/Project/bug_256/bcrick_9_028_segmented.tif\n",
      "Segmented image saved to /dtu/3d-imaging-center/courses/02510/groups/group_Kakapo/Project/bug_256/bcrick_12_026_segmented.tif\n",
      "Segmented image saved to /dtu/3d-imaging-center/courses/02510/groups/group_Kakapo/Project/bug_256/bcrick_1_029_segmented.tif\n"
     ]
    },
    {
     "name": "stderr",
     "output_type": "stream",
     "text": [
      "/tmp/ipykernel_30121/4256171944.py:7: UserWarning: /dtu/3d-imaging-center/courses/02510/groups/group_Kakapo/Project/bug_256/bcrick_1_029_segmented.tif is a low contrast image\n",
      "  io.imsave(save_path, segmented_img.astype(np.uint8) * 255)\n"
     ]
    },
    {
     "name": "stdout",
     "output_type": "stream",
     "text": [
      "Segmented image saved to /dtu/3d-imaging-center/courses/02510/groups/group_Kakapo/Project/bug_256/bcrick_2_001_segmented.tif\n",
      "Segmented image saved to /dtu/3d-imaging-center/courses/02510/groups/group_Kakapo/Project/bug_256/bcrick_2_038_segmented.tif\n"
     ]
    },
    {
     "name": "stderr",
     "output_type": "stream",
     "text": [
      "/tmp/ipykernel_30121/4256171944.py:7: UserWarning: /dtu/3d-imaging-center/courses/02510/groups/group_Kakapo/Project/bug_256/bcrick_2_033_segmented.tif is a low contrast image\n",
      "  io.imsave(save_path, segmented_img.astype(np.uint8) * 255)\n"
     ]
    },
    {
     "name": "stdout",
     "output_type": "stream",
     "text": [
      "Segmented image saved to /dtu/3d-imaging-center/courses/02510/groups/group_Kakapo/Project/bug_256/bcrick_2_033_segmented.tif\n",
      "Segmented image saved to /dtu/3d-imaging-center/courses/02510/groups/group_Kakapo/Project/bug_256/bcrick_4_024_segmented.tif\n",
      "Segmented image saved to /dtu/3d-imaging-center/courses/02510/groups/group_Kakapo/Project/bug_256/bcrick_3_002_segmented.tif\n",
      "Segmented image saved to /dtu/3d-imaging-center/courses/02510/groups/group_Kakapo/Project/bug_256/bcrick_3_001_segmented.tif\n"
     ]
    },
    {
     "name": "stderr",
     "output_type": "stream",
     "text": [
      "/tmp/ipykernel_30121/4256171944.py:7: UserWarning: /dtu/3d-imaging-center/courses/02510/groups/group_Kakapo/Project/bug_256/bcrick_3_001_segmented.tif is a low contrast image\n",
      "  io.imsave(save_path, segmented_img.astype(np.uint8) * 255)\n",
      "/tmp/ipykernel_30121/4256171944.py:7: UserWarning: /dtu/3d-imaging-center/courses/02510/groups/group_Kakapo/Project/bug_256/bcrick_1_026_segmented.tif is a low contrast image\n",
      "  io.imsave(save_path, segmented_img.astype(np.uint8) * 255)\n"
     ]
    },
    {
     "name": "stdout",
     "output_type": "stream",
     "text": [
      "Segmented image saved to /dtu/3d-imaging-center/courses/02510/groups/group_Kakapo/Project/bug_256/bcrick_1_026_segmented.tif\n",
      "Segmented image saved to /dtu/3d-imaging-center/courses/02510/groups/group_Kakapo/Project/bug_256/bcrick_7_010_segmented.tif\n",
      "Segmented image saved to /dtu/3d-imaging-center/courses/02510/groups/group_Kakapo/Project/bug_256/bcrick_12_023_segmented.tif\n",
      "Segmented image saved to /dtu/3d-imaging-center/courses/02510/groups/group_Kakapo/Project/bug_256/bcrick_17_013_segmented.tif\n"
     ]
    },
    {
     "name": "stderr",
     "output_type": "stream",
     "text": [
      "/tmp/ipykernel_30121/4256171944.py:7: UserWarning: /dtu/3d-imaging-center/courses/02510/groups/group_Kakapo/Project/bug_256/bcrick_17_013_segmented.tif is a low contrast image\n",
      "  io.imsave(save_path, segmented_img.astype(np.uint8) * 255)\n"
     ]
    },
    {
     "name": "stdout",
     "output_type": "stream",
     "text": [
      "Segmented image saved to /dtu/3d-imaging-center/courses/02510/groups/group_Kakapo/Project/bug_256/bcrick_5_035_segmented.tif\n",
      "Segmented image saved to /dtu/3d-imaging-center/courses/02510/groups/group_Kakapo/Project/bug_256/bcrick_3_013_segmented.tif\n",
      "Segmented image saved to /dtu/3d-imaging-center/courses/02510/groups/group_Kakapo/Project/bug_256/bcrick_10_011_segmented.tif\n",
      "Segmented image saved to /dtu/3d-imaging-center/courses/02510/groups/group_Kakapo/Project/bug_256/bcrick_7_032_segmented.tif\n",
      "Segmented image saved to /dtu/3d-imaging-center/courses/02510/groups/group_Kakapo/Project/bug_256/bcrick_10_024_segmented.tif\n"
     ]
    },
    {
     "name": "stderr",
     "output_type": "stream",
     "text": [
      "/tmp/ipykernel_30121/4256171944.py:7: UserWarning: /dtu/3d-imaging-center/courses/02510/groups/group_Kakapo/Project/bug_256/bcrick_14_025_segmented.tif is a low contrast image\n",
      "  io.imsave(save_path, segmented_img.astype(np.uint8) * 255)\n"
     ]
    },
    {
     "name": "stdout",
     "output_type": "stream",
     "text": [
      "Segmented image saved to /dtu/3d-imaging-center/courses/02510/groups/group_Kakapo/Project/bug_256/bcrick_14_025_segmented.tif\n",
      "Segmented image saved to /dtu/3d-imaging-center/courses/02510/groups/group_Kakapo/Project/bug_256/bcrick_9_030_segmented.tif\n",
      "Segmented image saved to /dtu/3d-imaging-center/courses/02510/groups/group_Kakapo/Project/bug_256/bcrick_4_033_segmented.tif\n",
      "Segmented image saved to /dtu/3d-imaging-center/courses/02510/groups/group_Kakapo/Project/bug_256/bcrick_11_025_segmented.tif\n",
      "Segmented image saved to /dtu/3d-imaging-center/courses/02510/groups/group_Kakapo/Project/bug_256/bcrick_3_025_segmented.tif\n",
      "Segmented image saved to /dtu/3d-imaging-center/courses/02510/groups/group_Kakapo/Project/bug_256/bcrick_2_008_segmented.tif\n",
      "Segmented image saved to /dtu/3d-imaging-center/courses/02510/groups/group_Kakapo/Project/bug_256/bcrick_14_015_segmented.tif\n",
      "Segmented image saved to /dtu/3d-imaging-center/courses/02510/groups/group_Kakapo/Project/bug_256/bcrick_10_012_segmented.tif\n",
      "Segmented image saved to /dtu/3d-imaging-center/courses/02510/groups/group_Kakapo/Project/bug_256/bcrick_2_025_segmented.tif\n",
      "Segmented image saved to /dtu/3d-imaging-center/courses/02510/groups/group_Kakapo/Project/bug_256/bcrick_5_041_segmented.tif\n",
      "Segmented image saved to /dtu/3d-imaging-center/courses/02510/groups/group_Kakapo/Project/bug_256/bcrick_16_036_segmented.tif\n",
      "Segmented image saved to /dtu/3d-imaging-center/courses/02510/groups/group_Kakapo/Project/bug_256/bcrick_4_042_segmented.tif\n"
     ]
    },
    {
     "name": "stderr",
     "output_type": "stream",
     "text": [
      "/tmp/ipykernel_30121/4256171944.py:7: UserWarning: /dtu/3d-imaging-center/courses/02510/groups/group_Kakapo/Project/bug_256/bcrick_4_042_segmented.tif is a low contrast image\n",
      "  io.imsave(save_path, segmented_img.astype(np.uint8) * 255)\n"
     ]
    },
    {
     "name": "stdout",
     "output_type": "stream",
     "text": [
      "Segmented image saved to /dtu/3d-imaging-center/courses/02510/groups/group_Kakapo/Project/bug_256/bcrick_7_035_segmented.tif\n",
      "Segmented image saved to /dtu/3d-imaging-center/courses/02510/groups/group_Kakapo/Project/bug_256/bcrick_7_023_segmented.tif\n",
      "Segmented image saved to /dtu/3d-imaging-center/courses/02510/groups/group_Kakapo/Project/bug_256/bcrick_5_032_segmented.tif\n",
      "Segmented image saved to /dtu/3d-imaging-center/courses/02510/groups/group_Kakapo/Project/bug_256/bcrick_2_042_segmented.tif\n",
      "Segmented image saved to /dtu/3d-imaging-center/courses/02510/groups/group_Kakapo/Project/bug_256/bcrick_11_039_segmented.tif\n",
      "Segmented image saved to /dtu/3d-imaging-center/courses/02510/groups/group_Kakapo/Project/bug_256/bcrick_12_033_segmented.tif\n",
      "Segmented image saved to /dtu/3d-imaging-center/courses/02510/groups/group_Kakapo/Project/bug_256/bcrick_10_037_segmented.tif\n",
      "Segmented image saved to /dtu/3d-imaging-center/courses/02510/groups/group_Kakapo/Project/bug_256/bcrick_9_039_segmented.tif\n",
      "Segmented image saved to /dtu/3d-imaging-center/courses/02510/groups/group_Kakapo/Project/bug_256/bcrick_6_027_segmented.tif\n",
      "Segmented image saved to /dtu/3d-imaging-center/courses/02510/groups/group_Kakapo/Project/bug_256/bcrick_1_038_segmented.tif\n"
     ]
    },
    {
     "name": "stderr",
     "output_type": "stream",
     "text": [
      "/tmp/ipykernel_30121/4256171944.py:7: UserWarning: /dtu/3d-imaging-center/courses/02510/groups/group_Kakapo/Project/bug_256/bcrick_15_015_segmented.tif is a low contrast image\n",
      "  io.imsave(save_path, segmented_img.astype(np.uint8) * 255)\n"
     ]
    },
    {
     "name": "stdout",
     "output_type": "stream",
     "text": [
      "Segmented image saved to /dtu/3d-imaging-center/courses/02510/groups/group_Kakapo/Project/bug_256/bcrick_15_015_segmented.tif\n",
      "Segmented image saved to /dtu/3d-imaging-center/courses/02510/groups/group_Kakapo/Project/bug_256/bcrick_10_020_segmented.tif\n",
      "Segmented image saved to /dtu/3d-imaging-center/courses/02510/groups/group_Kakapo/Project/bug_256/bcrick_9_022_segmented.tif\n",
      "Segmented image saved to /dtu/3d-imaging-center/courses/02510/groups/group_Kakapo/Project/bug_256/bcrick_9_021_segmented.tif\n",
      "Segmented image saved to /dtu/3d-imaging-center/courses/02510/groups/group_Kakapo/Project/bug_256/bcrick_8_006_segmented.tif\n",
      "Segmented image saved to /dtu/3d-imaging-center/courses/02510/groups/group_Kakapo/Project/bug_256/bcrick_9_016_segmented.tif\n",
      "Segmented image saved to /dtu/3d-imaging-center/courses/02510/groups/group_Kakapo/Project/bug_256/bcrick_15_000_segmented.tif\n",
      "Segmented image saved to /dtu/3d-imaging-center/courses/02510/groups/group_Kakapo/Project/bug_256/bcrick_10_000_segmented.tif\n",
      "Segmented image saved to /dtu/3d-imaging-center/courses/02510/groups/group_Kakapo/Project/bug_256/bcrick_11_021_segmented.tif\n",
      "Segmented image saved to /dtu/3d-imaging-center/courses/02510/groups/group_Kakapo/Project/bug_256/bcrick_9_003_segmented.tif\n"
     ]
    },
    {
     "name": "stderr",
     "output_type": "stream",
     "text": [
      "/tmp/ipykernel_30121/4256171944.py:7: UserWarning: /dtu/3d-imaging-center/courses/02510/groups/group_Kakapo/Project/bug_256/bcrick_1_007_segmented.tif is a low contrast image\n",
      "  io.imsave(save_path, segmented_img.astype(np.uint8) * 255)\n"
     ]
    },
    {
     "name": "stdout",
     "output_type": "stream",
     "text": [
      "Segmented image saved to /dtu/3d-imaging-center/courses/02510/groups/group_Kakapo/Project/bug_256/bcrick_1_007_segmented.tif\n",
      "Segmented image saved to /dtu/3d-imaging-center/courses/02510/groups/group_Kakapo/Project/bug_256/bcrick_4_003_segmented.tif\n",
      "Segmented image saved to /dtu/3d-imaging-center/courses/02510/groups/group_Kakapo/Project/bug_256/bcrick_9_006_segmented.tif\n",
      "Segmented image saved to /dtu/3d-imaging-center/courses/02510/groups/group_Kakapo/Project/bug_256/bcrick_4_039_segmented.tif\n"
     ]
    },
    {
     "name": "stderr",
     "output_type": "stream",
     "text": [
      "/tmp/ipykernel_30121/4256171944.py:7: UserWarning: /dtu/3d-imaging-center/courses/02510/groups/group_Kakapo/Project/bug_256/bcrick_4_039_segmented.tif is a low contrast image\n",
      "  io.imsave(save_path, segmented_img.astype(np.uint8) * 255)\n"
     ]
    },
    {
     "name": "stdout",
     "output_type": "stream",
     "text": [
      "Segmented image saved to /dtu/3d-imaging-center/courses/02510/groups/group_Kakapo/Project/bug_256/bcrick_15_026_segmented.tif\n",
      "Segmented image saved to /dtu/3d-imaging-center/courses/02510/groups/group_Kakapo/Project/bug_256/bcrick_4_010_segmented.tif\n",
      "Segmented image saved to /dtu/3d-imaging-center/courses/02510/groups/group_Kakapo/Project/bug_256/bcrick_2_021_segmented.tif\n",
      "Segmented image saved to /dtu/3d-imaging-center/courses/02510/groups/group_Kakapo/Project/bug_256/bcrick_2_043_segmented.tif\n",
      "Segmented image saved to /dtu/3d-imaging-center/courses/02510/groups/group_Kakapo/Project/bug_256/bcrick_11_008_segmented.tif\n",
      "Segmented image saved to /dtu/3d-imaging-center/courses/02510/groups/group_Kakapo/Project/bug_256/bcrick_5_033_segmented.tif\n",
      "Segmented image saved to /dtu/3d-imaging-center/courses/02510/groups/group_Kakapo/Project/bug_256/bcrick_16_007_segmented.tif\n",
      "Segmented image saved to /dtu/3d-imaging-center/courses/02510/groups/group_Kakapo/Project/bug_256/bcrick_2_004_segmented.tif\n",
      "Segmented image saved to /dtu/3d-imaging-center/courses/02510/groups/group_Kakapo/Project/bug_256/bcrick_11_027_segmented.tif\n",
      "Segmented image saved to /dtu/3d-imaging-center/courses/02510/groups/group_Kakapo/Project/bug_256/bcrick_8_030_segmented.tif\n",
      "Segmented image saved to /dtu/3d-imaging-center/courses/02510/groups/group_Kakapo/Project/bug_256/bcrick_11_011_segmented.tif\n",
      "Segmented image saved to /dtu/3d-imaging-center/courses/02510/groups/group_Kakapo/Project/bug_256/bcrick_5_005_segmented.tif\n"
     ]
    },
    {
     "name": "stderr",
     "output_type": "stream",
     "text": [
      "/tmp/ipykernel_30121/4256171944.py:7: UserWarning: /dtu/3d-imaging-center/courses/02510/groups/group_Kakapo/Project/bug_256/bcrick_5_005_segmented.tif is a low contrast image\n",
      "  io.imsave(save_path, segmented_img.astype(np.uint8) * 255)\n"
     ]
    },
    {
     "name": "stdout",
     "output_type": "stream",
     "text": [
      "Segmented image saved to /dtu/3d-imaging-center/courses/02510/groups/group_Kakapo/Project/bug_256/bcrick_5_011_segmented.tif\n",
      "Segmented image saved to /dtu/3d-imaging-center/courses/02510/groups/group_Kakapo/Project/bug_256/bcrick_16_013_segmented.tif\n",
      "Segmented image saved to /dtu/3d-imaging-center/courses/02510/groups/group_Kakapo/Project/bug_256/bcrick_16_030_segmented.tif\n",
      "Segmented image saved to /dtu/3d-imaging-center/courses/02510/groups/group_Kakapo/Project/bug_256/bcrick_13_033_segmented.tif\n",
      "Segmented image saved to /dtu/3d-imaging-center/courses/02510/groups/group_Kakapo/Project/bug_256/bcrick_11_035_segmented.tif\n",
      "Segmented image saved to /dtu/3d-imaging-center/courses/02510/groups/group_Kakapo/Project/bug_256/bcrick_15_029_segmented.tif\n",
      "Segmented image saved to /dtu/3d-imaging-center/courses/02510/groups/group_Kakapo/Project/bug_256/bcrick_2_020_segmented.tif\n",
      "Segmented image saved to /dtu/3d-imaging-center/courses/02510/groups/group_Kakapo/Project/bug_256/bcrick_2_023_segmented.tif\n",
      "Segmented image saved to /dtu/3d-imaging-center/courses/02510/groups/group_Kakapo/Project/bug_256/bcrick_2_041_segmented.tif\n",
      "Segmented image saved to /dtu/3d-imaging-center/courses/02510/groups/group_Kakapo/Project/bug_256/bcrick_1_015_segmented.tif\n",
      "Segmented image saved to /dtu/3d-imaging-center/courses/02510/groups/group_Kakapo/Project/bug_256/bcrick_16_004_segmented.tif\n",
      "Segmented image saved to /dtu/3d-imaging-center/courses/02510/groups/group_Kakapo/Project/bug_256/bcrick_3_024_segmented.tif\n",
      "Segmented image saved to /dtu/3d-imaging-center/courses/02510/groups/group_Kakapo/Project/bug_256/bcrick_12_019_segmented.tif\n",
      "Segmented image saved to /dtu/3d-imaging-center/courses/02510/groups/group_Kakapo/Project/bug_256/bcrick_6_025_segmented.tif\n",
      "Segmented image saved to /dtu/3d-imaging-center/courses/02510/groups/group_Kakapo/Project/bug_256/bcrick_7_020_segmented.tif\n"
     ]
    },
    {
     "name": "stderr",
     "output_type": "stream",
     "text": [
      "/tmp/ipykernel_30121/4256171944.py:7: UserWarning: /dtu/3d-imaging-center/courses/02510/groups/group_Kakapo/Project/bug_256/bcrick_4_037_segmented.tif is a low contrast image\n",
      "  io.imsave(save_path, segmented_img.astype(np.uint8) * 255)\n"
     ]
    },
    {
     "name": "stdout",
     "output_type": "stream",
     "text": [
      "Segmented image saved to /dtu/3d-imaging-center/courses/02510/groups/group_Kakapo/Project/bug_256/bcrick_4_037_segmented.tif\n",
      "Segmented image saved to /dtu/3d-imaging-center/courses/02510/groups/group_Kakapo/Project/bug_256/bcrick_3_007_segmented.tif\n",
      "Segmented image saved to /dtu/3d-imaging-center/courses/02510/groups/group_Kakapo/Project/bug_256/bcrick_14_012_segmented.tif\n",
      "Segmented image saved to /dtu/3d-imaging-center/courses/02510/groups/group_Kakapo/Project/bug_256/bcrick_11_022_segmented.tif\n",
      "Segmented image saved to /dtu/3d-imaging-center/courses/02510/groups/group_Kakapo/Project/bug_256/bcrick_11_019_segmented.tif\n",
      "Segmented image saved to /dtu/3d-imaging-center/courses/02510/groups/group_Kakapo/Project/bug_256/bcrick_6_031_segmented.tif\n",
      "Segmented image saved to /dtu/3d-imaging-center/courses/02510/groups/group_Kakapo/Project/bug_256/bcrick_8_031_segmented.tif\n",
      "Segmented image saved to /dtu/3d-imaging-center/courses/02510/groups/group_Kakapo/Project/bug_256/bcrick_15_003_segmented.tif\n",
      "Segmented image saved to /dtu/3d-imaging-center/courses/02510/groups/group_Kakapo/Project/bug_256/bcrick_13_014_segmented.tif\n",
      "Segmented image saved to /dtu/3d-imaging-center/courses/02510/groups/group_Kakapo/Project/bug_256/bcrick_8_003_segmented.tif\n",
      "Segmented image saved to /dtu/3d-imaging-center/courses/02510/groups/group_Kakapo/Project/bug_256/bcrick_7_019_segmented.tif\n",
      "Segmented image saved to /dtu/3d-imaging-center/courses/02510/groups/group_Kakapo/Project/bug_256/bcrick_5_034_segmented.tif\n",
      "Segmented image saved to /dtu/3d-imaging-center/courses/02510/groups/group_Kakapo/Project/bug_256/bcrick_12_028_segmented.tif\n"
     ]
    },
    {
     "name": "stderr",
     "output_type": "stream",
     "text": [
      "/tmp/ipykernel_30121/4256171944.py:7: UserWarning: /dtu/3d-imaging-center/courses/02510/groups/group_Kakapo/Project/bug_256/bcrick_12_006_segmented.tif is a low contrast image\n",
      "  io.imsave(save_path, segmented_img.astype(np.uint8) * 255)\n"
     ]
    },
    {
     "name": "stdout",
     "output_type": "stream",
     "text": [
      "Segmented image saved to /dtu/3d-imaging-center/courses/02510/groups/group_Kakapo/Project/bug_256/bcrick_12_006_segmented.tif\n",
      "Segmented image saved to /dtu/3d-imaging-center/courses/02510/groups/group_Kakapo/Project/bug_256/bcrick_8_038_segmented.tif\n",
      "Segmented image saved to /dtu/3d-imaging-center/courses/02510/groups/group_Kakapo/Project/bug_256/bcrick_13_027_segmented.tif\n",
      "Segmented image saved to /dtu/3d-imaging-center/courses/02510/groups/group_Kakapo/Project/bug_256/bcrick_9_010_segmented.tif\n",
      "Segmented image saved to /dtu/3d-imaging-center/courses/02510/groups/group_Kakapo/Project/bug_256/bcrick_12_014_segmented.tif\n",
      "Segmented image saved to /dtu/3d-imaging-center/courses/02510/groups/group_Kakapo/Project/bug_256/bcrick_1_023_segmented.tif\n",
      "Segmented image saved to /dtu/3d-imaging-center/courses/02510/groups/group_Kakapo/Project/bug_256/bcrick_11_020_segmented.tif\n",
      "Segmented image saved to /dtu/3d-imaging-center/courses/02510/groups/group_Kakapo/Project/bug_256/bcrick_14_020_segmented.tif\n"
     ]
    },
    {
     "name": "stderr",
     "output_type": "stream",
     "text": [
      "/tmp/ipykernel_30121/4256171944.py:7: UserWarning: /dtu/3d-imaging-center/courses/02510/groups/group_Kakapo/Project/bug_256/bcrick_14_020_segmented.tif is a low contrast image\n",
      "  io.imsave(save_path, segmented_img.astype(np.uint8) * 255)\n"
     ]
    },
    {
     "name": "stdout",
     "output_type": "stream",
     "text": [
      "Segmented image saved to /dtu/3d-imaging-center/courses/02510/groups/group_Kakapo/Project/bug_256/bcrick_3_012_segmented.tif\n",
      "Segmented image saved to /dtu/3d-imaging-center/courses/02510/groups/group_Kakapo/Project/bug_256/bcrick_7_021_segmented.tif\n",
      "Segmented image saved to /dtu/3d-imaging-center/courses/02510/groups/group_Kakapo/Project/bug_256/bcrick_7_026_segmented.tif\n",
      "Segmented image saved to /dtu/3d-imaging-center/courses/02510/groups/group_Kakapo/Project/bug_256/bcrick_2_018_segmented.tif\n",
      "Segmented image saved to /dtu/3d-imaging-center/courses/02510/groups/group_Kakapo/Project/bug_256/bcrick_4_025_segmented.tif\n",
      "Segmented image saved to /dtu/3d-imaging-center/courses/02510/groups/group_Kakapo/Project/bug_256/bcrick_10_034_segmented.tif\n",
      "Segmented image saved to /dtu/3d-imaging-center/courses/02510/groups/group_Kakapo/Project/bug_256/bcrick_1_021_segmented.tif\n",
      "Segmented image saved to /dtu/3d-imaging-center/courses/02510/groups/group_Kakapo/Project/bug_256/bcrick_17_016_segmented.tif\n",
      "Segmented image saved to /dtu/3d-imaging-center/courses/02510/groups/group_Kakapo/Project/bug_256/bcrick_4_041_segmented.tif\n",
      "Segmented image saved to /dtu/3d-imaging-center/courses/02510/groups/group_Kakapo/Project/bug_256/bcrick_6_003_segmented.tif\n",
      "Segmented image saved to /dtu/3d-imaging-center/courses/02510/groups/group_Kakapo/Project/bug_256/bcrick_15_014_segmented.tif\n",
      "Segmented image saved to /dtu/3d-imaging-center/courses/02510/groups/group_Kakapo/Project/bug_256/bcrick_11_018_segmented.tif\n",
      "Segmented image saved to /dtu/3d-imaging-center/courses/02510/groups/group_Kakapo/Project/bug_256/bcrick_9_042_segmented.tif\n",
      "Segmented image saved to /dtu/3d-imaging-center/courses/02510/groups/group_Kakapo/Project/bug_256/bcrick_13_015_segmented.tif\n",
      "Segmented image saved to /dtu/3d-imaging-center/courses/02510/groups/group_Kakapo/Project/bug_256/bcrick_8_022_segmented.tif\n",
      "Segmented image saved to /dtu/3d-imaging-center/courses/02510/groups/group_Kakapo/Project/bug_256/bcrick_16_008_segmented.tif\n",
      "Segmented image saved to /dtu/3d-imaging-center/courses/02510/groups/group_Kakapo/Project/bug_256/bcrick_17_001_segmented.tif\n",
      "Segmented image saved to /dtu/3d-imaging-center/courses/02510/groups/group_Kakapo/Project/bug_256/bcrick_17_024_segmented.tif\n"
     ]
    },
    {
     "name": "stderr",
     "output_type": "stream",
     "text": [
      "/tmp/ipykernel_30121/4256171944.py:7: UserWarning: /dtu/3d-imaging-center/courses/02510/groups/group_Kakapo/Project/bug_256/bcrick_17_024_segmented.tif is a low contrast image\n",
      "  io.imsave(save_path, segmented_img.astype(np.uint8) * 255)\n"
     ]
    },
    {
     "name": "stdout",
     "output_type": "stream",
     "text": [
      "Segmented image saved to /dtu/3d-imaging-center/courses/02510/groups/group_Kakapo/Project/bug_256/bcrick_3_016_segmented.tif\n",
      "Segmented image saved to /dtu/3d-imaging-center/courses/02510/groups/group_Kakapo/Project/bug_256/bcrick_2_002_segmented.tif\n"
     ]
    },
    {
     "name": "stderr",
     "output_type": "stream",
     "text": [
      "/tmp/ipykernel_30121/4256171944.py:7: UserWarning: /dtu/3d-imaging-center/courses/02510/groups/group_Kakapo/Project/bug_256/bcrick_6_005_segmented.tif is a low contrast image\n",
      "  io.imsave(save_path, segmented_img.astype(np.uint8) * 255)\n"
     ]
    },
    {
     "name": "stdout",
     "output_type": "stream",
     "text": [
      "Segmented image saved to /dtu/3d-imaging-center/courses/02510/groups/group_Kakapo/Project/bug_256/bcrick_6_005_segmented.tif\n"
     ]
    },
    {
     "name": "stderr",
     "output_type": "stream",
     "text": [
      "/tmp/ipykernel_30121/4256171944.py:7: UserWarning: /dtu/3d-imaging-center/courses/02510/groups/group_Kakapo/Project/bug_256/bcrick_17_003_segmented.tif is a low contrast image\n",
      "  io.imsave(save_path, segmented_img.astype(np.uint8) * 255)\n"
     ]
    },
    {
     "name": "stdout",
     "output_type": "stream",
     "text": [
      "Segmented image saved to /dtu/3d-imaging-center/courses/02510/groups/group_Kakapo/Project/bug_256/bcrick_17_003_segmented.tif\n",
      "Segmented image saved to /dtu/3d-imaging-center/courses/02510/groups/group_Kakapo/Project/bug_256/bcrick_3_027_segmented.tif\n",
      "Segmented image saved to /dtu/3d-imaging-center/courses/02510/groups/group_Kakapo/Project/bug_256/bcrick_7_042_segmented.tif\n",
      "Segmented image saved to /dtu/3d-imaging-center/courses/02510/groups/group_Kakapo/Project/bug_256/bcrick_6_001_segmented.tif\n",
      "Segmented image saved to /dtu/3d-imaging-center/courses/02510/groups/group_Kakapo/Project/bug_256/bcrick_2_005_segmented.tif\n",
      "Segmented image saved to /dtu/3d-imaging-center/courses/02510/groups/group_Kakapo/Project/bug_256/bcrick_9_007_segmented.tif\n",
      "Segmented image saved to /dtu/3d-imaging-center/courses/02510/groups/group_Kakapo/Project/bug_256/bcrick_12_021_segmented.tif\n",
      "Segmented image saved to /dtu/3d-imaging-center/courses/02510/groups/group_Kakapo/Project/bug_256/bcrick_15_038_segmented.tif\n",
      "Segmented image saved to /dtu/3d-imaging-center/courses/02510/groups/group_Kakapo/Project/bug_256/bcrick_6_011_segmented.tif\n",
      "Segmented image saved to /dtu/3d-imaging-center/courses/02510/groups/group_Kakapo/Project/bug_256/bcrick_9_025_segmented.tif\n",
      "Segmented image saved to /dtu/3d-imaging-center/courses/02510/groups/group_Kakapo/Project/bug_256/bcrick_2_024_segmented.tif\n"
     ]
    },
    {
     "name": "stderr",
     "output_type": "stream",
     "text": [
      "/tmp/ipykernel_30121/4256171944.py:7: UserWarning: /dtu/3d-imaging-center/courses/02510/groups/group_Kakapo/Project/bug_256/bcrick_15_016_segmented.tif is a low contrast image\n",
      "  io.imsave(save_path, segmented_img.astype(np.uint8) * 255)\n"
     ]
    },
    {
     "name": "stdout",
     "output_type": "stream",
     "text": [
      "Segmented image saved to /dtu/3d-imaging-center/courses/02510/groups/group_Kakapo/Project/bug_256/bcrick_15_016_segmented.tif\n",
      "Segmented image saved to /dtu/3d-imaging-center/courses/02510/groups/group_Kakapo/Project/bug_256/bcrick_2_028_segmented.tif\n",
      "Segmented image saved to /dtu/3d-imaging-center/courses/02510/groups/group_Kakapo/Project/bug_256/bcrick_12_008_segmented.tif\n",
      "Segmented image saved to /dtu/3d-imaging-center/courses/02510/groups/group_Kakapo/Project/bug_256/bcrick_9_014_segmented.tif\n",
      "Segmented image saved to /dtu/3d-imaging-center/courses/02510/groups/group_Kakapo/Project/bug_256/bcrick_14_039_segmented.tif\n",
      "Segmented image saved to /dtu/3d-imaging-center/courses/02510/groups/group_Kakapo/Project/bug_256/bcrick_14_019_segmented.tif\n",
      "Segmented image saved to /dtu/3d-imaging-center/courses/02510/groups/group_Kakapo/Project/bug_256/bcrick_10_018_segmented.tif\n",
      "Segmented image saved to /dtu/3d-imaging-center/courses/02510/groups/group_Kakapo/Project/bug_256/bcrick_16_028_segmented.tif\n",
      "Segmented image saved to /dtu/3d-imaging-center/courses/02510/groups/group_Kakapo/Project/bug_256/bcrick_1_010_segmented.tif\n",
      "Segmented image saved to /dtu/3d-imaging-center/courses/02510/groups/group_Kakapo/Project/bug_256/bcrick_2_032_segmented.tif\n",
      "Segmented image saved to /dtu/3d-imaging-center/courses/02510/groups/group_Kakapo/Project/bug_256/bcrick_5_023_segmented.tif\n",
      "Segmented image saved to /dtu/3d-imaging-center/courses/02510/groups/group_Kakapo/Project/bug_256/bcrick_13_029_segmented.tif\n",
      "Segmented image saved to /dtu/3d-imaging-center/courses/02510/groups/group_Kakapo/Project/bug_256/bcrick_10_026_segmented.tif\n",
      "Segmented image saved to /dtu/3d-imaging-center/courses/02510/groups/group_Kakapo/Project/bug_256/bcrick_15_035_segmented.tif\n",
      "Segmented image saved to /dtu/3d-imaging-center/courses/02510/groups/group_Kakapo/Project/bug_256/bcrick_5_022_segmented.tif\n",
      "Segmented image saved to /dtu/3d-imaging-center/courses/02510/groups/group_Kakapo/Project/bug_256/bcrick_13_002_segmented.tif\n",
      "Segmented image saved to /dtu/3d-imaging-center/courses/02510/groups/group_Kakapo/Project/bug_256/bcrick_3_020_segmented.tif\n",
      "Segmented image saved to /dtu/3d-imaging-center/courses/02510/groups/group_Kakapo/Project/bug_256/bcrick_17_021_segmented.tif\n",
      "Segmented image saved to /dtu/3d-imaging-center/courses/02510/groups/group_Kakapo/Project/bug_256/bcrick_16_012_segmented.tif\n",
      "Segmented image saved to /dtu/3d-imaging-center/courses/02510/groups/group_Kakapo/Project/bug_256/bcrick_13_011_segmented.tif\n"
     ]
    },
    {
     "name": "stderr",
     "output_type": "stream",
     "text": [
      "/tmp/ipykernel_30121/4256171944.py:7: UserWarning: /dtu/3d-imaging-center/courses/02510/groups/group_Kakapo/Project/bug_256/bcrick_13_011_segmented.tif is a low contrast image\n",
      "  io.imsave(save_path, segmented_img.astype(np.uint8) * 255)\n"
     ]
    },
    {
     "name": "stdout",
     "output_type": "stream",
     "text": [
      "Segmented image saved to /dtu/3d-imaging-center/courses/02510/groups/group_Kakapo/Project/bug_256/bcrick_12_024_segmented.tif\n",
      "Segmented image saved to /dtu/3d-imaging-center/courses/02510/groups/group_Kakapo/Project/bug_256/bcrick_12_007_segmented.tif\n",
      "Segmented image saved to /dtu/3d-imaging-center/courses/02510/groups/group_Kakapo/Project/bug_256/bcrick_10_014_segmented.tif\n",
      "Segmented image saved to /dtu/3d-imaging-center/courses/02510/groups/group_Kakapo/Project/bug_256/bcrick_8_028_segmented.tif\n",
      "Segmented image saved to /dtu/3d-imaging-center/courses/02510/groups/group_Kakapo/Project/bug_256/bcrick_5_003_segmented.tif\n",
      "Segmented image saved to /dtu/3d-imaging-center/courses/02510/groups/group_Kakapo/Project/bug_256/bcrick_12_002_segmented.tif\n",
      "Segmented image saved to /dtu/3d-imaging-center/courses/02510/groups/group_Kakapo/Project/bug_256/bcrick_7_033_segmented.tif\n",
      "Segmented image saved to /dtu/3d-imaging-center/courses/02510/groups/group_Kakapo/Project/bug_256/bcrick_6_037_segmented.tif\n",
      "Segmented image saved to /dtu/3d-imaging-center/courses/02510/groups/group_Kakapo/Project/bug_256/bcrick_11_002_segmented.tif\n",
      "Segmented image saved to /dtu/3d-imaging-center/courses/02510/groups/group_Kakapo/Project/bug_256/bcrick_6_028_segmented.tif\n",
      "Segmented image saved to /dtu/3d-imaging-center/courses/02510/groups/group_Kakapo/Project/bug_256/bcrick_1_025_segmented.tif\n",
      "Segmented image saved to /dtu/3d-imaging-center/courses/02510/groups/group_Kakapo/Project/bug_256/bcrick_1_030_segmented.tif\n",
      "Segmented image saved to /dtu/3d-imaging-center/courses/02510/groups/group_Kakapo/Project/bug_256/bcrick_14_042_segmented.tif\n",
      "Segmented image saved to /dtu/3d-imaging-center/courses/02510/groups/group_Kakapo/Project/bug_256/bcrick_7_028_segmented.tif\n"
     ]
    },
    {
     "name": "stderr",
     "output_type": "stream",
     "text": [
      "/tmp/ipykernel_30121/4256171944.py:7: UserWarning: /dtu/3d-imaging-center/courses/02510/groups/group_Kakapo/Project/bug_256/bcrick_8_020_segmented.tif is a low contrast image\n",
      "  io.imsave(save_path, segmented_img.astype(np.uint8) * 255)\n"
     ]
    },
    {
     "name": "stdout",
     "output_type": "stream",
     "text": [
      "Segmented image saved to /dtu/3d-imaging-center/courses/02510/groups/group_Kakapo/Project/bug_256/bcrick_8_020_segmented.tif\n",
      "Segmented image saved to /dtu/3d-imaging-center/courses/02510/groups/group_Kakapo/Project/bug_256/bcrick_2_039_segmented.tif\n",
      "Segmented image saved to /dtu/3d-imaging-center/courses/02510/groups/group_Kakapo/Project/bug_256/bcrick_12_032_segmented.tif\n",
      "Segmented image saved to /dtu/3d-imaging-center/courses/02510/groups/group_Kakapo/Project/bug_256/bcrick_4_015_segmented.tif\n"
     ]
    },
    {
     "name": "stderr",
     "output_type": "stream",
     "text": [
      "/tmp/ipykernel_30121/4256171944.py:7: UserWarning: /dtu/3d-imaging-center/courses/02510/groups/group_Kakapo/Project/bug_256/bcrick_17_010_segmented.tif is a low contrast image\n",
      "  io.imsave(save_path, segmented_img.astype(np.uint8) * 255)\n"
     ]
    },
    {
     "name": "stdout",
     "output_type": "stream",
     "text": [
      "Segmented image saved to /dtu/3d-imaging-center/courses/02510/groups/group_Kakapo/Project/bug_256/bcrick_17_010_segmented.tif\n",
      "Segmented image saved to /dtu/3d-imaging-center/courses/02510/groups/group_Kakapo/Project/bug_256/bcrick_14_001_segmented.tif\n",
      "Segmented image saved to /dtu/3d-imaging-center/courses/02510/groups/group_Kakapo/Project/bug_256/bcrick_1_006_segmented.tif\n",
      "Segmented image saved to /dtu/3d-imaging-center/courses/02510/groups/group_Kakapo/Project/bug_256/bcrick_2_037_segmented.tif\n",
      "Segmented image saved to /dtu/3d-imaging-center/courses/02510/groups/group_Kakapo/Project/bug_256/bcrick_11_023_segmented.tif\n",
      "Segmented image saved to /dtu/3d-imaging-center/courses/02510/groups/group_Kakapo/Project/bug_256/bcrick_7_013_segmented.tif\n"
     ]
    },
    {
     "name": "stderr",
     "output_type": "stream",
     "text": [
      "/tmp/ipykernel_30121/4256171944.py:7: UserWarning: /dtu/3d-imaging-center/courses/02510/groups/group_Kakapo/Project/bug_256/bcrick_17_009_segmented.tif is a low contrast image\n",
      "  io.imsave(save_path, segmented_img.astype(np.uint8) * 255)\n"
     ]
    },
    {
     "name": "stdout",
     "output_type": "stream",
     "text": [
      "Segmented image saved to /dtu/3d-imaging-center/courses/02510/groups/group_Kakapo/Project/bug_256/bcrick_17_009_segmented.tif\n",
      "Segmented image saved to /dtu/3d-imaging-center/courses/02510/groups/group_Kakapo/Project/bug_256/bcrick_1_005_segmented.tif\n"
     ]
    },
    {
     "name": "stderr",
     "output_type": "stream",
     "text": [
      "/tmp/ipykernel_30121/4256171944.py:7: UserWarning: /dtu/3d-imaging-center/courses/02510/groups/group_Kakapo/Project/bug_256/bcrick_5_007_segmented.tif is a low contrast image\n",
      "  io.imsave(save_path, segmented_img.astype(np.uint8) * 255)\n"
     ]
    },
    {
     "name": "stdout",
     "output_type": "stream",
     "text": [
      "Segmented image saved to /dtu/3d-imaging-center/courses/02510/groups/group_Kakapo/Project/bug_256/bcrick_5_007_segmented.tif\n",
      "Segmented image saved to /dtu/3d-imaging-center/courses/02510/groups/group_Kakapo/Project/bug_256/bcrick_11_010_segmented.tif\n",
      "Segmented image saved to /dtu/3d-imaging-center/courses/02510/groups/group_Kakapo/Project/bug_256/bcrick_15_042_segmented.tif\n",
      "Segmented image saved to /dtu/3d-imaging-center/courses/02510/groups/group_Kakapo/Project/bug_256/bcrick_8_009_segmented.tif\n",
      "Segmented image saved to /dtu/3d-imaging-center/courses/02510/groups/group_Kakapo/Project/bug_256/bcrick_4_011_segmented.tif\n",
      "Segmented image saved to /dtu/3d-imaging-center/courses/02510/groups/group_Kakapo/Project/bug_256/bcrick_2_036_segmented.tif\n",
      "Segmented image saved to /dtu/3d-imaging-center/courses/02510/groups/group_Kakapo/Project/bug_256/bcrick_14_031_segmented.tif\n",
      "Segmented image saved to /dtu/3d-imaging-center/courses/02510/groups/group_Kakapo/Project/bug_256/bcrick_14_035_segmented.tif\n",
      "Segmented image saved to /dtu/3d-imaging-center/courses/02510/groups/group_Kakapo/Project/bug_256/bcrick_2_030_segmented.tif\n",
      "Segmented image saved to /dtu/3d-imaging-center/courses/02510/groups/group_Kakapo/Project/bug_256/bcrick_1_031_segmented.tif\n",
      "Segmented image saved to /dtu/3d-imaging-center/courses/02510/groups/group_Kakapo/Project/bug_256/bcrick_8_016_segmented.tif\n",
      "Segmented image saved to /dtu/3d-imaging-center/courses/02510/groups/group_Kakapo/Project/bug_256/bcrick_3_006_segmented.tif\n",
      "Segmented image saved to /dtu/3d-imaging-center/courses/02510/groups/group_Kakapo/Project/bug_256/bcrick_12_016_segmented.tif\n",
      "Segmented image saved to /dtu/3d-imaging-center/courses/02510/groups/group_Kakapo/Project/bug_256/bcrick_11_028_segmented.tif\n",
      "Segmented image saved to /dtu/3d-imaging-center/courses/02510/groups/group_Kakapo/Project/bug_256/bcrick_8_033_segmented.tif\n",
      "Segmented image saved to /dtu/3d-imaging-center/courses/02510/groups/group_Kakapo/Project/bug_256/bcrick_1_011_segmented.tif\n",
      "Segmented image saved to /dtu/3d-imaging-center/courses/02510/groups/group_Kakapo/Project/bug_256/bcrick_6_017_segmented.tif\n",
      "Segmented image saved to /dtu/3d-imaging-center/courses/02510/groups/group_Kakapo/Project/bug_256/bcrick_13_017_segmented.tif\n",
      "Segmented image saved to /dtu/3d-imaging-center/courses/02510/groups/group_Kakapo/Project/bug_256/bcrick_2_029_segmented.tif\n",
      "Segmented image saved to /dtu/3d-imaging-center/courses/02510/groups/group_Kakapo/Project/bug_256/bcrick_1_009_segmented.tif\n",
      "Segmented image saved to /dtu/3d-imaging-center/courses/02510/groups/group_Kakapo/Project/bug_256/bcrick_7_039_segmented.tif\n",
      "Segmented image saved to /dtu/3d-imaging-center/courses/02510/groups/group_Kakapo/Project/bug_256/bcrick_17_026_segmented.tif\n",
      "Segmented image saved to /dtu/3d-imaging-center/courses/02510/groups/group_Kakapo/Project/bug_256/bcrick_12_042_segmented.tif\n",
      "Segmented image saved to /dtu/3d-imaging-center/courses/02510/groups/group_Kakapo/Project/bug_256/bcrick_14_017_segmented.tif\n",
      "Segmented image saved to /dtu/3d-imaging-center/courses/02510/groups/group_Kakapo/Project/bug_256/bcrick_5_014_segmented.tif\n",
      "Segmented image saved to /dtu/3d-imaging-center/courses/02510/groups/group_Kakapo/Project/bug_256/bcrick_3_042_segmented.tif\n",
      "Segmented image saved to /dtu/3d-imaging-center/courses/02510/groups/group_Kakapo/Project/bug_256/bcrick_3_031_segmented.tif\n",
      "Segmented image saved to /dtu/3d-imaging-center/courses/02510/groups/group_Kakapo/Project/bug_256/bcrick_7_012_segmented.tif\n",
      "Segmented image saved to /dtu/3d-imaging-center/courses/02510/groups/group_Kakapo/Project/bug_256/bcrick_3_004_segmented.tif\n",
      "Segmented image saved to /dtu/3d-imaging-center/courses/02510/groups/group_Kakapo/Project/bug_256/bcrick_17_027_segmented.tif\n"
     ]
    },
    {
     "name": "stderr",
     "output_type": "stream",
     "text": [
      "/tmp/ipykernel_30121/4256171944.py:7: UserWarning: /dtu/3d-imaging-center/courses/02510/groups/group_Kakapo/Project/bug_256/bcrick_17_027_segmented.tif is a low contrast image\n",
      "  io.imsave(save_path, segmented_img.astype(np.uint8) * 255)\n"
     ]
    },
    {
     "name": "stdout",
     "output_type": "stream",
     "text": [
      "Segmented image saved to /dtu/3d-imaging-center/courses/02510/groups/group_Kakapo/Project/bug_256/bcrick_17_012_segmented.tif\n",
      "Segmented image saved to /dtu/3d-imaging-center/courses/02510/groups/group_Kakapo/Project/bug_256/bcrick_11_004_segmented.tif\n"
     ]
    },
    {
     "name": "stderr",
     "output_type": "stream",
     "text": [
      "/tmp/ipykernel_30121/4256171944.py:7: UserWarning: /dtu/3d-imaging-center/courses/02510/groups/group_Kakapo/Project/bug_256/bcrick_17_028_segmented.tif is a low contrast image\n",
      "  io.imsave(save_path, segmented_img.astype(np.uint8) * 255)\n"
     ]
    },
    {
     "name": "stdout",
     "output_type": "stream",
     "text": [
      "Segmented image saved to /dtu/3d-imaging-center/courses/02510/groups/group_Kakapo/Project/bug_256/bcrick_17_028_segmented.tif\n",
      "Segmented image saved to /dtu/3d-imaging-center/courses/02510/groups/group_Kakapo/Project/bug_256/bcrick_16_016_segmented.tif\n"
     ]
    },
    {
     "name": "stderr",
     "output_type": "stream",
     "text": [
      "/tmp/ipykernel_30121/4256171944.py:7: UserWarning: /dtu/3d-imaging-center/courses/02510/groups/group_Kakapo/Project/bug_256/bcrick_16_016_segmented.tif is a low contrast image\n",
      "  io.imsave(save_path, segmented_img.astype(np.uint8) * 255)\n"
     ]
    },
    {
     "name": "stdout",
     "output_type": "stream",
     "text": [
      "Segmented image saved to /dtu/3d-imaging-center/courses/02510/groups/group_Kakapo/Project/bug_256/bcrick_15_006_segmented.tif\n",
      "Segmented image saved to /dtu/3d-imaging-center/courses/02510/groups/group_Kakapo/Project/bug_256/bcrick_7_008_segmented.tif\n",
      "Segmented image saved to /dtu/3d-imaging-center/courses/02510/groups/group_Kakapo/Project/bug_256/bcrick_3_032_segmented.tif\n",
      "Segmented image saved to /dtu/3d-imaging-center/courses/02510/groups/group_Kakapo/Project/bug_256/bcrick_16_031_segmented.tif\n",
      "Segmented image saved to /dtu/3d-imaging-center/courses/02510/groups/group_Kakapo/Project/bug_256/bcrick_3_023_segmented.tif\n",
      "Segmented image saved to /dtu/3d-imaging-center/courses/02510/groups/group_Kakapo/Project/bug_256/bcrick_2_003_segmented.tif\n",
      "Segmented image saved to /dtu/3d-imaging-center/courses/02510/groups/group_Kakapo/Project/bug_256/bcrick_15_025_segmented.tif\n",
      "Segmented image saved to /dtu/3d-imaging-center/courses/02510/groups/group_Kakapo/Project/bug_256/bcrick_16_010_segmented.tif\n",
      "Segmented image saved to /dtu/3d-imaging-center/courses/02510/groups/group_Kakapo/Project/bug_256/bcrick_14_036_segmented.tif\n",
      "Segmented image saved to /dtu/3d-imaging-center/courses/02510/groups/group_Kakapo/Project/bug_256/bcrick_4_005_segmented.tif\n",
      "Segmented image saved to /dtu/3d-imaging-center/courses/02510/groups/group_Kakapo/Project/bug_256/bcrick_14_002_segmented.tif\n",
      "Segmented image saved to /dtu/3d-imaging-center/courses/02510/groups/group_Kakapo/Project/bug_256/bcrick_1_004_segmented.tif\n",
      "Segmented image saved to /dtu/3d-imaging-center/courses/02510/groups/group_Kakapo/Project/bug_256/bcrick_2_011_segmented.tif\n",
      "Segmented image saved to /dtu/3d-imaging-center/courses/02510/groups/group_Kakapo/Project/bug_256/bcrick_5_021_segmented.tif\n",
      "Segmented image saved to /dtu/3d-imaging-center/courses/02510/groups/group_Kakapo/Project/bug_256/bcrick_14_038_segmented.tif\n"
     ]
    },
    {
     "name": "stderr",
     "output_type": "stream",
     "text": [
      "/tmp/ipykernel_30121/4256171944.py:7: UserWarning: /dtu/3d-imaging-center/courses/02510/groups/group_Kakapo/Project/bug_256/bcrick_14_038_segmented.tif is a low contrast image\n",
      "  io.imsave(save_path, segmented_img.astype(np.uint8) * 255)\n"
     ]
    },
    {
     "name": "stdout",
     "output_type": "stream",
     "text": [
      "Segmented image saved to /dtu/3d-imaging-center/courses/02510/groups/group_Kakapo/Project/bug_256/bcrick_6_004_segmented.tif\n",
      "Segmented image saved to /dtu/3d-imaging-center/courses/02510/groups/group_Kakapo/Project/bug_256/bcrick_6_036_segmented.tif\n",
      "Segmented image saved to /dtu/3d-imaging-center/courses/02510/groups/group_Kakapo/Project/bug_256/bcrick_1_000_segmented.tif\n",
      "Segmented image saved to /dtu/3d-imaging-center/courses/02510/groups/group_Kakapo/Project/bug_256/bcrick_14_006_segmented.tif\n",
      "Segmented image saved to /dtu/3d-imaging-center/courses/02510/groups/group_Kakapo/Project/bug_256/bcrick_6_026_segmented.tif\n",
      "Segmented image saved to /dtu/3d-imaging-center/courses/02510/groups/group_Kakapo/Project/bug_256/bcrick_8_037_segmented.tif\n",
      "Segmented image saved to /dtu/3d-imaging-center/courses/02510/groups/group_Kakapo/Project/bug_256/bcrick_11_032_segmented.tif\n",
      "Segmented image saved to /dtu/3d-imaging-center/courses/02510/groups/group_Kakapo/Project/bug_256/bcrick_16_027_segmented.tif\n",
      "Segmented image saved to /dtu/3d-imaging-center/courses/02510/groups/group_Kakapo/Project/bug_256/bcrick_12_015_segmented.tif\n",
      "Segmented image saved to /dtu/3d-imaging-center/courses/02510/groups/group_Kakapo/Project/bug_256/bcrick_9_032_segmented.tif\n",
      "Segmented image saved to /dtu/3d-imaging-center/courses/02510/groups/group_Kakapo/Project/bug_256/bcrick_2_014_segmented.tif\n",
      "Segmented image saved to /dtu/3d-imaging-center/courses/02510/groups/group_Kakapo/Project/bug_256/bcrick_13_009_segmented.tif\n",
      "Segmented image saved to /dtu/3d-imaging-center/courses/02510/groups/group_Kakapo/Project/bug_256/bcrick_14_011_segmented.tif\n",
      "Segmented image saved to /dtu/3d-imaging-center/courses/02510/groups/group_Kakapo/Project/bug_256/bcrick_14_005_segmented.tif\n",
      "Segmented image saved to /dtu/3d-imaging-center/courses/02510/groups/group_Kakapo/Project/bug_256/bcrick_4_027_segmented.tif\n",
      "Segmented image saved to /dtu/3d-imaging-center/courses/02510/groups/group_Kakapo/Project/bug_256/bcrick_9_023_segmented.tif\n",
      "Segmented image saved to /dtu/3d-imaging-center/courses/02510/groups/group_Kakapo/Project/bug_256/bcrick_6_024_segmented.tif\n",
      "Segmented image saved to /dtu/3d-imaging-center/courses/02510/groups/group_Kakapo/Project/bug_256/bcrick_15_011_segmented.tif\n",
      "Segmented image saved to /dtu/3d-imaging-center/courses/02510/groups/group_Kakapo/Project/bug_256/bcrick_11_001_segmented.tif\n",
      "Segmented image saved to /dtu/3d-imaging-center/courses/02510/groups/group_Kakapo/Project/bug_256/bcrick_3_021_segmented.tif\n",
      "Segmented image saved to /dtu/3d-imaging-center/courses/02510/groups/group_Kakapo/Project/bug_256/bcrick_11_030_segmented.tif\n",
      "Segmented image saved to /dtu/3d-imaging-center/courses/02510/groups/group_Kakapo/Project/bug_256/bcrick_13_036_segmented.tif\n"
     ]
    },
    {
     "name": "stderr",
     "output_type": "stream",
     "text": [
      "/tmp/ipykernel_30121/4256171944.py:7: UserWarning: /dtu/3d-imaging-center/courses/02510/groups/group_Kakapo/Project/bug_256/bcrick_1_042_segmented.tif is a low contrast image\n",
      "  io.imsave(save_path, segmented_img.astype(np.uint8) * 255)\n"
     ]
    },
    {
     "name": "stdout",
     "output_type": "stream",
     "text": [
      "Segmented image saved to /dtu/3d-imaging-center/courses/02510/groups/group_Kakapo/Project/bug_256/bcrick_1_042_segmented.tif\n",
      "Segmented image saved to /dtu/3d-imaging-center/courses/02510/groups/group_Kakapo/Project/bug_256/bcrick_13_039_segmented.tif\n",
      "Segmented image saved to /dtu/3d-imaging-center/courses/02510/groups/group_Kakapo/Project/bug_256/bcrick_2_012_segmented.tif\n",
      "Segmented image saved to /dtu/3d-imaging-center/courses/02510/groups/group_Kakapo/Project/bug_256/bcrick_14_034_segmented.tif\n",
      "Segmented image saved to /dtu/3d-imaging-center/courses/02510/groups/group_Kakapo/Project/bug_256/bcrick_3_038_segmented.tif\n",
      "Segmented image saved to /dtu/3d-imaging-center/courses/02510/groups/group_Kakapo/Project/bug_256/bcrick_7_006_segmented.tif\n",
      "Segmented image saved to /dtu/3d-imaging-center/courses/02510/groups/group_Kakapo/Project/bug_256/bcrick_1_034_segmented.tif\n",
      "Segmented image saved to /dtu/3d-imaging-center/courses/02510/groups/group_Kakapo/Project/bug_256/bcrick_15_012_segmented.tif\n",
      "Segmented image saved to /dtu/3d-imaging-center/courses/02510/groups/group_Kakapo/Project/bug_256/bcrick_15_032_segmented.tif\n",
      "Segmented image saved to /dtu/3d-imaging-center/courses/02510/groups/group_Kakapo/Project/bug_256/bcrick_4_029_segmented.tif\n",
      "Segmented image saved to /dtu/3d-imaging-center/courses/02510/groups/group_Kakapo/Project/bug_256/bcrick_13_030_segmented.tif\n",
      "Segmented image saved to /dtu/3d-imaging-center/courses/02510/groups/group_Kakapo/Project/bug_256/bcrick_15_001_segmented.tif\n",
      "Segmented image saved to /dtu/3d-imaging-center/courses/02510/groups/group_Kakapo/Project/bug_256/bcrick_5_000_segmented.tif\n",
      "Segmented image saved to /dtu/3d-imaging-center/courses/02510/groups/group_Kakapo/Project/bug_256/bcrick_9_005_segmented.tif\n",
      "Segmented image saved to /dtu/3d-imaging-center/courses/02510/groups/group_Kakapo/Project/bug_256/bcrick_2_035_segmented.tif\n",
      "Segmented image saved to /dtu/3d-imaging-center/courses/02510/groups/group_Kakapo/Project/bug_256/bcrick_10_038_segmented.tif\n",
      "Segmented image saved to /dtu/3d-imaging-center/courses/02510/groups/group_Kakapo/Project/bug_256/bcrick_16_034_segmented.tif\n",
      "Segmented image saved to /dtu/3d-imaging-center/courses/02510/groups/group_Kakapo/Project/bug_256/bcrick_5_010_segmented.tif\n"
     ]
    },
    {
     "name": "stderr",
     "output_type": "stream",
     "text": [
      "/tmp/ipykernel_30121/4256171944.py:7: UserWarning: /dtu/3d-imaging-center/courses/02510/groups/group_Kakapo/Project/bug_256/bcrick_5_010_segmented.tif is a low contrast image\n",
      "  io.imsave(save_path, segmented_img.astype(np.uint8) * 255)\n"
     ]
    },
    {
     "name": "stdout",
     "output_type": "stream",
     "text": [
      "Segmented image saved to /dtu/3d-imaging-center/courses/02510/groups/group_Kakapo/Project/bug_256/bcrick_11_026_segmented.tif\n",
      "Segmented image saved to /dtu/3d-imaging-center/courses/02510/groups/group_Kakapo/Project/bug_256/bcrick_15_019_segmented.tif\n",
      "Segmented image saved to /dtu/3d-imaging-center/courses/02510/groups/group_Kakapo/Project/bug_256/bcrick_7_001_segmented.tif\n",
      "Segmented image saved to /dtu/3d-imaging-center/courses/02510/groups/group_Kakapo/Project/bug_256/bcrick_15_013_segmented.tif\n",
      "Segmented image saved to /dtu/3d-imaging-center/courses/02510/groups/group_Kakapo/Project/bug_256/bcrick_11_005_segmented.tif\n",
      "Segmented image saved to /dtu/3d-imaging-center/courses/02510/groups/group_Kakapo/Project/bug_256/bcrick_14_032_segmented.tif\n",
      "Segmented image saved to /dtu/3d-imaging-center/courses/02510/groups/group_Kakapo/Project/bug_256/bcrick_12_012_segmented.tif\n",
      "Segmented image saved to /dtu/3d-imaging-center/courses/02510/groups/group_Kakapo/Project/bug_256/bcrick_6_039_segmented.tif\n",
      "Segmented image saved to /dtu/3d-imaging-center/courses/02510/groups/group_Kakapo/Project/bug_256/bcrick_15_030_segmented.tif\n",
      "Segmented image saved to /dtu/3d-imaging-center/courses/02510/groups/group_Kakapo/Project/bug_256/bcrick_12_017_segmented.tif\n",
      "Segmented image saved to /dtu/3d-imaging-center/courses/02510/groups/group_Kakapo/Project/bug_256/bcrick_7_018_segmented.tif\n",
      "Segmented image saved to /dtu/3d-imaging-center/courses/02510/groups/group_Kakapo/Project/bug_256/bcrick_13_005_segmented.tif\n",
      "Segmented image saved to /dtu/3d-imaging-center/courses/02510/groups/group_Kakapo/Project/bug_256/bcrick_12_037_segmented.tif\n",
      "Segmented image saved to /dtu/3d-imaging-center/courses/02510/groups/group_Kakapo/Project/bug_256/bcrick_8_007_segmented.tif\n",
      "Segmented image saved to /dtu/3d-imaging-center/courses/02510/groups/group_Kakapo/Project/bug_256/bcrick_11_013_segmented.tif\n",
      "Segmented image saved to /dtu/3d-imaging-center/courses/02510/groups/group_Kakapo/Project/bug_256/bcrick_11_036_segmented.tif\n",
      "Segmented image saved to /dtu/3d-imaging-center/courses/02510/groups/group_Kakapo/Project/bug_256/bcrick_7_036_segmented.tif\n",
      "Segmented image saved to /dtu/3d-imaging-center/courses/02510/groups/group_Kakapo/Project/bug_256/bcrick_9_038_segmented.tif\n",
      "Segmented image saved to /dtu/3d-imaging-center/courses/02510/groups/group_Kakapo/Project/bug_256/bcrick_9_009_segmented.tif\n",
      "Segmented image saved to /dtu/3d-imaging-center/courses/02510/groups/group_Kakapo/Project/bug_256/bcrick_6_010_segmented.tif\n",
      "Segmented image saved to /dtu/3d-imaging-center/courses/02510/groups/group_Kakapo/Project/bug_256/bcrick_1_039_segmented.tif\n",
      "Segmented image saved to /dtu/3d-imaging-center/courses/02510/groups/group_Kakapo/Project/bug_256/bcrick_2_000_segmented.tif\n"
     ]
    },
    {
     "name": "stderr",
     "output_type": "stream",
     "text": [
      "/tmp/ipykernel_30121/4256171944.py:7: UserWarning: /dtu/3d-imaging-center/courses/02510/groups/group_Kakapo/Project/bug_256/bcrick_14_041_segmented.tif is a low contrast image\n",
      "  io.imsave(save_path, segmented_img.astype(np.uint8) * 255)\n"
     ]
    },
    {
     "name": "stdout",
     "output_type": "stream",
     "text": [
      "Segmented image saved to /dtu/3d-imaging-center/courses/02510/groups/group_Kakapo/Project/bug_256/bcrick_14_041_segmented.tif\n",
      "Segmented image saved to /dtu/3d-imaging-center/courses/02510/groups/group_Kakapo/Project/bug_256/bcrick_6_043_segmented.tif\n",
      "Segmented image saved to /dtu/3d-imaging-center/courses/02510/groups/group_Kakapo/Project/bug_256/bcrick_5_019_segmented.tif\n",
      "Segmented image saved to /dtu/3d-imaging-center/courses/02510/groups/group_Kakapo/Project/bug_256/bcrick_4_008_segmented.tif\n",
      "Segmented image saved to /dtu/3d-imaging-center/courses/02510/groups/group_Kakapo/Project/bug_256/bcrick_6_008_segmented.tif\n",
      "Segmented image saved to /dtu/3d-imaging-center/courses/02510/groups/group_Kakapo/Project/bug_256/bcrick_12_030_segmented.tif\n",
      "Segmented image saved to /dtu/3d-imaging-center/courses/02510/groups/group_Kakapo/Project/bug_256/bcrick_4_034_segmented.tif\n",
      "Segmented image saved to /dtu/3d-imaging-center/courses/02510/groups/group_Kakapo/Project/bug_256/bcrick_1_036_segmented.tif\n"
     ]
    },
    {
     "name": "stderr",
     "output_type": "stream",
     "text": [
      "/tmp/ipykernel_30121/4256171944.py:7: UserWarning: /dtu/3d-imaging-center/courses/02510/groups/group_Kakapo/Project/bug_256/bcrick_1_036_segmented.tif is a low contrast image\n",
      "  io.imsave(save_path, segmented_img.astype(np.uint8) * 255)\n"
     ]
    },
    {
     "name": "stdout",
     "output_type": "stream",
     "text": [
      "Segmented image saved to /dtu/3d-imaging-center/courses/02510/groups/group_Kakapo/Project/bug_256/bcrick_13_020_segmented.tif\n",
      "Segmented image saved to /dtu/3d-imaging-center/courses/02510/groups/group_Kakapo/Project/bug_256/bcrick_1_019_segmented.tif\n",
      "Segmented image saved to /dtu/3d-imaging-center/courses/02510/groups/group_Kakapo/Project/bug_256/bcrick_11_006_segmented.tif\n",
      "Segmented image saved to /dtu/3d-imaging-center/courses/02510/groups/group_Kakapo/Project/bug_256/bcrick_4_032_segmented.tif\n",
      "Segmented image saved to /dtu/3d-imaging-center/courses/02510/groups/group_Kakapo/Project/bug_256/bcrick_13_018_segmented.tif\n",
      "Segmented image saved to /dtu/3d-imaging-center/courses/02510/groups/group_Kakapo/Project/bug_256/bcrick_1_028_segmented.tif\n",
      "Segmented image saved to /dtu/3d-imaging-center/courses/02510/groups/group_Kakapo/Project/bug_256/bcrick_16_009_segmented.tif\n",
      "Segmented image saved to /dtu/3d-imaging-center/courses/02510/groups/group_Kakapo/Project/bug_256/bcrick_16_000_segmented.tif\n",
      "Segmented image saved to /dtu/3d-imaging-center/courses/02510/groups/group_Kakapo/Project/bug_256/bcrick_16_018_segmented.tif\n",
      "Segmented image saved to /dtu/3d-imaging-center/courses/02510/groups/group_Kakapo/Project/bug_256/bcrick_7_031_segmented.tif\n",
      "Segmented image saved to /dtu/3d-imaging-center/courses/02510/groups/group_Kakapo/Project/bug_256/bcrick_15_031_segmented.tif\n",
      "Segmented image saved to /dtu/3d-imaging-center/courses/02510/groups/group_Kakapo/Project/bug_256/bcrick_10_017_segmented.tif\n",
      "Segmented image saved to /dtu/3d-imaging-center/courses/02510/groups/group_Kakapo/Project/bug_256/bcrick_6_040_segmented.tif\n",
      "Segmented image saved to /dtu/3d-imaging-center/courses/02510/groups/group_Kakapo/Project/bug_256/bcrick_7_016_segmented.tif\n",
      "Segmented image saved to /dtu/3d-imaging-center/courses/02510/groups/group_Kakapo/Project/bug_256/bcrick_13_040_segmented.tif\n",
      "Segmented image saved to /dtu/3d-imaging-center/courses/02510/groups/group_Kakapo/Project/bug_256/bcrick_5_026_segmented.tif\n"
     ]
    },
    {
     "name": "stderr",
     "output_type": "stream",
     "text": [
      "/tmp/ipykernel_30121/4256171944.py:7: UserWarning: /dtu/3d-imaging-center/courses/02510/groups/group_Kakapo/Project/bug_256/bcrick_13_007_segmented.tif is a low contrast image\n",
      "  io.imsave(save_path, segmented_img.astype(np.uint8) * 255)\n"
     ]
    },
    {
     "name": "stdout",
     "output_type": "stream",
     "text": [
      "Segmented image saved to /dtu/3d-imaging-center/courses/02510/groups/group_Kakapo/Project/bug_256/bcrick_13_007_segmented.tif\n",
      "Segmented image saved to /dtu/3d-imaging-center/courses/02510/groups/group_Kakapo/Project/bug_256/bcrick_9_035_segmented.tif\n"
     ]
    },
    {
     "name": "stderr",
     "output_type": "stream",
     "text": [
      "/tmp/ipykernel_30121/4256171944.py:7: UserWarning: /dtu/3d-imaging-center/courses/02510/groups/group_Kakapo/Project/bug_256/bcrick_16_003_segmented.tif is a low contrast image\n",
      "  io.imsave(save_path, segmented_img.astype(np.uint8) * 255)\n"
     ]
    },
    {
     "name": "stdout",
     "output_type": "stream",
     "text": [
      "Segmented image saved to /dtu/3d-imaging-center/courses/02510/groups/group_Kakapo/Project/bug_256/bcrick_16_003_segmented.tif\n",
      "Segmented image saved to /dtu/3d-imaging-center/courses/02510/groups/group_Kakapo/Project/bug_256/bcrick_2_006_segmented.tif\n",
      "Segmented image saved to /dtu/3d-imaging-center/courses/02510/groups/group_Kakapo/Project/bug_256/bcrick_4_043_segmented.tif\n",
      "Segmented image saved to /dtu/3d-imaging-center/courses/02510/groups/group_Kakapo/Project/bug_256/bcrick_9_026_segmented.tif\n",
      "Segmented image saved to /dtu/3d-imaging-center/courses/02510/groups/group_Kakapo/Project/bug_256/bcrick_1_041_segmented.tif\n",
      "Segmented image saved to /dtu/3d-imaging-center/courses/02510/groups/group_Kakapo/Project/bug_256/bcrick_7_024_segmented.tif\n",
      "Segmented image saved to /dtu/3d-imaging-center/courses/02510/groups/group_Kakapo/Project/bug_256/bcrick_4_018_segmented.tif\n",
      "Segmented image saved to /dtu/3d-imaging-center/courses/02510/groups/group_Kakapo/Project/bug_256/bcrick_4_035_segmented.tif\n",
      "Segmented image saved to /dtu/3d-imaging-center/courses/02510/groups/group_Kakapo/Project/bug_256/bcrick_16_035_segmented.tif\n",
      "Segmented image saved to /dtu/3d-imaging-center/courses/02510/groups/group_Kakapo/Project/bug_256/bcrick_7_007_segmented.tif\n"
     ]
    },
    {
     "name": "stderr",
     "output_type": "stream",
     "text": [
      "/tmp/ipykernel_30121/4256171944.py:7: UserWarning: /dtu/3d-imaging-center/courses/02510/groups/group_Kakapo/Project/bug_256/bcrick_7_007_segmented.tif is a low contrast image\n",
      "  io.imsave(save_path, segmented_img.astype(np.uint8) * 255)\n"
     ]
    },
    {
     "name": "stdout",
     "output_type": "stream",
     "text": [
      "Segmented image saved to /dtu/3d-imaging-center/courses/02510/groups/group_Kakapo/Project/bug_256/bcrick_2_015_segmented.tif\n",
      "Segmented image saved to /dtu/3d-imaging-center/courses/02510/groups/group_Kakapo/Project/bug_256/bcrick_9_001_segmented.tif\n",
      "Segmented image saved to /dtu/3d-imaging-center/courses/02510/groups/group_Kakapo/Project/bug_256/bcrick_5_020_segmented.tif\n",
      "Segmented image saved to /dtu/3d-imaging-center/courses/02510/groups/group_Kakapo/Project/bug_256/bcrick_5_037_segmented.tif\n"
     ]
    },
    {
     "name": "stderr",
     "output_type": "stream",
     "text": [
      "/tmp/ipykernel_30121/4256171944.py:7: UserWarning: /dtu/3d-imaging-center/courses/02510/groups/group_Kakapo/Project/bug_256/bcrick_11_043_segmented.tif is a low contrast image\n",
      "  io.imsave(save_path, segmented_img.astype(np.uint8) * 255)\n"
     ]
    },
    {
     "name": "stdout",
     "output_type": "stream",
     "text": [
      "Segmented image saved to /dtu/3d-imaging-center/courses/02510/groups/group_Kakapo/Project/bug_256/bcrick_11_043_segmented.tif\n",
      "Segmented image saved to /dtu/3d-imaging-center/courses/02510/groups/group_Kakapo/Project/bug_256/bcrick_3_039_segmented.tif\n",
      "Segmented image saved to /dtu/3d-imaging-center/courses/02510/groups/group_Kakapo/Project/bug_256/bcrick_6_038_segmented.tif\n",
      "Segmented image saved to /dtu/3d-imaging-center/courses/02510/groups/group_Kakapo/Project/bug_256/bcrick_10_010_segmented.tif\n",
      "Segmented image saved to /dtu/3d-imaging-center/courses/02510/groups/group_Kakapo/Project/bug_256/bcrick_15_005_segmented.tif\n"
     ]
    },
    {
     "name": "stderr",
     "output_type": "stream",
     "text": [
      "/tmp/ipykernel_30121/4256171944.py:7: UserWarning: /dtu/3d-imaging-center/courses/02510/groups/group_Kakapo/Project/bug_256/bcrick_15_005_segmented.tif is a low contrast image\n",
      "  io.imsave(save_path, segmented_img.astype(np.uint8) * 255)\n"
     ]
    },
    {
     "name": "stdout",
     "output_type": "stream",
     "text": [
      "Segmented image saved to /dtu/3d-imaging-center/courses/02510/groups/group_Kakapo/Project/bug_256/bcrick_6_033_segmented.tif\n",
      "Segmented image saved to /dtu/3d-imaging-center/courses/02510/groups/group_Kakapo/Project/bug_256/bcrick_12_040_segmented.tif\n",
      "Segmented image saved to /dtu/3d-imaging-center/courses/02510/groups/group_Kakapo/Project/bug_256/bcrick_7_000_segmented.tif\n",
      "Segmented image saved to /dtu/3d-imaging-center/courses/02510/groups/group_Kakapo/Project/bug_256/bcrick_4_006_segmented.tif\n",
      "Segmented image saved to /dtu/3d-imaging-center/courses/02510/groups/group_Kakapo/Project/bug_256/bcrick_11_016_segmented.tif\n",
      "Segmented image saved to /dtu/3d-imaging-center/courses/02510/groups/group_Kakapo/Project/bug_256/bcrick_8_021_segmented.tif\n",
      "Segmented image saved to /dtu/3d-imaging-center/courses/02510/groups/group_Kakapo/Project/bug_256/bcrick_12_010_segmented.tif\n",
      "Segmented image saved to /dtu/3d-imaging-center/courses/02510/groups/group_Kakapo/Project/bug_256/bcrick_11_017_segmented.tif\n",
      "Segmented image saved to /dtu/3d-imaging-center/courses/02510/groups/group_Kakapo/Project/bug_256/bcrick_4_016_segmented.tif\n",
      "Segmented image saved to /dtu/3d-imaging-center/courses/02510/groups/group_Kakapo/Project/bug_256/bcrick_9_031_segmented.tif\n"
     ]
    },
    {
     "name": "stderr",
     "output_type": "stream",
     "text": [
      "/tmp/ipykernel_30121/4256171944.py:7: UserWarning: /dtu/3d-imaging-center/courses/02510/groups/group_Kakapo/Project/bug_256/bcrick_9_031_segmented.tif is a low contrast image\n",
      "  io.imsave(save_path, segmented_img.astype(np.uint8) * 255)\n"
     ]
    },
    {
     "name": "stdout",
     "output_type": "stream",
     "text": [
      "Segmented image saved to /dtu/3d-imaging-center/courses/02510/groups/group_Kakapo/Project/bug_256/bcrick_2_007_segmented.tif\n",
      "Segmented image saved to /dtu/3d-imaging-center/courses/02510/groups/group_Kakapo/Project/bug_256/bcrick_16_037_segmented.tif\n",
      "Segmented image saved to /dtu/3d-imaging-center/courses/02510/groups/group_Kakapo/Project/bug_256/bcrick_14_029_segmented.tif\n",
      "Segmented image saved to /dtu/3d-imaging-center/courses/02510/groups/group_Kakapo/Project/bug_256/bcrick_15_021_segmented.tif\n"
     ]
    },
    {
     "name": "stderr",
     "output_type": "stream",
     "text": [
      "/tmp/ipykernel_30121/4256171944.py:7: UserWarning: /dtu/3d-imaging-center/courses/02510/groups/group_Kakapo/Project/bug_256/bcrick_12_000_segmented.tif is a low contrast image\n",
      "  io.imsave(save_path, segmented_img.astype(np.uint8) * 255)\n",
      "/tmp/ipykernel_30121/4256171944.py:7: UserWarning: /dtu/3d-imaging-center/courses/02510/groups/group_Kakapo/Project/bug_256/bcrick_17_002_segmented.tif is a low contrast image\n",
      "  io.imsave(save_path, segmented_img.astype(np.uint8) * 255)\n"
     ]
    },
    {
     "name": "stdout",
     "output_type": "stream",
     "text": [
      "Segmented image saved to /dtu/3d-imaging-center/courses/02510/groups/group_Kakapo/Project/bug_256/bcrick_12_000_segmented.tif\n",
      "Segmented image saved to /dtu/3d-imaging-center/courses/02510/groups/group_Kakapo/Project/bug_256/bcrick_17_002_segmented.tif\n",
      "Segmented image saved to /dtu/3d-imaging-center/courses/02510/groups/group_Kakapo/Project/bug_256/bcrick_8_012_segmented.tif\n"
     ]
    },
    {
     "name": "stderr",
     "output_type": "stream",
     "text": [
      "/tmp/ipykernel_30121/4256171944.py:7: UserWarning: /dtu/3d-imaging-center/courses/02510/groups/group_Kakapo/Project/bug_256/bcrick_16_001_segmented.tif is a low contrast image\n",
      "  io.imsave(save_path, segmented_img.astype(np.uint8) * 255)\n"
     ]
    },
    {
     "name": "stdout",
     "output_type": "stream",
     "text": [
      "Segmented image saved to /dtu/3d-imaging-center/courses/02510/groups/group_Kakapo/Project/bug_256/bcrick_16_001_segmented.tif\n",
      "Segmented image saved to /dtu/3d-imaging-center/courses/02510/groups/group_Kakapo/Project/bug_256/bcrick_14_021_segmented.tif\n",
      "Segmented image saved to /dtu/3d-imaging-center/courses/02510/groups/group_Kakapo/Project/bug_256/bcrick_13_010_segmented.tif\n",
      "Segmented image saved to /dtu/3d-imaging-center/courses/02510/groups/group_Kakapo/Project/bug_256/bcrick_4_013_segmented.tif\n",
      "Segmented image saved to /dtu/3d-imaging-center/courses/02510/groups/group_Kakapo/Project/bug_256/bcrick_1_003_segmented.tif\n",
      "Segmented image saved to /dtu/3d-imaging-center/courses/02510/groups/group_Kakapo/Project/bug_256/bcrick_16_024_segmented.tif\n",
      "Segmented image saved to /dtu/3d-imaging-center/courses/02510/groups/group_Kakapo/Project/bug_256/bcrick_1_032_segmented.tif\n",
      "Segmented image saved to /dtu/3d-imaging-center/courses/02510/groups/group_Kakapo/Project/bug_256/bcrick_9_024_segmented.tif\n",
      "Segmented image saved to /dtu/3d-imaging-center/courses/02510/groups/group_Kakapo/Project/bug_256/bcrick_15_010_segmented.tif\n",
      "Segmented image saved to /dtu/3d-imaging-center/courses/02510/groups/group_Kakapo/Project/bug_256/bcrick_15_036_segmented.tif\n",
      "Segmented image saved to /dtu/3d-imaging-center/courses/02510/groups/group_Kakapo/Project/bug_256/bcrick_13_043_segmented.tif\n",
      "Segmented image saved to /dtu/3d-imaging-center/courses/02510/groups/group_Kakapo/Project/bug_256/bcrick_5_028_segmented.tif\n",
      "Segmented image saved to /dtu/3d-imaging-center/courses/02510/groups/group_Kakapo/Project/bug_256/bcrick_8_015_segmented.tif\n",
      "Segmented image saved to /dtu/3d-imaging-center/courses/02510/groups/group_Kakapo/Project/bug_256/bcrick_13_034_segmented.tif\n",
      "Segmented image saved to /dtu/3d-imaging-center/courses/02510/groups/group_Kakapo/Project/bug_256/bcrick_15_002_segmented.tif\n",
      "Segmented image saved to /dtu/3d-imaging-center/courses/02510/groups/group_Kakapo/Project/bug_256/bcrick_12_020_segmented.tif\n",
      "Segmented image saved to /dtu/3d-imaging-center/courses/02510/groups/group_Kakapo/Project/bug_256/bcrick_8_018_segmented.tif\n",
      "Segmented image saved to /dtu/3d-imaging-center/courses/02510/groups/group_Kakapo/Project/bug_256/bcrick_8_034_segmented.tif\n",
      "Segmented image saved to /dtu/3d-imaging-center/courses/02510/groups/group_Kakapo/Project/bug_256/bcrick_16_038_segmented.tif\n"
     ]
    },
    {
     "name": "stderr",
     "output_type": "stream",
     "text": [
      "/tmp/ipykernel_30121/4256171944.py:7: UserWarning: /dtu/3d-imaging-center/courses/02510/groups/group_Kakapo/Project/bug_256/bcrick_8_008_segmented.tif is a low contrast image\n",
      "  io.imsave(save_path, segmented_img.astype(np.uint8) * 255)\n"
     ]
    },
    {
     "name": "stdout",
     "output_type": "stream",
     "text": [
      "Segmented image saved to /dtu/3d-imaging-center/courses/02510/groups/group_Kakapo/Project/bug_256/bcrick_8_008_segmented.tif\n",
      "Segmented image saved to /dtu/3d-imaging-center/courses/02510/groups/group_Kakapo/Project/bug_256/bcrick_14_004_segmented.tif\n",
      "Segmented image saved to /dtu/3d-imaging-center/courses/02510/groups/group_Kakapo/Project/bug_256/bcrick_13_013_segmented.tif\n",
      "Segmented image saved to /dtu/3d-imaging-center/courses/02510/groups/group_Kakapo/Project/bug_256/bcrick_7_004_segmented.tif\n",
      "Segmented image saved to /dtu/3d-imaging-center/courses/02510/groups/group_Kakapo/Project/bug_256/bcrick_7_014_segmented.tif\n",
      "Segmented image saved to /dtu/3d-imaging-center/courses/02510/groups/group_Kakapo/Project/bug_256/bcrick_12_038_segmented.tif\n",
      "Segmented image saved to /dtu/3d-imaging-center/courses/02510/groups/group_Kakapo/Project/bug_256/bcrick_13_016_segmented.tif\n",
      "Segmented image saved to /dtu/3d-imaging-center/courses/02510/groups/group_Kakapo/Project/bug_256/bcrick_10_013_segmented.tif\n"
     ]
    },
    {
     "name": "stderr",
     "output_type": "stream",
     "text": [
      "/tmp/ipykernel_30121/4256171944.py:7: UserWarning: /dtu/3d-imaging-center/courses/02510/groups/group_Kakapo/Project/bug_256/bcrick_10_013_segmented.tif is a low contrast image\n",
      "  io.imsave(save_path, segmented_img.astype(np.uint8) * 255)\n"
     ]
    },
    {
     "name": "stdout",
     "output_type": "stream",
     "text": [
      "Segmented image saved to /dtu/3d-imaging-center/courses/02510/groups/group_Kakapo/Project/bug_256/bcrick_11_033_segmented.tif\n",
      "Segmented image saved to /dtu/3d-imaging-center/courses/02510/groups/group_Kakapo/Project/bug_256/bcrick_13_028_segmented.tif\n",
      "Segmented image saved to /dtu/3d-imaging-center/courses/02510/groups/group_Kakapo/Project/bug_256/bcrick_8_026_segmented.tif\n",
      "Segmented image saved to /dtu/3d-imaging-center/courses/02510/groups/group_Kakapo/Project/bug_256/bcrick_16_040_segmented.tif\n",
      "Segmented image saved to /dtu/3d-imaging-center/courses/02510/groups/group_Kakapo/Project/bug_256/bcrick_3_010_segmented.tif\n",
      "Segmented image saved to /dtu/3d-imaging-center/courses/02510/groups/group_Kakapo/Project/bug_256/bcrick_17_008_segmented.tif\n"
     ]
    },
    {
     "name": "stderr",
     "output_type": "stream",
     "text": [
      "/tmp/ipykernel_30121/4256171944.py:7: UserWarning: /dtu/3d-imaging-center/courses/02510/groups/group_Kakapo/Project/bug_256/bcrick_17_008_segmented.tif is a low contrast image\n",
      "  io.imsave(save_path, segmented_img.astype(np.uint8) * 255)\n",
      "/tmp/ipykernel_30121/4256171944.py:7: UserWarning: /dtu/3d-imaging-center/courses/02510/groups/group_Kakapo/Project/bug_256/bcrick_11_040_segmented.tif is a low contrast image\n",
      "  io.imsave(save_path, segmented_img.astype(np.uint8) * 255)\n"
     ]
    },
    {
     "name": "stdout",
     "output_type": "stream",
     "text": [
      "Segmented image saved to /dtu/3d-imaging-center/courses/02510/groups/group_Kakapo/Project/bug_256/bcrick_11_040_segmented.tif\n",
      "Segmented image saved to /dtu/3d-imaging-center/courses/02510/groups/group_Kakapo/Project/bug_256/bcrick_10_035_segmented.tif\n"
     ]
    },
    {
     "name": "stderr",
     "output_type": "stream",
     "text": [
      "/tmp/ipykernel_30121/4256171944.py:7: UserWarning: /dtu/3d-imaging-center/courses/02510/groups/group_Kakapo/Project/bug_256/bcrick_11_044_segmented.tif is a low contrast image\n",
      "  io.imsave(save_path, segmented_img.astype(np.uint8) * 255)\n",
      "/tmp/ipykernel_30121/4256171944.py:7: UserWarning: /dtu/3d-imaging-center/courses/02510/groups/group_Kakapo/Project/bug_256/bcrick_15_024_segmented.tif is a low contrast image\n",
      "  io.imsave(save_path, segmented_img.astype(np.uint8) * 255)\n"
     ]
    },
    {
     "name": "stdout",
     "output_type": "stream",
     "text": [
      "Segmented image saved to /dtu/3d-imaging-center/courses/02510/groups/group_Kakapo/Project/bug_256/bcrick_11_044_segmented.tif\n",
      "Segmented image saved to /dtu/3d-imaging-center/courses/02510/groups/group_Kakapo/Project/bug_256/bcrick_15_024_segmented.tif\n",
      "Segmented image saved to /dtu/3d-imaging-center/courses/02510/groups/group_Kakapo/Project/bug_256/bcrick_15_039_segmented.tif\n",
      "Segmented image saved to /dtu/3d-imaging-center/courses/02510/groups/group_Kakapo/Project/bug_256/bcrick_4_036_segmented.tif\n",
      "Segmented image saved to /dtu/3d-imaging-center/courses/02510/groups/group_Kakapo/Project/bug_256/bcrick_8_004_segmented.tif\n",
      "Segmented image saved to /dtu/3d-imaging-center/courses/02510/groups/group_Kakapo/Project/bug_256/bcrick_5_030_segmented.tif\n",
      "Segmented image saved to /dtu/3d-imaging-center/courses/02510/groups/group_Kakapo/Project/bug_256/bcrick_12_043_segmented.tif\n",
      "Segmented image saved to /dtu/3d-imaging-center/courses/02510/groups/group_Kakapo/Project/bug_256/bcrick_17_025_segmented.tif\n",
      "Segmented image saved to /dtu/3d-imaging-center/courses/02510/groups/group_Kakapo/Project/bug_256/bcrick_6_016_segmented.tif\n",
      "Segmented image saved to /dtu/3d-imaging-center/courses/02510/groups/group_Kakapo/Project/bug_256/bcrick_4_007_segmented.tif\n",
      "Segmented image saved to /dtu/3d-imaging-center/courses/02510/groups/group_Kakapo/Project/bug_256/bcrick_13_012_segmented.tif\n",
      "Segmented image saved to /dtu/3d-imaging-center/courses/02510/groups/group_Kakapo/Project/bug_256/bcrick_9_041_segmented.tif\n"
     ]
    },
    {
     "name": "stderr",
     "output_type": "stream",
     "text": [
      "/tmp/ipykernel_30121/4256171944.py:7: UserWarning: /dtu/3d-imaging-center/courses/02510/groups/group_Kakapo/Project/bug_256/bcrick_9_041_segmented.tif is a low contrast image\n",
      "  io.imsave(save_path, segmented_img.astype(np.uint8) * 255)\n"
     ]
    },
    {
     "name": "stdout",
     "output_type": "stream",
     "text": [
      "Segmented image saved to /dtu/3d-imaging-center/courses/02510/groups/group_Kakapo/Project/bug_256/bcrick_1_020_segmented.tif\n",
      "Segmented image saved to /dtu/3d-imaging-center/courses/02510/groups/group_Kakapo/Project/bug_256/bcrick_15_023_segmented.tif\n",
      "Segmented image saved to /dtu/3d-imaging-center/courses/02510/groups/group_Kakapo/Project/bug_256/bcrick_13_022_segmented.tif\n",
      "Segmented image saved to /dtu/3d-imaging-center/courses/02510/groups/group_Kakapo/Project/bug_256/bcrick_15_034_segmented.tif\n",
      "Segmented image saved to /dtu/3d-imaging-center/courses/02510/groups/group_Kakapo/Project/bug_256/bcrick_14_003_segmented.tif\n",
      "Segmented image saved to /dtu/3d-imaging-center/courses/02510/groups/group_Kakapo/Project/bug_256/bcrick_12_034_segmented.tif\n",
      "Segmented image saved to /dtu/3d-imaging-center/courses/02510/groups/group_Kakapo/Project/bug_256/bcrick_4_026_segmented.tif\n",
      "Segmented image saved to /dtu/3d-imaging-center/courses/02510/groups/group_Kakapo/Project/bug_256/bcrick_10_008_segmented.tif\n",
      "Segmented image saved to /dtu/3d-imaging-center/courses/02510/groups/group_Kakapo/Project/bug_256/bcrick_7_025_segmented.tif\n",
      "Segmented image saved to /dtu/3d-imaging-center/courses/02510/groups/group_Kakapo/Project/bug_256/bcrick_9_018_segmented.tif\n",
      "Segmented image saved to /dtu/3d-imaging-center/courses/02510/groups/group_Kakapo/Project/bug_256/bcrick_1_024_segmented.tif\n",
      "Segmented image saved to /dtu/3d-imaging-center/courses/02510/groups/group_Kakapo/Project/bug_256/bcrick_15_037_segmented.tif\n",
      "Segmented image saved to /dtu/3d-imaging-center/courses/02510/groups/group_Kakapo/Project/bug_256/bcrick_12_029_segmented.tif\n"
     ]
    },
    {
     "name": "stderr",
     "output_type": "stream",
     "text": [
      "/tmp/ipykernel_30121/4256171944.py:7: UserWarning: /dtu/3d-imaging-center/courses/02510/groups/group_Kakapo/Project/bug_256/bcrick_15_008_segmented.tif is a low contrast image\n",
      "  io.imsave(save_path, segmented_img.astype(np.uint8) * 255)\n"
     ]
    },
    {
     "name": "stdout",
     "output_type": "stream",
     "text": [
      "Segmented image saved to /dtu/3d-imaging-center/courses/02510/groups/group_Kakapo/Project/bug_256/bcrick_15_008_segmented.tif\n",
      "Segmented image saved to /dtu/3d-imaging-center/courses/02510/groups/group_Kakapo/Project/bug_256/bcrick_4_009_segmented.tif\n",
      "Segmented image saved to /dtu/3d-imaging-center/courses/02510/groups/group_Kakapo/Project/bug_256/bcrick_17_004_segmented.tif\n",
      "Segmented image saved to /dtu/3d-imaging-center/courses/02510/groups/group_Kakapo/Project/bug_256/bcrick_5_040_segmented.tif\n"
     ]
    },
    {
     "name": "stderr",
     "output_type": "stream",
     "text": [
      "/tmp/ipykernel_30121/4256171944.py:7: UserWarning: /dtu/3d-imaging-center/courses/02510/groups/group_Kakapo/Project/bug_256/bcrick_5_040_segmented.tif is a low contrast image\n",
      "  io.imsave(save_path, segmented_img.astype(np.uint8) * 255)\n"
     ]
    },
    {
     "name": "stdout",
     "output_type": "stream",
     "text": [
      "Segmented image saved to /dtu/3d-imaging-center/courses/02510/groups/group_Kakapo/Project/bug_256/bcrick_8_001_segmented.tif\n",
      "Segmented image saved to /dtu/3d-imaging-center/courses/02510/groups/group_Kakapo/Project/bug_256/bcrick_9_002_segmented.tif\n",
      "Segmented image saved to /dtu/3d-imaging-center/courses/02510/groups/group_Kakapo/Project/bug_256/bcrick_16_022_segmented.tif\n",
      "Segmented image saved to /dtu/3d-imaging-center/courses/02510/groups/group_Kakapo/Project/bug_256/bcrick_3_041_segmented.tif\n",
      "Segmented image saved to /dtu/3d-imaging-center/courses/02510/groups/group_Kakapo/Project/bug_256/bcrick_17_011_segmented.tif\n",
      "Segmented image saved to /dtu/3d-imaging-center/courses/02510/groups/group_Kakapo/Project/bug_256/bcrick_9_012_segmented.tif\n"
     ]
    },
    {
     "name": "stderr",
     "output_type": "stream",
     "text": [
      "/tmp/ipykernel_30121/4256171944.py:7: UserWarning: /dtu/3d-imaging-center/courses/02510/groups/group_Kakapo/Project/bug_256/bcrick_14_027_segmented.tif is a low contrast image\n",
      "  io.imsave(save_path, segmented_img.astype(np.uint8) * 255)\n"
     ]
    },
    {
     "name": "stdout",
     "output_type": "stream",
     "text": [
      "Segmented image saved to /dtu/3d-imaging-center/courses/02510/groups/group_Kakapo/Project/bug_256/bcrick_14_027_segmented.tif\n",
      "Segmented image saved to /dtu/3d-imaging-center/courses/02510/groups/group_Kakapo/Project/bug_256/bcrick_3_036_segmented.tif\n"
     ]
    },
    {
     "name": "stderr",
     "output_type": "stream",
     "text": [
      "/tmp/ipykernel_30121/4256171944.py:7: UserWarning: /dtu/3d-imaging-center/courses/02510/groups/group_Kakapo/Project/bug_256/bcrick_10_021_segmented.tif is a low contrast image\n",
      "  io.imsave(save_path, segmented_img.astype(np.uint8) * 255)\n"
     ]
    },
    {
     "name": "stdout",
     "output_type": "stream",
     "text": [
      "Segmented image saved to /dtu/3d-imaging-center/courses/02510/groups/group_Kakapo/Project/bug_256/bcrick_10_021_segmented.tif\n",
      "Segmented image saved to /dtu/3d-imaging-center/courses/02510/groups/group_Kakapo/Project/bug_256/bcrick_14_007_segmented.tif\n",
      "Segmented image saved to /dtu/3d-imaging-center/courses/02510/groups/group_Kakapo/Project/bug_256/bcrick_5_027_segmented.tif\n",
      "Segmented image saved to /dtu/3d-imaging-center/courses/02510/groups/group_Kakapo/Project/bug_256/bcrick_11_029_segmented.tif\n",
      "Segmented image saved to /dtu/3d-imaging-center/courses/02510/groups/group_Kakapo/Project/bug_256/bcrick_12_031_segmented.tif\n",
      "Segmented image saved to /dtu/3d-imaging-center/courses/02510/groups/group_Kakapo/Project/bug_256/bcrick_16_039_segmented.tif\n"
     ]
    },
    {
     "name": "stderr",
     "output_type": "stream",
     "text": [
      "/tmp/ipykernel_30121/4256171944.py:7: UserWarning: /dtu/3d-imaging-center/courses/02510/groups/group_Kakapo/Project/bug_256/bcrick_16_039_segmented.tif is a low contrast image\n",
      "  io.imsave(save_path, segmented_img.astype(np.uint8) * 255)\n"
     ]
    },
    {
     "name": "stdout",
     "output_type": "stream",
     "text": [
      "Segmented image saved to /dtu/3d-imaging-center/courses/02510/groups/group_Kakapo/Project/bug_256/bcrick_10_031_segmented.tif\n",
      "Segmented image saved to /dtu/3d-imaging-center/courses/02510/groups/group_Kakapo/Project/bug_256/bcrick_6_014_segmented.tif\n",
      "Segmented image saved to /dtu/3d-imaging-center/courses/02510/groups/group_Kakapo/Project/bug_256/bcrick_9_015_segmented.tif\n",
      "Segmented image saved to /dtu/3d-imaging-center/courses/02510/groups/group_Kakapo/Project/bug_256/bcrick_16_002_segmented.tif\n",
      "Segmented image saved to /dtu/3d-imaging-center/courses/02510/groups/group_Kakapo/Project/bug_256/bcrick_12_005_segmented.tif\n",
      "Segmented image saved to /dtu/3d-imaging-center/courses/02510/groups/group_Kakapo/Project/bug_256/bcrick_6_020_segmented.tif\n",
      "Segmented image saved to /dtu/3d-imaging-center/courses/02510/groups/group_Kakapo/Project/bug_256/bcrick_11_000_segmented.tif\n",
      "Segmented image saved to /dtu/3d-imaging-center/courses/02510/groups/group_Kakapo/Project/bug_256/bcrick_9_020_segmented.tif\n",
      "Segmented image saved to /dtu/3d-imaging-center/courses/02510/groups/group_Kakapo/Project/bug_256/bcrick_10_027_segmented.tif\n",
      "Segmented image saved to /dtu/3d-imaging-center/courses/02510/groups/group_Kakapo/Project/bug_256/bcrick_12_009_segmented.tif\n",
      "Segmented image saved to /dtu/3d-imaging-center/courses/02510/groups/group_Kakapo/Project/bug_256/bcrick_10_022_segmented.tif\n",
      "Segmented image saved to /dtu/3d-imaging-center/courses/02510/groups/group_Kakapo/Project/bug_256/bcrick_10_036_segmented.tif\n",
      "Segmented image saved to /dtu/3d-imaging-center/courses/02510/groups/group_Kakapo/Project/bug_256/bcrick_1_014_segmented.tif\n",
      "Segmented image saved to /dtu/3d-imaging-center/courses/02510/groups/group_Kakapo/Project/bug_256/bcrick_10_041_segmented.tif\n",
      "Segmented image saved to /dtu/3d-imaging-center/courses/02510/groups/group_Kakapo/Project/bug_256/bcrick_8_002_segmented.tif\n",
      "Segmented image saved to /dtu/3d-imaging-center/courses/02510/groups/group_Kakapo/Project/bug_256/bcrick_13_001_segmented.tif\n",
      "Segmented image saved to /dtu/3d-imaging-center/courses/02510/groups/group_Kakapo/Project/bug_256/bcrick_15_009_segmented.tif\n",
      "Segmented image saved to /dtu/3d-imaging-center/courses/02510/groups/group_Kakapo/Project/bug_256/bcrick_2_017_segmented.tif\n",
      "Segmented image saved to /dtu/3d-imaging-center/courses/02510/groups/group_Kakapo/Project/bug_256/bcrick_13_038_segmented.tif\n",
      "Segmented image saved to /dtu/3d-imaging-center/courses/02510/groups/group_Kakapo/Project/bug_256/bcrick_17_006_segmented.tif\n"
     ]
    },
    {
     "name": "stderr",
     "output_type": "stream",
     "text": [
      "/tmp/ipykernel_30121/4256171944.py:7: UserWarning: /dtu/3d-imaging-center/courses/02510/groups/group_Kakapo/Project/bug_256/bcrick_17_006_segmented.tif is a low contrast image\n",
      "  io.imsave(save_path, segmented_img.astype(np.uint8) * 255)\n"
     ]
    },
    {
     "name": "stdout",
     "output_type": "stream",
     "text": [
      "Segmented image saved to /dtu/3d-imaging-center/courses/02510/groups/group_Kakapo/Project/bug_256/bcrick_9_043_segmented.tif\n",
      "Segmented image saved to /dtu/3d-imaging-center/courses/02510/groups/group_Kakapo/Project/bug_256/bcrick_5_002_segmented.tif\n"
     ]
    },
    {
     "name": "stderr",
     "output_type": "stream",
     "text": [
      "/tmp/ipykernel_30121/4256171944.py:7: UserWarning: /dtu/3d-imaging-center/courses/02510/groups/group_Kakapo/Project/bug_256/bcrick_5_004_segmented.tif is a low contrast image\n",
      "  io.imsave(save_path, segmented_img.astype(np.uint8) * 255)\n"
     ]
    },
    {
     "name": "stdout",
     "output_type": "stream",
     "text": [
      "Segmented image saved to /dtu/3d-imaging-center/courses/02510/groups/group_Kakapo/Project/bug_256/bcrick_5_004_segmented.tif\n",
      "Segmented image saved to /dtu/3d-imaging-center/courses/02510/groups/group_Kakapo/Project/bug_256/bcrick_15_033_segmented.tif\n",
      "Segmented image saved to /dtu/3d-imaging-center/courses/02510/groups/group_Kakapo/Project/bug_256/bcrick_7_009_segmented.tif\n",
      "Segmented image saved to /dtu/3d-imaging-center/courses/02510/groups/group_Kakapo/Project/bug_256/bcrick_14_040_segmented.tif\n",
      "Segmented image saved to /dtu/3d-imaging-center/courses/02510/groups/group_Kakapo/Project/bug_256/bcrick_12_018_segmented.tif\n",
      "Segmented image saved to /dtu/3d-imaging-center/courses/02510/groups/group_Kakapo/Project/bug_256/bcrick_7_011_segmented.tif\n"
     ]
    },
    {
     "name": "stderr",
     "output_type": "stream",
     "text": [
      "/tmp/ipykernel_30121/4256171944.py:7: UserWarning: /dtu/3d-imaging-center/courses/02510/groups/group_Kakapo/Project/bug_256/bcrick_14_022_segmented.tif is a low contrast image\n",
      "  io.imsave(save_path, segmented_img.astype(np.uint8) * 255)\n"
     ]
    },
    {
     "name": "stdout",
     "output_type": "stream",
     "text": [
      "Segmented image saved to /dtu/3d-imaging-center/courses/02510/groups/group_Kakapo/Project/bug_256/bcrick_14_022_segmented.tif\n",
      "Segmented image saved to /dtu/3d-imaging-center/courses/02510/groups/group_Kakapo/Project/bug_256/bcrick_15_022_segmented.tif\n",
      "Segmented image saved to /dtu/3d-imaging-center/courses/02510/groups/group_Kakapo/Project/bug_256/bcrick_8_017_segmented.tif\n",
      "Segmented image saved to /dtu/3d-imaging-center/courses/02510/groups/group_Kakapo/Project/bug_256/bcrick_16_021_segmented.tif\n",
      "Segmented image saved to /dtu/3d-imaging-center/courses/02510/groups/group_Kakapo/Project/bug_256/bcrick_13_023_segmented.tif\n",
      "Segmented image saved to /dtu/3d-imaging-center/courses/02510/groups/group_Kakapo/Project/bug_256/bcrick_6_018_segmented.tif\n",
      "Segmented image saved to /dtu/3d-imaging-center/courses/02510/groups/group_Kakapo/Project/bug_256/bcrick_10_016_segmented.tif\n",
      "Segmented image saved to /dtu/3d-imaging-center/courses/02510/groups/group_Kakapo/Project/bug_256/bcrick_15_041_segmented.tif\n",
      "Segmented image saved to /dtu/3d-imaging-center/courses/02510/groups/group_Kakapo/Project/bug_256/bcrick_14_009_segmented.tif\n",
      "Segmented image saved to /dtu/3d-imaging-center/courses/02510/groups/group_Kakapo/Project/bug_256/bcrick_13_026_segmented.tif\n",
      "Segmented image saved to /dtu/3d-imaging-center/courses/02510/groups/group_Kakapo/Project/bug_256/bcrick_3_037_segmented.tif\n",
      "Segmented image saved to /dtu/3d-imaging-center/courses/02510/groups/group_Kakapo/Project/bug_256/bcrick_12_027_segmented.tif\n",
      "Segmented image saved to /dtu/3d-imaging-center/courses/02510/groups/group_Kakapo/Project/bug_256/bcrick_12_039_segmented.tif\n",
      "Segmented image saved to /dtu/3d-imaging-center/courses/02510/groups/group_Kakapo/Project/bug_256/bcrick_12_022_segmented.tif\n",
      "Segmented image saved to /dtu/3d-imaging-center/courses/02510/groups/group_Kakapo/Project/bug_256/bcrick_6_006_segmented.tif\n",
      "Segmented image saved to /dtu/3d-imaging-center/courses/02510/groups/group_Kakapo/Project/bug_256/bcrick_11_038_segmented.tif\n",
      "Segmented image saved to /dtu/3d-imaging-center/courses/02510/groups/group_Kakapo/Project/bug_256/bcrick_15_007_segmented.tif\n",
      "Segmented image saved to /dtu/3d-imaging-center/courses/02510/groups/group_Kakapo/Project/bug_256/bcrick_1_018_segmented.tif\n",
      "Segmented image saved to /dtu/3d-imaging-center/courses/02510/groups/group_Kakapo/Project/bug_256/bcrick_6_012_segmented.tif\n",
      "Segmented image saved to /dtu/3d-imaging-center/courses/02510/groups/group_Kakapo/Project/bug_256/bcrick_15_004_segmented.tif\n",
      "Segmented image saved to /dtu/3d-imaging-center/courses/02510/groups/group_Kakapo/Project/bug_256/bcrick_5_038_segmented.tif\n",
      "Segmented image saved to /dtu/3d-imaging-center/courses/02510/groups/group_Kakapo/Project/bug_256/bcrick_6_021_segmented.tif\n",
      "Segmented image saved to /dtu/3d-imaging-center/courses/02510/groups/group_Kakapo/Project/bug_256/bcrick_7_040_segmented.tif\n",
      "Segmented image saved to /dtu/3d-imaging-center/courses/02510/groups/group_Kakapo/Project/bug_256/bcrick_5_029_segmented.tif\n",
      "Segmented image saved to /dtu/3d-imaging-center/courses/02510/groups/group_Kakapo/Project/bug_256/bcrick_1_016_segmented.tif\n",
      "Segmented image saved to /dtu/3d-imaging-center/courses/02510/groups/group_Kakapo/Project/bug_256/bcrick_7_015_segmented.tif\n",
      "Segmented image saved to /dtu/3d-imaging-center/courses/02510/groups/group_Kakapo/Project/bug_256/bcrick_1_008_segmented.tif\n"
     ]
    },
    {
     "name": "stderr",
     "output_type": "stream",
     "text": [
      "/tmp/ipykernel_30121/4256171944.py:7: UserWarning: /dtu/3d-imaging-center/courses/02510/groups/group_Kakapo/Project/bug_256/bcrick_6_007_segmented.tif is a low contrast image\n",
      "  io.imsave(save_path, segmented_img.astype(np.uint8) * 255)\n"
     ]
    },
    {
     "name": "stdout",
     "output_type": "stream",
     "text": [
      "Segmented image saved to /dtu/3d-imaging-center/courses/02510/groups/group_Kakapo/Project/bug_256/bcrick_6_007_segmented.tif\n",
      "Segmented image saved to /dtu/3d-imaging-center/courses/02510/groups/group_Kakapo/Project/bug_256/bcrick_5_036_segmented.tif\n"
     ]
    },
    {
     "name": "stderr",
     "output_type": "stream",
     "text": [
      "/tmp/ipykernel_30121/4256171944.py:7: UserWarning: /dtu/3d-imaging-center/courses/02510/groups/group_Kakapo/Project/bug_256/bcrick_16_006_segmented.tif is a low contrast image\n",
      "  io.imsave(save_path, segmented_img.astype(np.uint8) * 255)\n"
     ]
    },
    {
     "name": "stdout",
     "output_type": "stream",
     "text": [
      "Segmented image saved to /dtu/3d-imaging-center/courses/02510/groups/group_Kakapo/Project/bug_256/bcrick_16_006_segmented.tif\n",
      "Segmented image saved to /dtu/3d-imaging-center/courses/02510/groups/group_Kakapo/Project/bug_256/bcrick_16_017_segmented.tif\n",
      "Segmented image saved to /dtu/3d-imaging-center/courses/02510/groups/group_Kakapo/Project/bug_256/bcrick_4_014_segmented.tif\n",
      "Segmented image saved to /dtu/3d-imaging-center/courses/02510/groups/group_Kakapo/Project/bug_256/bcrick_1_040_segmented.tif\n",
      "Segmented image saved to /dtu/3d-imaging-center/courses/02510/groups/group_Kakapo/Project/bug_256/bcrick_12_001_segmented.tif\n",
      "Segmented image saved to /dtu/3d-imaging-center/courses/02510/groups/group_Kakapo/Project/bug_256/bcrick_12_013_segmented.tif\n",
      "Segmented image saved to /dtu/3d-imaging-center/courses/02510/groups/group_Kakapo/Project/bug_256/bcrick_11_007_segmented.tif\n",
      "Segmented image saved to /dtu/3d-imaging-center/courses/02510/groups/group_Kakapo/Project/bug_256/bcrick_14_037_segmented.tif\n",
      "Segmented image saved to /dtu/3d-imaging-center/courses/02510/groups/group_Kakapo/Project/bug_256/bcrick_3_030_segmented.tif\n",
      "Segmented image saved to /dtu/3d-imaging-center/courses/02510/groups/group_Kakapo/Project/bug_256/bcrick_17_017_segmented.tif\n"
     ]
    },
    {
     "name": "stderr",
     "output_type": "stream",
     "text": [
      "/tmp/ipykernel_30121/4256171944.py:7: UserWarning: /dtu/3d-imaging-center/courses/02510/groups/group_Kakapo/Project/bug_256/bcrick_17_017_segmented.tif is a low contrast image\n",
      "  io.imsave(save_path, segmented_img.astype(np.uint8) * 255)\n"
     ]
    },
    {
     "name": "stdout",
     "output_type": "stream",
     "text": [
      "Segmented image saved to /dtu/3d-imaging-center/courses/02510/groups/group_Kakapo/Project/bug_256/bcrick_10_007_segmented.tif\n",
      "Segmented image saved to /dtu/3d-imaging-center/courses/02510/groups/group_Kakapo/Project/bug_256/bcrick_10_030_segmented.tif\n",
      "Segmented image saved to /dtu/3d-imaging-center/courses/02510/groups/group_Kakapo/Project/bug_256/bcrick_8_014_segmented.tif\n",
      "Segmented image saved to /dtu/3d-imaging-center/courses/02510/groups/group_Kakapo/Project/bug_256/bcrick_17_022_segmented.tif\n"
     ]
    },
    {
     "name": "stderr",
     "output_type": "stream",
     "text": [
      "/tmp/ipykernel_30121/4256171944.py:7: UserWarning: /dtu/3d-imaging-center/courses/02510/groups/group_Kakapo/Project/bug_256/bcrick_17_022_segmented.tif is a low contrast image\n",
      "  io.imsave(save_path, segmented_img.astype(np.uint8) * 255)\n"
     ]
    },
    {
     "name": "stdout",
     "output_type": "stream",
     "text": [
      "Segmented image saved to /dtu/3d-imaging-center/courses/02510/groups/group_Kakapo/Project/bug_256/bcrick_13_008_segmented.tif\n",
      "Segmented image saved to /dtu/3d-imaging-center/courses/02510/groups/group_Kakapo/Project/bug_256/bcrick_16_020_segmented.tif\n",
      "Segmented image saved to /dtu/3d-imaging-center/courses/02510/groups/group_Kakapo/Project/bug_256/bcrick_7_041_segmented.tif\n",
      "Segmented image saved to /dtu/3d-imaging-center/courses/02510/groups/group_Kakapo/Project/bug_256/bcrick_1_027_segmented.tif\n",
      "Segmented image saved to /dtu/3d-imaging-center/courses/02510/groups/group_Kakapo/Project/bug_256/bcrick_14_018_segmented.tif\n",
      "Segmented image saved to /dtu/3d-imaging-center/courses/02510/groups/group_Kakapo/Project/bug_256/bcrick_8_035_segmented.tif\n",
      "Segmented image saved to /dtu/3d-imaging-center/courses/02510/groups/group_Kakapo/Project/bug_256/bcrick_14_014_segmented.tif\n",
      "Segmented image saved to /dtu/3d-imaging-center/courses/02510/groups/group_Kakapo/Project/bug_256/bcrick_3_000_segmented.tif\n",
      "Segmented image saved to /dtu/3d-imaging-center/courses/02510/groups/group_Kakapo/Project/bug_256/bcrick_5_017_segmented.tif\n",
      "Segmented image saved to /dtu/3d-imaging-center/courses/02510/groups/group_Kakapo/Project/bug_256/bcrick_4_021_segmented.tif\n"
     ]
    },
    {
     "name": "stderr",
     "output_type": "stream",
     "text": [
      "/tmp/ipykernel_30121/4256171944.py:7: UserWarning: /dtu/3d-imaging-center/courses/02510/groups/group_Kakapo/Project/bug_256/bcrick_4_021_segmented.tif is a low contrast image\n",
      "  io.imsave(save_path, segmented_img.astype(np.uint8) * 255)\n"
     ]
    },
    {
     "name": "stdout",
     "output_type": "stream",
     "text": [
      "Segmented image saved to /dtu/3d-imaging-center/courses/02510/groups/group_Kakapo/Project/bug_256/bcrick_11_042_segmented.tif\n",
      "Segmented image saved to /dtu/3d-imaging-center/courses/02510/groups/group_Kakapo/Project/bug_256/bcrick_3_029_segmented.tif\n"
     ]
    },
    {
     "name": "stderr",
     "output_type": "stream",
     "text": [
      "/tmp/ipykernel_30121/4256171944.py:7: UserWarning: /dtu/3d-imaging-center/courses/02510/groups/group_Kakapo/Project/bug_256/bcrick_17_018_segmented.tif is a low contrast image\n",
      "  io.imsave(save_path, segmented_img.astype(np.uint8) * 255)\n"
     ]
    },
    {
     "name": "stdout",
     "output_type": "stream",
     "text": [
      "Segmented image saved to /dtu/3d-imaging-center/courses/02510/groups/group_Kakapo/Project/bug_256/bcrick_17_018_segmented.tif\n",
      "Segmented image saved to /dtu/3d-imaging-center/courses/02510/groups/group_Kakapo/Project/bug_256/bcrick_14_013_segmented.tif\n"
     ]
    },
    {
     "name": "stderr",
     "output_type": "stream",
     "text": [
      "/tmp/ipykernel_30121/4256171944.py:7: UserWarning: /dtu/3d-imaging-center/courses/02510/groups/group_Kakapo/Project/bug_256/bcrick_17_000_segmented.tif is a low contrast image\n",
      "  io.imsave(save_path, segmented_img.astype(np.uint8) * 255)\n"
     ]
    },
    {
     "name": "stdout",
     "output_type": "stream",
     "text": [
      "Segmented image saved to /dtu/3d-imaging-center/courses/02510/groups/group_Kakapo/Project/bug_256/bcrick_17_000_segmented.tif\n",
      "Segmented image saved to /dtu/3d-imaging-center/courses/02510/groups/group_Kakapo/Project/bug_256/bcrick_12_041_segmented.tif\n",
      "Segmented image saved to /dtu/3d-imaging-center/courses/02510/groups/group_Kakapo/Project/bug_256/bcrick_2_016_segmented.tif\n",
      "Segmented image saved to /dtu/3d-imaging-center/courses/02510/groups/group_Kakapo/Project/bug_256/bcrick_1_035_segmented.tif\n",
      "Segmented image saved to /dtu/3d-imaging-center/courses/02510/groups/group_Kakapo/Project/bug_256/bcrick_13_042_segmented.tif\n",
      "Segmented image saved to /dtu/3d-imaging-center/courses/02510/groups/group_Kakapo/Project/bug_256/bcrick_10_004_segmented.tif\n",
      "Segmented image saved to /dtu/3d-imaging-center/courses/02510/groups/group_Kakapo/Project/bug_256/bcrick_14_008_segmented.tif\n",
      "Segmented image saved to /dtu/3d-imaging-center/courses/02510/groups/group_Kakapo/Project/bug_256/bcrick_13_019_segmented.tif\n",
      "Segmented image saved to /dtu/3d-imaging-center/courses/02510/groups/group_Kakapo/Project/bug_256/bcrick_3_033_segmented.tif\n",
      "Segmented image saved to /dtu/3d-imaging-center/courses/02510/groups/group_Kakapo/Project/bug_256/bcrick_11_003_segmented.tif\n",
      "Segmented image saved to /dtu/3d-imaging-center/courses/02510/groups/group_Kakapo/Project/bug_256/bcrick_8_032_segmented.tif\n",
      "Segmented image saved to /dtu/3d-imaging-center/courses/02510/groups/group_Kakapo/Project/bug_256/bcrick_6_029_segmented.tif\n",
      "Segmented image saved to /dtu/3d-imaging-center/courses/02510/groups/group_Kakapo/Project/bug_256/bcrick_10_040_segmented.tif\n",
      "Segmented image saved to /dtu/3d-imaging-center/courses/02510/groups/group_Kakapo/Project/bug_256/bcrick_7_022_segmented.tif\n",
      "Segmented image saved to /dtu/3d-imaging-center/courses/02510/groups/group_Kakapo/Project/bug_256/bcrick_4_017_segmented.tif\n",
      "Segmented image saved to /dtu/3d-imaging-center/courses/02510/groups/group_Kakapo/Project/bug_256/bcrick_3_008_segmented.tif\n",
      "Segmented image saved to /dtu/3d-imaging-center/courses/02510/groups/group_Kakapo/Project/bug_256/bcrick_16_014_segmented.tif\n",
      "Segmented image saved to /dtu/3d-imaging-center/courses/02510/groups/group_Kakapo/Project/bug_256/bcrick_9_004_segmented.tif\n",
      "Segmented image saved to /dtu/3d-imaging-center/courses/02510/groups/group_Kakapo/Project/bug_256/bcrick_9_013_segmented.tif\n",
      "Segmented image saved to /dtu/3d-imaging-center/courses/02510/groups/group_Kakapo/Project/bug_256/bcrick_10_009_segmented.tif\n",
      "Segmented image saved to /dtu/3d-imaging-center/courses/02510/groups/group_Kakapo/Project/bug_256/bcrick_6_013_segmented.tif\n",
      "Segmented image saved to /dtu/3d-imaging-center/courses/02510/groups/group_Kakapo/Project/bug_256/bcrick_11_012_segmented.tif\n",
      "Segmented image saved to /dtu/3d-imaging-center/courses/02510/groups/group_Kakapo/Project/bug_256/bcrick_14_028_segmented.tif\n",
      "Segmented image saved to /dtu/3d-imaging-center/courses/02510/groups/group_Kakapo/Project/bug_256/bcrick_9_017_segmented.tif\n"
     ]
    },
    {
     "name": "stderr",
     "output_type": "stream",
     "text": [
      "/tmp/ipykernel_30121/4256171944.py:7: UserWarning: /dtu/3d-imaging-center/courses/02510/groups/group_Kakapo/Project/bug_256/bcrick_9_017_segmented.tif is a low contrast image\n",
      "  io.imsave(save_path, segmented_img.astype(np.uint8) * 255)\n"
     ]
    },
    {
     "name": "stdout",
     "output_type": "stream",
     "text": [
      "Segmented image saved to /dtu/3d-imaging-center/courses/02510/groups/group_Kakapo/Project/bug_256/bcrick_7_005_segmented.tif\n",
      "Segmented image saved to /dtu/3d-imaging-center/courses/02510/groups/group_Kakapo/Project/bug_256/bcrick_17_023_segmented.tif\n"
     ]
    },
    {
     "name": "stderr",
     "output_type": "stream",
     "text": [
      "/tmp/ipykernel_30121/4256171944.py:7: UserWarning: /dtu/3d-imaging-center/courses/02510/groups/group_Kakapo/Project/bug_256/bcrick_17_023_segmented.tif is a low contrast image\n",
      "  io.imsave(save_path, segmented_img.astype(np.uint8) * 255)\n"
     ]
    },
    {
     "name": "stdout",
     "output_type": "stream",
     "text": [
      "Segmented image saved to /dtu/3d-imaging-center/courses/02510/groups/group_Kakapo/Project/bug_256/bcrick_5_008_segmented.tif\n",
      "Segmented image saved to /dtu/3d-imaging-center/courses/02510/groups/group_Kakapo/Project/bug_256/bcrick_10_001_segmented.tif\n"
     ]
    },
    {
     "name": "stderr",
     "output_type": "stream",
     "text": [
      "/tmp/ipykernel_30121/4256171944.py:7: UserWarning: /dtu/3d-imaging-center/courses/02510/groups/group_Kakapo/Project/bug_256/bcrick_13_004_segmented.tif is a low contrast image\n",
      "  io.imsave(save_path, segmented_img.astype(np.uint8) * 255)\n"
     ]
    },
    {
     "name": "stdout",
     "output_type": "stream",
     "text": [
      "Segmented image saved to /dtu/3d-imaging-center/courses/02510/groups/group_Kakapo/Project/bug_256/bcrick_13_004_segmented.tif\n",
      "Segmented image saved to /dtu/3d-imaging-center/courses/02510/groups/group_Kakapo/Project/bug_256/bcrick_16_026_segmented.tif\n",
      "Segmented image saved to /dtu/3d-imaging-center/courses/02510/groups/group_Kakapo/Project/bug_256/bcrick_1_002_segmented.tif\n",
      "Segmented image saved to /dtu/3d-imaging-center/courses/02510/groups/group_Kakapo/Project/bug_256/bcrick_4_031_segmented.tif\n",
      "Segmented image saved to /dtu/3d-imaging-center/courses/02510/groups/group_Kakapo/Project/bug_256/bcrick_14_033_segmented.tif\n",
      "Segmented image saved to /dtu/3d-imaging-center/courses/02510/groups/group_Kakapo/Project/bug_256/bcrick_3_011_segmented.tif\n",
      "Segmented image saved to /dtu/3d-imaging-center/courses/02510/groups/group_Kakapo/Project/bug_256/bcrick_2_040_segmented.tif\n",
      "Segmented image saved to /dtu/3d-imaging-center/courses/02510/groups/group_Kakapo/Project/bug_256/bcrick_3_003_segmented.tif\n",
      "Segmented image saved to /dtu/3d-imaging-center/courses/02510/groups/group_Kakapo/Project/bug_256/bcrick_12_035_segmented.tif\n",
      "Segmented image saved to /dtu/3d-imaging-center/courses/02510/groups/group_Kakapo/Project/bug_256/bcrick_10_025_segmented.tif\n",
      "Segmented image saved to /dtu/3d-imaging-center/courses/02510/groups/group_Kakapo/Project/bug_256/bcrick_13_000_segmented.tif\n",
      "Segmented image saved to /dtu/3d-imaging-center/courses/02510/groups/group_Kakapo/Project/bug_256/bcrick_16_015_segmented.tif\n",
      "Segmented image saved to /dtu/3d-imaging-center/courses/02510/groups/group_Kakapo/Project/bug_256/bcrick_8_025_segmented.tif\n",
      "Segmented image saved to /dtu/3d-imaging-center/courses/02510/groups/group_Kakapo/Project/bug_256/bcrick_9_036_segmented.tif\n",
      "Segmented image saved to /dtu/3d-imaging-center/courses/02510/groups/group_Kakapo/Project/bug_256/bcrick_14_023_segmented.tif\n",
      "Segmented image saved to /dtu/3d-imaging-center/courses/02510/groups/group_Kakapo/Project/bug_256/bcrick_9_000_segmented.tif\n",
      "Segmented image saved to /dtu/3d-imaging-center/courses/02510/groups/group_Kakapo/Project/bug_256/bcrick_4_000_segmented.tif\n",
      "Segmented image saved to /dtu/3d-imaging-center/courses/02510/groups/group_Kakapo/Project/bug_256/bcrick_14_010_segmented.tif\n",
      "Segmented image saved to /dtu/3d-imaging-center/courses/02510/groups/group_Kakapo/Project/bug_256/bcrick_6_041_segmented.tif\n",
      "Segmented image saved to /dtu/3d-imaging-center/courses/02510/groups/group_Kakapo/Project/bug_256/bcrick_2_027_segmented.tif\n"
     ]
    },
    {
     "name": "stderr",
     "output_type": "stream",
     "text": [
      "/tmp/ipykernel_30121/4256171944.py:7: UserWarning: /dtu/3d-imaging-center/courses/02510/groups/group_Kakapo/Project/bug_256/bcrick_6_042_segmented.tif is a low contrast image\n",
      "  io.imsave(save_path, segmented_img.astype(np.uint8) * 255)\n"
     ]
    },
    {
     "name": "stdout",
     "output_type": "stream",
     "text": [
      "Segmented image saved to /dtu/3d-imaging-center/courses/02510/groups/group_Kakapo/Project/bug_256/bcrick_6_042_segmented.tif\n",
      "Segmented image saved to /dtu/3d-imaging-center/courses/02510/groups/group_Kakapo/Project/bug_256/bcrick_5_018_segmented.tif\n",
      "Segmented image saved to /dtu/3d-imaging-center/courses/02510/groups/group_Kakapo/Project/bug_256/bcrick_4_020_segmented.tif\n",
      "Segmented image saved to /dtu/3d-imaging-center/courses/02510/groups/group_Kakapo/Project/bug_256/bcrick_11_034_segmented.tif\n",
      "Segmented image saved to /dtu/3d-imaging-center/courses/02510/groups/group_Kakapo/Project/bug_256/bcrick_3_009_segmented.tif\n",
      "Segmented image saved to /dtu/3d-imaging-center/courses/02510/groups/group_Kakapo/Project/bug_256/bcrick_4_030_segmented.tif\n",
      "Segmented image saved to /dtu/3d-imaging-center/courses/02510/groups/group_Kakapo/Project/bug_256/bcrick_4_023_segmented.tif\n",
      "Segmented image saved to /dtu/3d-imaging-center/courses/02510/groups/group_Kakapo/Project/bug_256/bcrick_16_023_segmented.tif\n",
      "Segmented image saved to /dtu/3d-imaging-center/courses/02510/groups/group_Kakapo/Project/bug_256/bcrick_10_039_segmented.tif\n",
      "Segmented image saved to /dtu/3d-imaging-center/courses/02510/groups/group_Kakapo/Project/bug_256/bcrick_16_032_segmented.tif\n",
      "Segmented image saved to /dtu/3d-imaging-center/courses/02510/groups/group_Kakapo/Project/bug_256/bcrick_9_008_segmented.tif\n",
      "Segmented image saved to /dtu/3d-imaging-center/courses/02510/groups/group_Kakapo/Project/bug_256/bcrick_5_001_segmented.tif\n",
      "Segmented image saved to /dtu/3d-imaging-center/courses/02510/groups/group_Kakapo/Project/bug_256/bcrick_10_005_segmented.tif\n",
      "Segmented image saved to /dtu/3d-imaging-center/courses/02510/groups/group_Kakapo/Project/bug_256/bcrick_15_028_segmented.tif\n"
     ]
    }
   ],
   "source": [
    "# Function to load and segment an image, then save the segmented version\n",
    "def segment_and_save_image(image_path, save_dir):\n",
    "    img = tiff.imread(image_path)\n",
    "    otsu = threshold_otsu(img)\n",
    "    segmented_img = img > otsu\n",
    "    save_path = os.path.join(save_dir, os.path.basename(image_path).replace('.tif', '_segmented.tif'))\n",
    "    io.imsave(save_path, segmented_img.astype(np.uint8) * 255)\n",
    "    print(f\"Segmented image saved to {save_path}\")\n",
    "\n",
    "# Make sure the output directory exists\n",
    "output_dir = '/dtu/3d-imaging-center/courses/02510/groups/group_Kakapo/Project/bug_256/'\n",
    "os.makedirs(output_dir, exist_ok=True)\n",
    "\n",
    "# Process each image in the directory\n",
    "for filename in os.listdir(DATA_PATH):\n",
    "    if filename.endswith('.tif'):\n",
    "        file_path = os.path.join(DATA_PATH, filename)\n",
    "        segment_and_save_image(file_path, output_dir)"
   ]
  },
  {
   "cell_type": "code",
   "execution_count": 18,
   "id": "392824f8-8720-429a-b21e-342b3a1c6f30",
   "metadata": {},
   "outputs": [
    {
     "name": "stdout",
     "output_type": "stream",
     "text": [
      "Data successfully split and copied to respective folders.\n"
     ]
    }
   ],
   "source": [
    "# Load data\n",
    "DATA_PATH  = '/dtu/3d-imaging-center/courses/02510/groups/group_Kakapo/Project/'\n",
    "IMAGE_DIR = 'bug_256/AC/'\n",
    "LABEL_DIR = 'bug_256/'\n",
    "#-----Old testing images-----\n",
    "# TRAIN_IMAGE = 'train/bcrick_10_000.tif'\n",
    "# TRAIN_LABEL = 'train/bcrick_10_000_annotated.tif'\n",
    "# VAL_IMAGE = 'val/bcrick_10_001.tif'\n",
    "# VAL_LABEL = 'val/bcrick_10_001_annotated.tif'\n",
    "for split in ['train', 'val', 'test']:\n",
    "    os.makedirs(join(DATA_PATH, IMAGE_DIR, split), exist_ok=True)\n",
    "    os.makedirs(join(DATA_PATH, LABEL_DIR, split), exist_ok=True)\n",
    "\n",
    "# Load all file names\n",
    "image_files = sorted(glob(join(DATA_PATH, IMAGE_DIR, '*.tif')))\n",
    "label_files = sorted(glob(join(DATA_PATH, LABEL_DIR, '*.tif')))\n",
    "\n",
    "# Split data into train, val, test\n",
    "train_images, test_images, train_labels, test_labels = skms.train_test_split(\n",
    "    image_files, label_files, test_size=0.3, random_state=42)\n",
    "\n",
    "# Further split the test set into validation and actual test sets\n",
    "val_images, test_images, val_labels, test_labels = skms.train_test_split(\n",
    "    test_images, test_labels, test_size=0.5, random_state=42)\n",
    "\n",
    "#Function to copy files to their new location----inabled\n",
    "def copy_files(files, labels, split):\n",
    "    for img, lbl in zip(files, labels):\n",
    "        # Copy images\n",
    "        dest_img = join(DATA_PATH, IMAGE_DIR, split, os.path.basename(img))\n",
    "        copy2(img, dest_img)\n",
    "        # Copy labels\n",
    "        dest_lbl = join(DATA_PATH, LABEL_DIR, split, os.path.basename(lbl))\n",
    "        copy2(lbl, dest_lbl)\n",
    "\n",
    "# Copy files to their respective directories\n",
    "copy_files(train_images, train_labels, 'train')\n",
    "copy_files(val_images, val_labels, 'val')\n",
    "copy_files(test_images, test_labels, 'test')\n",
    "\n",
    "print(\"Data successfully split and copied to respective folders.\")"
   ]
  },
  {
   "cell_type": "code",
   "execution_count": null,
   "id": "c820f6fb-bd84-42a8-b889-a60c944ce9d9",
   "metadata": {},
   "outputs": [],
   "source": []
  }
 ],
 "metadata": {
  "kernelspec": {
   "display_name": "Python 3 (ipykernel)",
   "language": "python",
   "name": "python3"
  },
  "language_info": {
   "codemirror_mode": {
    "name": "ipython",
    "version": 3
   },
   "file_extension": ".py",
   "mimetype": "text/x-python",
   "name": "python",
   "nbconvert_exporter": "python",
   "pygments_lexer": "ipython3",
   "version": "3.11.6"
  }
 },
 "nbformat": 4,
 "nbformat_minor": 5
}
